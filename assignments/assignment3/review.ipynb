{
 "cells": [
  {
   "cell_type": "markdown",
   "id": "322c6d06",
   "metadata": {},
   "source": [
    "# Python variables cheat sheet"
   ]
  },
  {
   "cell_type": "markdown",
   "id": "21aecaab",
   "metadata": {},
   "source": [
    "## Variable types"
   ]
  },
  {
   "cell_type": "code",
   "execution_count": 1,
   "id": "d4628b1c",
   "metadata": {},
   "outputs": [
    {
     "name": "stdout",
     "output_type": "stream",
     "text": [
      "<class 'str'> <class 'int'> <class 'float'> <class 'bool'>\n"
     ]
    }
   ],
   "source": [
    "name = \"John Doe\"  # string (text data)\n",
    "id = 2  # integer (no decimal)\n",
    "height = 5.93  # float (decimal)\n",
    "study_complete = True  # boolean (True or False)\n",
    "print(type(name), type(id), type(height), type(study_complete))"
   ]
  },
  {
   "cell_type": "markdown",
   "id": "d6e5a1c1",
   "metadata": {},
   "source": [
    "## Math"
   ]
  },
  {
   "cell_type": "code",
   "execution_count": 2,
   "id": "8a14d015",
   "metadata": {},
   "outputs": [
    {
     "name": "stdout",
     "output_type": "stream",
     "text": [
      "23\n",
      "32\n",
      "4 8 16\n",
      "3.141592653589793 2.718281828459045\n",
      "7.38905609893065 0.5403023058681398\n"
     ]
    }
   ],
   "source": [
    "import math  # import the math module for additional variables and functions\n",
    "print(3 + 5 * 4)  # addition and multiplication\n",
    "print((3 + 5) * 4)  # grouping using parentheses\n",
    "print(2 ** 2, 2 ** 3, 2 ** 4)  # powers calculated using **\n",
    "print(math.pi, math.e)  # special variables in the math module\n",
    "print(math.exp(2), math.cos(1))  # special math functions"
   ]
  },
  {
   "cell_type": "markdown",
   "id": "af2d2d9b",
   "metadata": {},
   "source": [
    "## Displaying variables"
   ]
  },
  {
   "cell_type": "code",
   "execution_count": 3,
   "id": "9401f596",
   "metadata": {},
   "outputs": [
    {
     "name": "stdout",
     "output_type": "stream",
     "text": [
      "2\n",
      "5.93 True\n",
      "5.93, True\n"
     ]
    },
    {
     "data": {
      "text/plain": [
       "'John Doe'"
      ]
     },
     "execution_count": 3,
     "metadata": {},
     "output_type": "execute_result"
    }
   ],
   "source": [
    "print(id)  # can use print to display a variable as a string\n",
    "print(height, study_complete)  # print multiple variables\n",
    "print(height, study_complete, sep=\", \")  # default separator is a space\n",
    "name  # last variable in a Jupyter cell is displayed even without print"
   ]
  },
  {
   "cell_type": "markdown",
   "id": "bcccfa4c",
   "metadata": {},
   "source": [
    "## F-strings"
   ]
  },
  {
   "cell_type": "code",
   "execution_count": 6,
   "id": "d793a932",
   "metadata": {},
   "outputs": [
    {
     "name": "stdout",
     "output_type": "stream",
     "text": [
      "Hi there, John Doe.\n",
      "id=2, height=5.93\n",
      "sub-02: 5.9m\n"
     ]
    }
   ],
   "source": [
    "print(f\"Hi there, {name}.\")  # interpolate variables in curly braces\n",
    "print(f\"{id=}, {height=}\")  # if variable name followed by =, will show name also\n",
    "print(f\"sub-{id:02d}: {height:.1f}m\")  # optional format specifiers after :"
   ]
  },
  {
   "cell_type": "markdown",
   "id": "970ac39a",
   "metadata": {},
   "source": [
    "## Lists"
   ]
  },
  {
   "cell_type": "code",
   "execution_count": 7,
   "id": "3fc10fdd",
   "metadata": {},
   "outputs": [],
   "source": [
    "list_of_strings = [\"a\", \"b\", \"c\"]  # can store strings\n",
    "list_of_ints = [1, 2, 3]  # can store integers\n",
    "list_of_floats = [1.1, 2.2, 3.3]  # can store floats\n",
    "list_of_bools = [True, False, False, True]  # can store booleans\n",
    "mixed_list = [\"a\", 1, 1.1, True]  # separate data by commas and put between []"
   ]
  },
  {
   "cell_type": "code",
   "execution_count": 11,
   "id": "6fe9233c",
   "metadata": {},
   "outputs": [
    {
     "name": "stdout",
     "output_type": "stream",
     "text": [
      "3\n",
      "[3, 2, 1, 0]\n",
      "4\n"
     ]
    }
   ],
   "source": [
    "new_list = [3, 2, 1]\n",
    "print(len(new_list))  # len function gets the length of a list\n",
    "new_list.append(0)  # append method adds an item to the end\n",
    "print(new_list)  # list is now modified\n",
    "print(len(new_list))  # modified list is longer"
   ]
  },
  {
   "cell_type": "code",
   "execution_count": 13,
   "id": "96c2def7",
   "metadata": {},
   "outputs": [
    {
     "data": {
      "text/plain": [
       "[1, 2, 3, 4]"
      ]
     },
     "execution_count": 13,
     "metadata": {},
     "output_type": "execute_result"
    }
   ],
   "source": [
    "list1 = [1, 2]\n",
    "list2 = [3, 4]\n",
    "list1 + list2  # concatenate lists using +"
   ]
  },
  {
   "cell_type": "markdown",
   "id": "66ae6cf1",
   "metadata": {},
   "source": [
    "## Indexing\n",
    "\n",
    "```\n",
    "list:  [  1,  2,  3,  4,  5  ]\n",
    "index: [  0   1   2   3   4  ]\n",
    "slice: [0   1   2   3   4   5]\n",
    "```"
   ]
  },
  {
   "cell_type": "code",
   "execution_count": 16,
   "id": "5c3cbe1c",
   "metadata": {},
   "outputs": [
    {
     "name": "stdout",
     "output_type": "stream",
     "text": [
      "2\n",
      "5\n",
      "[1, 2, 7, 4, 5]\n"
     ]
    }
   ],
   "source": [
    "list3 = [1, 2, 3, 4, 5]\n",
    "print(list3[1])  # indexing with [] gets item at that position\n",
    "print(list3[-1])  # negative indices count from the end\n",
    "list3[2] = 7  # indexing on left, then =, then value, changes the list\n",
    "print(list3)  # list is now modified"
   ]
  },
  {
   "cell_type": "code",
   "execution_count": 17,
   "id": "ef41a5c3",
   "metadata": {},
   "outputs": [
    {
     "name": "stdout",
     "output_type": "stream",
     "text": [
      "[1, 2, 7]\n",
      "[1, 2]\n",
      "[4, 5]\n",
      "[4, 5]\n"
     ]
    }
   ],
   "source": [
    "print(list3[0:3])  # slicing gets part of a list\n",
    "print(list3[:2])  # if start omitted, start from the first item\n",
    "print(list3[3:])  # if end omitted, go until the last item\n",
    "print(list3[-2:])  # use negative indices to start from the end"
   ]
  }
 ],
 "metadata": {
  "kernelspec": {
   "display_name": "datascipsych",
   "language": "python",
   "name": "datascipsych"
  },
  "language_info": {
   "codemirror_mode": {
    "name": "ipython",
    "version": 3
   },
   "file_extension": ".py",
   "mimetype": "text/x-python",
   "name": "python",
   "nbconvert_exporter": "python",
   "pygments_lexer": "ipython3",
   "version": "3.12.10"
  }
 },
 "nbformat": 4,
 "nbformat_minor": 5
}
