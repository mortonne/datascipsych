{
 "cells": [
  {
   "cell_type": "markdown",
   "id": "e29faf80-5bd6-4725-b63b-4e84f02c26c2",
   "metadata": {
    "editable": true,
    "slideshow": {
     "slide_type": ""
    },
    "tags": []
   },
   "source": [
    "# Assignment 4\n",
    "\n",
    "Please fill in blanks in the *Answer* sections of this notebook. To check your answer for a problem, run the Setup, Answer, and Result sections. DO NOT MODIFY SETUP OR RESULT CELLS. See the [README](https://github.com/mortonne/datascipsych) for instructions on setting up a Python environment to run this notebook.\n",
    "\n",
    "Write your answers for each problem. Then restart the kernel, run all cells, and then save the notebook. Upload your notebook to Canvas.\n",
    "\n",
    "If you get stuck, read through the other notebooks in this directory, ask us for help in class, or ask other students for help in class or on the weekly discussion board."
   ]
  },
  {
   "cell_type": "markdown",
   "id": "d3243f40-989f-4544-9493-0a0377962ad1",
   "metadata": {
    "editable": true,
    "slideshow": {
     "slide_type": ""
    },
    "tags": []
   },
   "source": [
    "## Problem: creating a function (2 points)\n",
    "Write a function called `mult_pi` that takes in some number and multiplies it by pi. Hint: you will need to import a module. Include a docstring that says \"Multiply by pi.\" 1 point for writing the function correctly; 1 point for including the docstring correctly."
   ]
  },
  {
   "cell_type": "markdown",
   "id": "2ba42562-db94-40bf-9f40-c5d032c82240",
   "metadata": {
    "editable": true,
    "slideshow": {
     "slide_type": ""
    },
    "tags": []
   },
   "source": [
    "### Setup"
   ]
  },
  {
   "cell_type": "code",
   "execution_count": 71,
   "id": "fe2c9292-107c-4eee-b88c-58504eeab7ab",
   "metadata": {
    "editable": true,
    "slideshow": {
     "slide_type": ""
    },
    "tags": []
   },
   "outputs": [],
   "source": [
    "mult_pi = None"
   ]
  },
  {
   "cell_type": "markdown",
   "id": "5be13dad-a807-4303-8d30-d8aaea1b2e77",
   "metadata": {
    "editable": true,
    "slideshow": {
     "slide_type": ""
    },
    "tags": []
   },
   "source": [
    "### Answer"
   ]
  },
  {
   "cell_type": "code",
   "execution_count": 72,
   "id": "bf9f5653-bdab-47ae-912d-91763828fe04",
   "metadata": {
    "editable": true,
    "slideshow": {
     "slide_type": ""
    },
    "tags": []
   },
   "outputs": [],
   "source": [
    "def mult_pi(x):\n",
    "    \"\"\"Multiply by pi.\"\"\"\n",
    "    import math\n",
    "    return math.pi * x"
   ]
  },
  {
   "cell_type": "markdown",
   "id": "d6d4bba7-200d-47c9-a21f-5f504b4e8ea2",
   "metadata": {
    "editable": true,
    "slideshow": {
     "slide_type": ""
    },
    "tags": []
   },
   "source": [
    "### Result"
   ]
  },
  {
   "cell_type": "code",
   "execution_count": 73,
   "id": "f53e60dc-6a90-452f-accf-7e841be9d705",
   "metadata": {
    "editable": true,
    "slideshow": {
     "slide_type": ""
    },
    "tags": []
   },
   "outputs": [],
   "source": [
    "mult_pi = None\n",
    "if mult_pi is not None:\n",
    "    # test calling the function\n",
    "    print(mult_pi(7))"
   ]
  },
  {
   "cell_type": "markdown",
   "id": "029ab4f0-8fdb-4711-af16-c16c4454cfc9",
   "metadata": {
    "editable": true,
    "slideshow": {
     "slide_type": ""
    },
    "tags": []
   },
   "source": [
    "## Problem: function inputs (2 points)\n",
    "Create a function called `shift_and_scale` that takes a number `x` and calculates $\\text{shift} + x * \\text{scale}$. The `shift` input should be a keyword argument that defaults to 0, and the `scale` input should be a keyword argument that defaults to 1."
   ]
  },
  {
   "cell_type": "markdown",
   "id": "24919119-2ded-4a93-b260-0b61972006ce",
   "metadata": {
    "editable": true,
    "slideshow": {
     "slide_type": ""
    },
    "tags": []
   },
   "source": [
    "### Setup"
   ]
  },
  {
   "cell_type": "code",
   "execution_count": 74,
   "id": "3ae17a9e-3f32-4ef5-9a36-d463206adb2b",
   "metadata": {
    "editable": true,
    "slideshow": {
     "slide_type": ""
    },
    "tags": []
   },
   "outputs": [],
   "source": [
    "shift_and_scale = None"
   ]
  },
  {
   "cell_type": "markdown",
   "id": "c2acf662-b933-4be8-b844-b182a0d1ca6f",
   "metadata": {
    "editable": true,
    "slideshow": {
     "slide_type": ""
    },
    "tags": []
   },
   "source": [
    "### Answer"
   ]
  },
  {
   "cell_type": "code",
   "execution_count": 75,
   "id": "e196f2ed-4bc5-450f-9143-98d5ded096c4",
   "metadata": {
    "editable": true,
    "slideshow": {
     "slide_type": ""
    },
    "tags": []
   },
   "outputs": [],
   "source": [
    "def shift_and_scale(x, shift=0, scale=1):\n",
    "    shift == 0\n",
    "    scale == 1\n",
    "    return shift + x * scale"
   ]
  },
  {
   "cell_type": "markdown",
   "id": "5961c69d-43a7-49a7-9f88-041189b5c644",
   "metadata": {
    "editable": true,
    "slideshow": {
     "slide_type": ""
    },
    "tags": []
   },
   "source": [
    "### Result"
   ]
  },
  {
   "cell_type": "code",
   "execution_count": 76,
   "id": "7e83fc10-8df4-4247-b5cf-afb3273bc63f",
   "metadata": {
    "editable": true,
    "slideshow": {
     "slide_type": ""
    },
    "tags": []
   },
   "outputs": [
    {
     "name": "stdout",
     "output_type": "stream",
     "text": [
      "1.5\n",
      "2.0\n"
     ]
    }
   ],
   "source": [
    "if shift_and_scale is not None:\n",
    "    # test calling the function with different inputs\n",
    "    x = 1.5\n",
    "    print(shift_and_scale(x))\n",
    "    print(shift_and_scale(x, shift=-1, scale=2))"
   ]
  },
  {
   "cell_type": "markdown",
   "id": "528a14cf-191b-4fba-be17-fade0adcbb4b",
   "metadata": {
    "editable": true,
    "slideshow": {
     "slide_type": ""
    },
    "tags": []
   },
   "source": [
    "## Problem: if/else statements (2 points)\n",
    "Create a function called `isodd` that uses an `if/else` statement to test whether a number `x` is odd and return `True` if it is odd and `False` otherwise. To do this, you can use the modulo operator `%`. If `x % 2 == 0`, then `x` is an even number. If `x % 2 == 1`, then `x` is an odd number."
   ]
  },
  {
   "cell_type": "markdown",
   "id": "161e77ce-e721-432c-a6c7-fd66ec91f33d",
   "metadata": {
    "editable": true,
    "slideshow": {
     "slide_type": ""
    },
    "tags": []
   },
   "source": [
    "### Setup"
   ]
  },
  {
   "cell_type": "code",
   "execution_count": 77,
   "id": "94f84fe5-91f0-4766-8587-995bf15ce881",
   "metadata": {
    "editable": true,
    "slideshow": {
     "slide_type": ""
    },
    "tags": []
   },
   "outputs": [],
   "source": [
    "isodd = None"
   ]
  },
  {
   "cell_type": "markdown",
   "id": "1706259d-0431-4267-8c12-b95fe66a7509",
   "metadata": {
    "editable": true,
    "slideshow": {
     "slide_type": ""
    },
    "tags": []
   },
   "source": [
    "### Answer"
   ]
  },
  {
   "cell_type": "code",
   "execution_count": 78,
   "id": "7e41b8d2-7757-43f2-af68-9335d1d063d1",
   "metadata": {
    "editable": true,
    "slideshow": {
     "slide_type": ""
    },
    "tags": []
   },
   "outputs": [],
   "source": [
    "def isodd(x):\n",
    "    if x % 2 == 1:\n",
    "        print(True)\n",
    "    else: \n",
    "        print(False)\n",
    "\n"
   ]
  },
  {
   "cell_type": "markdown",
   "id": "a472037a-949c-4d35-ba91-67b8e88653ee",
   "metadata": {
    "editable": true,
    "slideshow": {
     "slide_type": ""
    },
    "tags": []
   },
   "source": [
    "### Result"
   ]
  },
  {
   "cell_type": "code",
   "execution_count": 79,
   "id": "770e3ff2-4465-48cd-8176-7540e38a0a43",
   "metadata": {
    "editable": true,
    "slideshow": {
     "slide_type": ""
    },
    "tags": []
   },
   "outputs": [
    {
     "name": "stdout",
     "output_type": "stream",
     "text": [
      "True\n",
      "None\n",
      "False\n",
      "None\n"
     ]
    }
   ],
   "source": [
    "if isodd is not None:\n",
    "    # test calling the function with different inputs\n",
    "    print(isodd(1))\n",
    "    print(isodd(2))"
   ]
  },
  {
   "cell_type": "markdown",
   "id": "876f4624-ce22-4338-a78a-84fd9d081894",
   "metadata": {
    "editable": true,
    "slideshow": {
     "slide_type": ""
    },
    "tags": []
   },
   "source": [
    "## Problem: using a for loop (2 points)\n",
    "Create a function called `factorial` that uses a for loop to calculate $x!$. This is called a factorial. For example, $4! = 1 * 2 * 3 * 4 = 24$. Hint: you can create a variable called `f` that is initialized at 1 and multiply it with the next number on each step of a for loop."
   ]
  },
  {
   "cell_type": "markdown",
   "id": "9cba6729-fbc8-47a0-831d-f17c17fe5ad0",
   "metadata": {
    "editable": true,
    "slideshow": {
     "slide_type": ""
    },
    "tags": []
   },
   "source": [
    "### Setup"
   ]
  },
  {
   "cell_type": "code",
   "execution_count": 80,
   "id": "b44580c4-b92f-4993-9da6-d955b89821ff",
   "metadata": {
    "editable": true,
    "slideshow": {
     "slide_type": ""
    },
    "tags": []
   },
   "outputs": [],
   "source": [
    "factorial = None"
   ]
  },
  {
   "cell_type": "markdown",
   "id": "f01afc3e-9ff3-4121-9efa-d083a1764f08",
   "metadata": {
    "editable": true,
    "slideshow": {
     "slide_type": ""
    },
    "tags": []
   },
   "source": [
    "### Answer"
   ]
  },
  {
   "cell_type": "code",
   "execution_count": 81,
   "id": "85bf7a00-4639-485f-b94f-261b83cecc7e",
   "metadata": {
    "editable": true,
    "slideshow": {
     "slide_type": ""
    },
    "tags": []
   },
   "outputs": [],
   "source": [
    "import math\n",
    "def factorial(x):\n",
    "    f = 1\n",
    "    for i in range(1, f + 1):\n",
    "        if x == 0:\n",
    "            return 1\n",
    "        else:\n",
    "            return x * factorial(x - 1)\n",
    "        "
   ]
  },
  {
   "cell_type": "markdown",
   "id": "213d2b1e-6bb5-4536-a3b8-fda808bc7862",
   "metadata": {
    "editable": true,
    "slideshow": {
     "slide_type": ""
    },
    "tags": []
   },
   "source": [
    "### Result"
   ]
  },
  {
   "cell_type": "code",
   "execution_count": 82,
   "id": "c3f0ed7b-e58b-4e42-96dc-6762370ccc3b",
   "metadata": {
    "editable": true,
    "slideshow": {
     "slide_type": ""
    },
    "tags": []
   },
   "outputs": [
    {
     "name": "stdout",
     "output_type": "stream",
     "text": [
      "6\n",
      "720\n"
     ]
    }
   ],
   "source": [
    "if factorial is not None:\n",
    "    # test calling the function with different inputs\n",
    "    print(factorial(3))\n",
    "    print(factorial(6))"
   ]
  },
  {
   "cell_type": "markdown",
   "id": "cea89081-cd34-4158-9d99-76b936db4382",
   "metadata": {
    "editable": true,
    "slideshow": {
     "slide_type": ""
    },
    "tags": []
   },
   "source": [
    "## Problem: using for loops and if statements (2 points)\n",
    "Create a function called `sum_small` that takes a list of numbers and calculates the sum of the \"small\" numbers that are less than 10. For example, if the numbers are 3, 12, 8, 4, 10, 0, then only the numbers 3, 8, 4, 0 should be summed, and the output should be 15."
   ]
  },
  {
   "cell_type": "markdown",
   "id": "f0fb9e27-2bfa-465a-8caf-58b96873f834",
   "metadata": {
    "editable": true,
    "slideshow": {
     "slide_type": ""
    },
    "tags": []
   },
   "source": [
    "### Setup"
   ]
  },
  {
   "cell_type": "code",
   "execution_count": 88,
   "id": "4043a242-d56e-461c-bec1-e961e8d79128",
   "metadata": {
    "editable": true,
    "slideshow": {
     "slide_type": ""
    },
    "tags": []
   },
   "outputs": [],
   "source": [
    "\n",
    "sum_small = None"
   ]
  },
  {
   "cell_type": "markdown",
   "id": "ac6f3f19-989b-4474-96cf-9aaf48013844",
   "metadata": {
    "editable": true,
    "slideshow": {
     "slide_type": ""
    },
    "tags": []
   },
   "source": [
    "### Answer"
   ]
  },
  {
   "cell_type": "code",
   "execution_count": 90,
   "id": "7a7f662f-c798-48f1-8d1b-d3ed9fb9010c",
   "metadata": {
    "editable": true,
    "slideshow": {
     "slide_type": ""
    },
    "tags": []
   },
   "outputs": [],
   "source": [
    "import math\n",
    "def sum_small(numbers):\n",
    "    for n in numbers:\n",
    "        if n in numbers < 10:\n",
    "            sum += x\n",
    "            return sum(x)\n",
    "        else:\n",
    "            print(None)            "
   ]
  },
  {
   "cell_type": "markdown",
   "id": "e05cb70f-391c-4c36-be96-73d109a48383",
   "metadata": {
    "editable": true,
    "slideshow": {
     "slide_type": ""
    },
    "tags": []
   },
   "source": [
    "### Result"
   ]
  },
  {
   "cell_type": "markdown",
   "id": "04eb1948",
   "metadata": {},
   "source": [
    "for n in numbers:\n",
    "        if n in numbers < 10:\n",
    "            sum += x\n",
    "            return sum(x)\n",
    "        else:\n",
    "            print(None)"
   ]
  },
  {
   "cell_type": "code",
   "execution_count": 87,
   "id": "ca496553-568a-40ac-a0a6-00711c1f54b6",
   "metadata": {
    "editable": true,
    "slideshow": {
     "slide_type": ""
    },
    "tags": []
   },
   "outputs": [
    {
     "ename": "TypeError",
     "evalue": "'<' not supported between instances of 'list' and 'int'",
     "output_type": "error",
     "traceback": [
      "\u001b[0;31m---------------------------------------------------------------------------\u001b[0m",
      "\u001b[0;31mTypeError\u001b[0m                                 Traceback (most recent call last)",
      "Cell \u001b[0;32mIn[87], line 3\u001b[0m\n\u001b[1;32m      1\u001b[0m \u001b[38;5;28;01mif\u001b[39;00m sum_small \u001b[38;5;129;01mis\u001b[39;00m \u001b[38;5;129;01mnot\u001b[39;00m \u001b[38;5;28;01mNone\u001b[39;00m:\n\u001b[1;32m      2\u001b[0m     \u001b[38;5;66;03m# test calling the function\u001b[39;00m\n\u001b[0;32m----> 3\u001b[0m     \u001b[38;5;28mprint\u001b[39m(\u001b[43msum_small\u001b[49m\u001b[43m(\u001b[49m\u001b[43m[\u001b[49m\u001b[38;5;241;43m3\u001b[39;49m\u001b[43m,\u001b[49m\u001b[43m \u001b[49m\u001b[38;5;241;43m12\u001b[39;49m\u001b[43m,\u001b[49m\u001b[43m \u001b[49m\u001b[38;5;241;43m8\u001b[39;49m\u001b[43m,\u001b[49m\u001b[43m \u001b[49m\u001b[38;5;241;43m4\u001b[39;49m\u001b[43m,\u001b[49m\u001b[43m \u001b[49m\u001b[38;5;241;43m10\u001b[39;49m\u001b[43m,\u001b[49m\u001b[43m \u001b[49m\u001b[38;5;241;43m0\u001b[39;49m\u001b[43m]\u001b[49m\u001b[43m)\u001b[49m)\n",
      "Cell \u001b[0;32mIn[86], line 4\u001b[0m, in \u001b[0;36msum_small\u001b[0;34m(numbers)\u001b[0m\n\u001b[1;32m      2\u001b[0m \u001b[38;5;28;01mdef\u001b[39;00m\u001b[38;5;250m \u001b[39m\u001b[38;5;21msum_small\u001b[39m(numbers):\n\u001b[1;32m      3\u001b[0m     \u001b[38;5;28;01mfor\u001b[39;00m n \u001b[38;5;129;01min\u001b[39;00m numbers:\n\u001b[0;32m----> 4\u001b[0m         \u001b[38;5;28;01mif\u001b[39;00m \u001b[43mn\u001b[49m\u001b[43m \u001b[49m\u001b[38;5;129;43;01min\u001b[39;49;00m\u001b[43m \u001b[49m\u001b[43mnumbers\u001b[49m\u001b[43m \u001b[49m\u001b[38;5;241;43m<\u001b[39;49m\u001b[43m \u001b[49m\u001b[38;5;241;43m10\u001b[39;49m:\n\u001b[1;32m      5\u001b[0m             \u001b[38;5;28msum\u001b[39m \u001b[38;5;241m+\u001b[39m\u001b[38;5;241m=\u001b[39m x\n\u001b[1;32m      6\u001b[0m             \u001b[38;5;28;01mreturn\u001b[39;00m \u001b[38;5;28msum\u001b[39m(x)\n",
      "\u001b[0;31mTypeError\u001b[0m: '<' not supported between instances of 'list' and 'int'"
     ]
    }
   ],
   "source": [
    "if sum_small is not None:\n",
    "    # test calling the function\n",
    "    print(sum_small([3, 12, 8, 4, 10, 0]))"
   ]
  },
  {
   "cell_type": "markdown",
   "id": "c7bb4abe-ca7f-4041-87fd-840820d03502",
   "metadata": {
    "editable": true,
    "slideshow": {
     "slide_type": ""
    },
    "tags": []
   },
   "source": [
    "## Problem: list indexes and values (2 points)\n",
    "Create a function called `print_list` that takes a list of numbers and uses a `for` loop to print the index of each element of the list and the corresponding value. For example, if we pass in the list `[3, 2, 1]`, then the function should print:\n",
    "\n",
    "```python\n",
    "0 3\n",
    "1 2\n",
    "2 1\n",
    "```"
   ]
  },
  {
   "cell_type": "code",
   "execution_count": 25,
   "id": "f6e49f0d-2cc7-454f-88b3-86a0ddd97163",
   "metadata": {
    "editable": true,
    "slideshow": {
     "slide_type": ""
    },
    "tags": []
   },
   "outputs": [],
   "source": [
    "print_list = None"
   ]
  },
  {
   "cell_type": "markdown",
   "id": "0d4edfa1-d085-4746-938d-64f4802c42e3",
   "metadata": {
    "editable": true,
    "slideshow": {
     "slide_type": ""
    },
    "tags": []
   },
   "source": [
    "### Answer"
   ]
  },
  {
   "cell_type": "code",
   "execution_count": 26,
   "id": "46c941d0",
   "metadata": {},
   "outputs": [],
   "source": [
    "list = []\n",
    "list = [3, 2, 1]\n",
    "def print_list(x):\n",
    "    for i in range(len(list)):\n",
    "        if list is not None:\n",
    "            print(i, list[i])\n",
    "        else: \n",
    "            print(\"None\")"
   ]
  },
  {
   "cell_type": "markdown",
   "id": "0df9fae8-608f-4b4d-bc5f-691c9e2ec7ab",
   "metadata": {
    "editable": true,
    "slideshow": {
     "slide_type": ""
    },
    "tags": []
   },
   "source": [
    "### Result"
   ]
  },
  {
   "cell_type": "code",
   "execution_count": 27,
   "id": "96f09c17-e7f0-4a01-a680-e877125c23ef",
   "metadata": {
    "editable": true,
    "slideshow": {
     "slide_type": ""
    },
    "tags": []
   },
   "outputs": [
    {
     "name": "stdout",
     "output_type": "stream",
     "text": [
      "0 3\n",
      "1 2\n",
      "2 1\n",
      "None\n"
     ]
    }
   ],
   "source": [
    "if print_list is not None:\n",
    "    # test calling the function\n",
    "    print(print_list([3, 2, 1]))"
   ]
  },
  {
   "cell_type": "markdown",
   "id": "60e42070-24a4-4fba-9b52-413a70c07e9e",
   "metadata": {
    "editable": true,
    "slideshow": {
     "slide_type": ""
    },
    "tags": []
   },
   "source": [
    "## Problem (graduate students): using functions (2 points)\n",
    "Write a function called `mean` that takes in a list of response times (in seconds) and calculates the mean. The mean is defined as the sum divided by the number of samples (hint: try using the built-in `sum` and `len` functions). Use your function to calculate mean response time in two different conditions."
   ]
  },
  {
   "cell_type": "markdown",
   "id": "66d198a9-a7d1-478b-aaca-f76ec53d84a3",
   "metadata": {
    "editable": true,
    "slideshow": {
     "slide_type": ""
    },
    "tags": []
   },
   "source": [
    "### Setup"
   ]
  },
  {
   "cell_type": "code",
   "execution_count": 28,
   "id": "2115d327-1bce-4602-912d-02e7dd3ab9a6",
   "metadata": {
    "editable": false,
    "slideshow": {
     "slide_type": ""
    },
    "tags": []
   },
   "outputs": [],
   "source": [
    "response_time1 = [1.5, 2.1, 2.3, 1.8]  # response times (s) in condition 1\n",
    "response_time2 = [1.7, 4.1, 1.3, 1.5]  # response times (s) in condition 2\n",
    "mean = None"
   ]
  },
  {
   "cell_type": "markdown",
   "id": "61b837a2-3f1a-4e41-aaa4-73793b9eb42b",
   "metadata": {
    "editable": true,
    "slideshow": {
     "slide_type": ""
    },
    "tags": []
   },
   "source": [
    "### Answer"
   ]
  },
  {
   "cell_type": "code",
   "execution_count": 29,
   "id": "4478d83b-624d-4fd7-9c2e-16d10bbef88a",
   "metadata": {
    "editable": true,
    "slideshow": {
     "slide_type": ""
    },
    "tags": []
   },
   "outputs": [],
   "source": [
    "# your code here"
   ]
  },
  {
   "cell_type": "markdown",
   "id": "a60ee5d0-32de-4cf5-a9f1-cccd8556cf58",
   "metadata": {
    "editable": true,
    "slideshow": {
     "slide_type": ""
    },
    "tags": []
   },
   "source": [
    "### Result"
   ]
  },
  {
   "cell_type": "code",
   "execution_count": 30,
   "id": "df40815e-1882-4c02-98c2-ad51a9ac1cd6",
   "metadata": {
    "editable": false,
    "slideshow": {
     "slide_type": ""
    },
    "tags": []
   },
   "outputs": [],
   "source": [
    "if mean is not None:\n",
    "    print(mean(response_time1), mean(response_time2))"
   ]
  },
  {
   "cell_type": "markdown",
   "id": "7394ab23",
   "metadata": {
    "editable": true,
    "slideshow": {
     "slide_type": ""
    },
    "tags": []
   },
   "source": [
    "## Problem (graduate students): analyzing conditions (2 points)\n",
    "Say that you have data for 8 trials in a study. Each trial was in one of two conditions (condition 1 or condition 2). On each trial, the participant either answered correctly (coded as a 1) or incorrectly (coded as a 0). Use a `for` loop to calculate the total score for each condition, indicating how many correct answers there were in each condition."
   ]
  },
  {
   "cell_type": "markdown",
   "id": "8db9e156",
   "metadata": {
    "editable": true,
    "slideshow": {
     "slide_type": ""
    },
    "tags": []
   },
   "source": [
    "### Setup"
   ]
  },
  {
   "cell_type": "code",
   "execution_count": 31,
   "id": "4a404639",
   "metadata": {},
   "outputs": [],
   "source": [
    "condition = [1, 1, 2, 2, 1, 1, 2, 2]  # condition label for each trial\n",
    "correct   = [0, 1, 1, 1, 0, 0, 1, 0]  # 1 for correct, 0 for incorrect"
   ]
  },
  {
   "cell_type": "markdown",
   "id": "7df30759",
   "metadata": {},
   "source": [
    "### Answer"
   ]
  },
  {
   "cell_type": "code",
   "execution_count": 32,
   "id": "8e0a03e9",
   "metadata": {},
   "outputs": [],
   "source": [
    "score1 = 0  # initial value; should indicate the total number correct in condition 1\n",
    "score2 = 0  # initial value; should indicate the total number correct in condition 2\n",
    "# write a for loop here"
   ]
  },
  {
   "cell_type": "markdown",
   "id": "04d8e75a",
   "metadata": {},
   "source": [
    "### Result"
   ]
  },
  {
   "cell_type": "code",
   "execution_count": 33,
   "id": "7ab3cc80",
   "metadata": {
    "editable": true,
    "slideshow": {
     "slide_type": ""
    },
    "tags": []
   },
   "outputs": [
    {
     "name": "stdout",
     "output_type": "stream",
     "text": [
      "0 0\n"
     ]
    }
   ],
   "source": [
    "print(score1, score2)"
   ]
  },
  {
   "cell_type": "markdown",
   "id": "92ff64be-c9d1-4b2f-b5e5-f29e80a04cbe",
   "metadata": {
    "editable": true,
    "slideshow": {
     "slide_type": ""
    },
    "tags": []
   },
   "source": [
    "## Problem (graduate students): using list comprehensions (2 points)\n",
    "Say that you have a list of subject numbers 1, 2, and 3, and you need to make a list of full subject identifiers `\"sub-001\"`, `\"sub-002\"`, and `\"sub-003\"`. Use a list comprehension to create the subject identifiers from the numbers."
   ]
  },
  {
   "cell_type": "markdown",
   "id": "0309c974-26ab-49f5-8343-c688698f41c7",
   "metadata": {
    "editable": true,
    "slideshow": {
     "slide_type": ""
    },
    "tags": []
   },
   "source": [
    "### Setup"
   ]
  },
  {
   "cell_type": "code",
   "execution_count": 34,
   "id": "b2c3af4c-ada8-40c0-a4e1-ba90abc1f5b5",
   "metadata": {
    "editable": true,
    "slideshow": {
     "slide_type": ""
    },
    "tags": []
   },
   "outputs": [],
   "source": [
    "subject_numbers = [1, 2, 3]\n",
    "subject_ids = None"
   ]
  },
  {
   "cell_type": "markdown",
   "id": "549cbd6b-30e1-4e48-819f-6ab6338ff902",
   "metadata": {
    "editable": true,
    "slideshow": {
     "slide_type": ""
    },
    "tags": []
   },
   "source": [
    "### Answer"
   ]
  },
  {
   "cell_type": "code",
   "execution_count": 35,
   "id": "8de271f5-3ac1-471d-9fbd-c2efc27ec286",
   "metadata": {
    "editable": true,
    "slideshow": {
     "slide_type": ""
    },
    "tags": []
   },
   "outputs": [],
   "source": [
    "# your code here"
   ]
  },
  {
   "cell_type": "markdown",
   "id": "cb70473b-5a15-46d3-bb7f-7d113af2f782",
   "metadata": {
    "editable": true,
    "slideshow": {
     "slide_type": ""
    },
    "tags": []
   },
   "source": [
    "### Result"
   ]
  },
  {
   "cell_type": "code",
   "execution_count": 36,
   "id": "2fad50d6-8b92-4ed6-b78e-3400e91722a7",
   "metadata": {
    "editable": true,
    "slideshow": {
     "slide_type": ""
    },
    "tags": []
   },
   "outputs": [
    {
     "name": "stdout",
     "output_type": "stream",
     "text": [
      "None\n"
     ]
    }
   ],
   "source": [
    "print(subject_ids)"
   ]
  },
  {
   "cell_type": "markdown",
   "id": "64fc4478-d112-452f-aa63-2500bbbd80ee",
   "metadata": {
    "editable": true,
    "slideshow": {
     "slide_type": ""
    },
    "tags": []
   },
   "source": [
    "## Problem (graduate students): printing instructions (2 points)\n",
    "Say that we have three conditions in an experiment, and each one has different instructions for what the participant should do when a word shows up on screen. Define a function called `instruct` that uses an `if/elif/else` statement to print out the correct instructions depending on the condition. If the condition doesn't match condition 1, 2, or 3, raise an exception instead, with a `ValueError`."
   ]
  },
  {
   "cell_type": "markdown",
   "id": "f4a0a779-2416-44e0-802d-975300236848",
   "metadata": {
    "editable": true,
    "slideshow": {
     "slide_type": ""
    },
    "tags": []
   },
   "source": [
    "### Setup"
   ]
  },
  {
   "cell_type": "code",
   "execution_count": 37,
   "id": "9323e5fd-abc8-48f0-b76a-db7a4d31ded8",
   "metadata": {
    "editable": true,
    "slideshow": {
     "slide_type": ""
    },
    "tags": []
   },
   "outputs": [],
   "source": [
    "instruct1 = \"Read the word out loud.\"  # instructions for condition 1\n",
    "instruct2 = \"Read the word silently.\"  # instructions for condition 2\n",
    "instruct3 = \"Type the word.\"  # instructions for condition 3\n",
    "error_message = \"Error: condition code unknown.\"  # raise exception if condition not 1, 2, or 3\n",
    "instruct = None"
   ]
  },
  {
   "cell_type": "markdown",
   "id": "a928ffd0-9f60-4d12-8fd8-27da3110f6cf",
   "metadata": {
    "editable": true,
    "slideshow": {
     "slide_type": ""
    },
    "tags": []
   },
   "source": [
    "### Answer"
   ]
  },
  {
   "cell_type": "code",
   "execution_count": 38,
   "id": "8f500ec4-e462-4d05-b4da-062c332673b3",
   "metadata": {
    "editable": true,
    "slideshow": {
     "slide_type": ""
    },
    "tags": []
   },
   "outputs": [],
   "source": [
    "# your code here"
   ]
  },
  {
   "cell_type": "markdown",
   "id": "83378971-f678-4d34-af16-7041b470d1a6",
   "metadata": {
    "editable": true,
    "slideshow": {
     "slide_type": ""
    },
    "tags": []
   },
   "source": [
    "### Result"
   ]
  },
  {
   "cell_type": "code",
   "execution_count": 39,
   "id": "e7179bd3-07b7-4f97-bd6a-3ad510ccd572",
   "metadata": {
    "editable": true,
    "slideshow": {
     "slide_type": ""
    },
    "tags": []
   },
   "outputs": [],
   "source": [
    "if instruct is not None:\n",
    "    instruct(1)\n",
    "    instruct(2)\n",
    "    instruct(3)\n",
    "    instruct(-1)  # an invalid condition code. THIS IS SUPPOSED TO THOW AN ERROR."
   ]
  }
 ],
 "metadata": {
  "kernelspec": {
   "display_name": ".venv",
   "language": "python",
   "name": "python3"
  },
  "language_info": {
   "codemirror_mode": {
    "name": "ipython",
    "version": 3
   },
   "file_extension": ".py",
   "mimetype": "text/x-python",
   "name": "python",
   "nbconvert_exporter": "python",
   "pygments_lexer": "ipython3",
   "version": "3.12.8"
  }
 },
 "nbformat": 4,
 "nbformat_minor": 5
}
