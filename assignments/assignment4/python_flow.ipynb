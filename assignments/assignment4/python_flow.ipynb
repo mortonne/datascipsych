{
 "cells": [
  {
   "cell_type": "markdown",
   "id": "0c1c9b57-6b5f-4b30-9d3f-ab6a603d10e5",
   "metadata": {
    "editable": true,
    "slideshow": {
     "slide_type": "slide"
    },
    "tags": []
   },
   "source": [
    "# Python control flow\n",
    "\n",
    "Programs are shaped by control flow, which determines which commands run at which times. Python programs frequently rely on a few key mechanisms of control flow."
   ]
  },
  {
   "cell_type": "markdown",
   "id": "cfd3e472-1ea1-447f-b109-7a3e04f300a1",
   "metadata": {
    "editable": true,
    "slideshow": {
     "slide_type": "slide"
    },
    "tags": []
   },
   "source": [
    "## If statements\n",
    "\n",
    "Sometimes, we need to decide whether to run a command or not, depending on the conditions. To do this, we can write an *if* statement:\n",
    "\n",
    "```python\n",
    "if some_condition:\n",
    "    code_to_run_if_true\n",
    "```"
   ]
  },
  {
   "cell_type": "markdown",
   "id": "6a6c26b0-997e-4fd4-8241-955a222d29e5",
   "metadata": {
    "editable": true,
    "slideshow": {
     "slide_type": "slide"
    },
    "tags": []
   },
   "source": [
    "The simplest form of an `if` statement is to run some code, only if a condition is satisfied. For example, say if we want to check if one variable is larger than another and run some code only if it is."
   ]
  },
  {
   "cell_type": "code",
   "execution_count": 1,
   "id": "fb4d5688-bcf1-41f6-bf59-51f53900ac40",
   "metadata": {
    "editable": true,
    "slideshow": {
     "slide_type": ""
    },
    "tags": []
   },
   "outputs": [],
   "source": [
    "a = 5\n",
    "b = 8\n",
    "if a > b:\n",
    "    print(\"a is greater than b.\")"
   ]
  },
  {
   "cell_type": "markdown",
   "id": "63df78a4-d496-488f-b3a2-243473f70f36",
   "metadata": {
    "editable": true,
    "slideshow": {
     "slide_type": "fragment"
    },
    "tags": []
   },
   "source": [
    "Because $a < b$, the code is not executed."
   ]
  },
  {
   "cell_type": "markdown",
   "id": "4b483c1a-4450-4c73-9c66-515dc40b067f",
   "metadata": {
    "editable": true,
    "slideshow": {
     "slide_type": "fragment"
    },
    "tags": []
   },
   "source": [
    "We could instead check if the opposite is true."
   ]
  },
  {
   "cell_type": "code",
   "execution_count": 2,
   "id": "4c371714-7b04-434c-8481-90402bf4a446",
   "metadata": {
    "editable": true,
    "slideshow": {
     "slide_type": ""
    },
    "tags": []
   },
   "outputs": [
    {
     "name": "stdout",
     "output_type": "stream",
     "text": [
      "b is greater than a.\n"
     ]
    }
   ],
   "source": [
    "if b > a:\n",
    "    print(\"b is greater than a.\")"
   ]
  },
  {
   "cell_type": "markdown",
   "id": "19298f47-868c-4e3d-957d-18f9a344d741",
   "metadata": {
    "editable": true,
    "slideshow": {
     "slide_type": "fragment"
    },
    "tags": []
   },
   "source": [
    "Here, the code checks if $b>a$, finds that it is, and runs the code to print our message."
   ]
  },
  {
   "cell_type": "markdown",
   "id": "6f189620-0154-4393-b02d-d0a52bdc259c",
   "metadata": {
    "editable": true,
    "slideshow": {
     "slide_type": "slide"
    },
    "tags": []
   },
   "source": [
    "We can optionally also include an `else` block at the end. The code here will run if the condition is not true."
   ]
  },
  {
   "cell_type": "code",
   "execution_count": 3,
   "id": "3f4837a8-b23b-41ac-a74b-82aa479e3a1a",
   "metadata": {
    "editable": true,
    "slideshow": {
     "slide_type": ""
    },
    "tags": []
   },
   "outputs": [
    {
     "name": "stdout",
     "output_type": "stream",
     "text": [
      "b is greater than a.\n"
     ]
    }
   ],
   "source": [
    "if b > a:\n",
    "    print(\"b is greater than a.\")\n",
    "else:\n",
    "    print(\"b is not greater than a.\")"
   ]
  },
  {
   "cell_type": "markdown",
   "id": "90afa9b5-58eb-4510-9164-a2b63cd2e863",
   "metadata": {
    "editable": true,
    "slideshow": {
     "slide_type": "slide"
    },
    "tags": []
   },
   "source": [
    "### Exercise: simple if statements\n",
    "\n",
    "Write a function called `issmall` that takes in a positive number and uses an `if` statement to test if it is less than 10. It should return `True` if the integer is less than 10 and return `False` otherwise. Test it with inputs 1 and 10.\n",
    "\n",
    "#### Advanced\n",
    "\n",
    "Write a function that works the same way, without using an `if` statement."
   ]
  },
  {
   "cell_type": "code",
   "execution_count": 4,
   "id": "2a2d1c97-e829-4af1-b41e-963f75baf46f",
   "metadata": {
    "editable": true,
    "slideshow": {
     "slide_type": ""
    },
    "tags": []
   },
   "outputs": [],
   "source": [
    "a = 1\n",
    "b = 10\n",
    "def issmall(a, b): \n",
    "    if a < b:\n",
    "        print(True)\n",
    "    elif a > b:\n",
    "        print(False)\n",
    "    else:\n",
    "        print(\"a is equal to b\") \n",
    "\n",
    "a < b\n",
    "b > a\n",
    "b < a"
   ]
  },
  {
   "cell_type": "markdown",
   "id": "c704dc8a-dc34-46a7-bb15-6c4b7d2b85e0",
   "metadata": {
    "editable": true,
    "slideshow": {
     "slide_type": "slide"
    },
    "tags": []
   },
   "source": [
    "We can put multiple checks together using an `if/elif` statement. The `elif` keyword is short for \"else if\". Different conditions are checked in order. If the first condition is true, then the code in that block will be executed. If the first condition is false, then the `elif` condition will be checked. You can have as many `elif` conditions as you want."
   ]
  },
  {
   "cell_type": "code",
   "execution_count": 5,
   "id": "8b3e330f-0404-4fb3-9a9a-6ce7ed5a865e",
   "metadata": {
    "editable": true,
    "slideshow": {
     "slide_type": ""
    },
    "tags": []
   },
   "outputs": [
    {
     "name": "stdout",
     "output_type": "stream",
     "text": [
      "b is greater than a.\n"
     ]
    }
   ],
   "source": [
    "a = 5\n",
    "b = 8\n",
    "if a > b:\n",
    "    print(\"a is greater than b.\")\n",
    "elif b > a:\n",
    "    print(\"b is greater than a.\")"
   ]
  },
  {
   "cell_type": "markdown",
   "id": "6938664c-8a94-4547-8c2d-5c59498fefdb",
   "metadata": {
    "editable": true,
    "slideshow": {
     "slide_type": "slide"
    },
    "tags": []
   },
   "source": [
    "Finally, we can optionally also have an `else` block at the end. This will run code only if none of the other conditions were met."
   ]
  },
  {
   "cell_type": "code",
   "execution_count": 6,
   "id": "feb5c84d-2c34-4064-b655-f515eb3db12a",
   "metadata": {
    "editable": true,
    "slideshow": {
     "slide_type": ""
    },
    "tags": []
   },
   "outputs": [
    {
     "name": "stdout",
     "output_type": "stream",
     "text": [
      "a is equal to b.\n"
     ]
    }
   ],
   "source": [
    "a = 5\n",
    "b = 5\n",
    "if a > b:\n",
    "    print(\"a is greater than b.\")\n",
    "elif b > a:\n",
    "    print(\"b is greater than a.\")\n",
    "else:\n",
    "    print(\"a is equal to b.\")"
   ]
  },
  {
   "cell_type": "markdown",
   "id": "bb5525c2-70d7-4934-b234-4dec12772eb5",
   "metadata": {
    "editable": true,
    "slideshow": {
     "slide_type": "slide"
    },
    "tags": []
   },
   "source": [
    "To summarize, the syntax for `if/elif/else` statements is:\n",
    "\n",
    "```python\n",
    "if condition:\n",
    "    code_to_run\n",
    "elif other_condition:\n",
    "    different_code\n",
    "else:\n",
    "    code_if_neither_condition_true\n",
    "```"
   ]
  },
  {
   "cell_type": "markdown",
   "id": "82582f80-e3b9-4de7-8786-1f19dcfaff06",
   "metadata": {
    "editable": true,
    "slideshow": {
     "slide_type": "slide"
    },
    "tags": []
   },
   "source": [
    "The various parts of an `if/elif/else` statement can take any *expression* that returns a *boolean* value (that is, `True` or `False`). You can get a boolean using tests of equality (using `==` to test if two variables have the same value, or `!=` to test if they have different values) or inequalities (`<`, `>`, `<=`, `>=`)."
   ]
  },
  {
   "cell_type": "code",
   "execution_count": 7,
   "id": "801c7645-dd94-47ac-a894-6bee01aa9cf0",
   "metadata": {
    "editable": true,
    "slideshow": {
     "slide_type": "fragment"
    },
    "tags": []
   },
   "outputs": [
    {
     "name": "stdout",
     "output_type": "stream",
     "text": [
      "False\n",
      "True\n",
      "True\n",
      "False\n"
     ]
    }
   ],
   "source": [
    "number = 4\n",
    "string = \"name\"\n",
    "print(number < 4)\n",
    "print(number <= 4)\n",
    "print(string == \"name\")\n",
    "print(string != \"name\")"
   ]
  },
  {
   "cell_type": "markdown",
   "id": "b4546662-6524-47b6-9b26-5211e42514a1",
   "metadata": {
    "editable": true,
    "slideshow": {
     "slide_type": "slide"
    },
    "tags": []
   },
   "source": [
    "### Exercise: if statements\n",
    "Define a function called `greet` prints out a greeting. It should take one input called `user`. If the user is `\"Mark\"`, print `\"Hi, Mark S.!`. If the user is `\"Helena\"`, print `\"Hello, Helly R.\"` \n",
    "\n",
    "#### Advanced\n",
    "Add an `else` block so that, if the user is anyone else, the function will use an f-string to print `\"Greetings, [user].\"`"
   ]
  },
  {
   "cell_type": "code",
   "execution_count": 8,
   "id": "83083473-9773-4a29-bddb-e6c0f1671ad4",
   "metadata": {
    "editable": true,
    "slideshow": {
     "slide_type": ""
    },
    "tags": []
   },
   "outputs": [
    {
     "name": "stdout",
     "output_type": "stream",
     "text": [
      "Hi, Mark S.!\n",
      "Hello, Helly R.\n",
      "Greetings, Neil.\n",
      "Hey Kana.\n"
     ]
    }
   ],
   "source": [
    "def greet(user):\n",
    "    if user == \"Mark\":\n",
    "        print(\"Hi, Mark S.!\")\n",
    "    elif user == \"Helena\":\n",
    "        print(\"Hello, Helly R.\")\n",
    "    elif user == \"Kana\":\n",
    "        print(\"Hey Kana.\")\n",
    "    else:\n",
    "        print(f\"Greetings, {user}.\")\n",
    "\n",
    "greet(\"Mark\")\n",
    "greet(\"Helena\")\n",
    "greet(\"Neil\")\n",
    "greet(\"Kana\")\n"
   ]
  },
  {
   "cell_type": "code",
   "execution_count": null,
   "id": "aea4a5a2",
   "metadata": {},
   "outputs": [],
   "source": [
    "#double equal == is testing something rather than assigning it"
   ]
  },
  {
   "cell_type": "markdown",
   "id": "1307929a-d6ca-4a62-ad3a-3ce5f072381b",
   "metadata": {
    "editable": true,
    "slideshow": {
     "slide_type": "slide"
    },
    "tags": []
   },
   "source": [
    "Sometimes we may want to combine tests to check for a more complicated set of conditions. We can combine tests using the keywords `and` and `or`.\n",
    "\n",
    "The `and` keyword checks if two statements are both True."
   ]
  },
  {
   "cell_type": "code",
   "execution_count": 9,
   "id": "07e1c64f-c2df-4a43-af90-c1bc438c20d1",
   "metadata": {
    "editable": true,
    "slideshow": {
     "slide_type": ""
    },
    "tags": []
   },
   "outputs": [
    {
     "name": "stdout",
     "output_type": "stream",
     "text": [
      "True\n",
      "False\n"
     ]
    }
   ],
   "source": [
    "print(1 == 1 and 2 > 1)  # both parts are True, so this returns True\n",
    "print(1 == 1 and 2 < 1)  # the first part is True, but the second is False"
   ]
  },
  {
   "cell_type": "markdown",
   "id": "f3925fb4-2a2b-4b7d-9f5c-29121c98c27b",
   "metadata": {
    "editable": true,
    "slideshow": {
     "slide_type": "fragment"
    },
    "tags": []
   },
   "source": [
    "The `or` keyword checks if either statement is True, *or* if both are True."
   ]
  },
  {
   "cell_type": "code",
   "execution_count": 10,
   "id": "13c65108-79cf-4a73-ad21-ad12c1f5aca1",
   "metadata": {
    "editable": true,
    "slideshow": {
     "slide_type": ""
    },
    "tags": []
   },
   "outputs": [
    {
     "name": "stdout",
     "output_type": "stream",
     "text": [
      "True\n",
      "False\n"
     ]
    }
   ],
   "source": [
    "print(1 == 0 or 2 > 1)  # the second part is True, so this returns True\n",
    "print(1 == 0 or 2 < 1)  # both parts are False, so this returns False"
   ]
  },
  {
   "cell_type": "markdown",
   "id": "ce602387-ac52-4b0f-a28b-6b99cfe5fade",
   "metadata": {
    "editable": true,
    "slideshow": {
     "slide_type": "slide"
    },
    "tags": []
   },
   "source": [
    "Finally, we can also use the keyword `not` to get the opposite of some conditional. Sometimes it is easier to check if something does *not* meet some condition than to check if it does."
   ]
  },
  {
   "cell_type": "markdown",
   "id": "cc0873b3-cdfe-4ffb-a330-18f3a6a621b3",
   "metadata": {
    "editable": true,
    "slideshow": {
     "slide_type": "fragment"
    },
    "tags": []
   },
   "source": [
    "For example, sometimes a variable will be initialized to `None` to indicate that it is undefined. We can check this using `not`."
   ]
  },
  {
   "cell_type": "code",
   "execution_count": 11,
   "id": "7e9baf5a-2d93-4c88-863e-41301009379d",
   "metadata": {
    "editable": true,
    "slideshow": {
     "slide_type": ""
    },
    "tags": []
   },
   "outputs": [
    {
     "name": "stdout",
     "output_type": "stream",
     "text": [
      "Current condition is 1.\n",
      "Current condition is undefined.\n"
     ]
    }
   ],
   "source": [
    "def process_condition_code(condition):\n",
    "    if condition is not None:\n",
    "        print(f\"Current condition is {condition}.\")\n",
    "    else:\n",
    "        print(\"Current condition is undefined.\")\n",
    "\n",
    "process_condition_code(1)\n",
    "process_condition_code(None)"
   ]
  },
  {
   "cell_type": "markdown",
   "id": "5d26178c-971d-4e87-8519-162813e43b52",
   "metadata": {
    "editable": true,
    "slideshow": {
     "slide_type": "slide"
    },
    "tags": []
   },
   "source": [
    "Let's look at a common example of combining conditionals. For example, say we want to test if a number is between 5 and 10 (inclusive). We'll write a function to run this check and try it with some different numbers."
   ]
  },
  {
   "cell_type": "code",
   "execution_count": 12,
   "id": "e8ae5dea-78b4-46d5-a07f-654428ef05f5",
   "metadata": {
    "editable": true,
    "slideshow": {
     "slide_type": ""
    },
    "tags": []
   },
   "outputs": [
    {
     "name": "stdout",
     "output_type": "stream",
     "text": [
      "False\n",
      "True\n",
      "False\n"
     ]
    }
   ],
   "source": [
    "def check_in_range(x, lower=5, upper=10):\n",
    "    return x >= lower and x <= upper\n",
    "\n",
    "print(check_in_range(4))\n",
    "print(check_in_range(6))\n",
    "print(check_in_range(11))"
   ]
  },
  {
   "cell_type": "markdown",
   "id": "ef7ce919-c0a2-4d4e-928f-65db84a5143c",
   "metadata": {
    "editable": true,
    "slideshow": {
     "slide_type": "fragment"
    },
    "tags": []
   },
   "source": [
    "Note that we used keyword arguments for our function, so that we can change the range from the default if we want."
   ]
  },
  {
   "cell_type": "code",
   "execution_count": 13,
   "id": "18e316f0-3d9c-4b33-bbdd-c214962f0c1d",
   "metadata": {
    "editable": true,
    "slideshow": {
     "slide_type": ""
    },
    "tags": []
   },
   "outputs": [
    {
     "name": "stdout",
     "output_type": "stream",
     "text": [
      "True\n",
      "False\n"
     ]
    }
   ],
   "source": [
    "print(check_in_range(0.5, lower=0, upper=1))\n",
    "print(check_in_range(1.5, lower=0, upper=1))"
   ]
  },
  {
   "cell_type": "markdown",
   "id": "eab3d465-da7e-4b25-bd39-dd5ea53d6d5d",
   "metadata": {
    "editable": true,
    "slideshow": {
     "slide_type": "slide"
    },
    "tags": []
   },
   "source": [
    "Note that we could have also written the same thing using `if` statements."
   ]
  },
  {
   "cell_type": "code",
   "execution_count": 14,
   "id": "d6a656b9-5e8b-4b91-bcfb-94bc5c73443f",
   "metadata": {
    "editable": true,
    "slideshow": {
     "slide_type": ""
    },
    "tags": []
   },
   "outputs": [
    {
     "name": "stdout",
     "output_type": "stream",
     "text": [
      "False\n",
      "True\n",
      "False\n"
     ]
    }
   ],
   "source": [
    "def check_in_range2(x, lower=5, upper=10):\n",
    "    if x >= lower:\n",
    "        if x <= upper:\n",
    "            return True\n",
    "        else:\n",
    "            return False\n",
    "    else:\n",
    "        return False\n",
    "\n",
    "print(check_in_range(4))\n",
    "print(check_in_range(6))\n",
    "print(check_in_range(11))"
   ]
  },
  {
   "cell_type": "markdown",
   "id": "44a9c923-af9f-446f-9099-2d466b57954d",
   "metadata": {
    "editable": true,
    "slideshow": {
     "slide_type": "fragment"
    },
    "tags": []
   },
   "source": [
    "This also works, but is harder to read. In this case, it's better to combine your tests into one statement, `x >= lower and x <= upper`."
   ]
  },
  {
   "cell_type": "markdown",
   "id": "bd6f8d83-95de-497e-9170-3d8954ad7946",
   "metadata": {
    "editable": true,
    "slideshow": {
     "slide_type": "slide"
    },
    "tags": []
   },
   "source": [
    "### Exercise: combining conditionals\n",
    "Write a function called `out_of_range` that takes in a number `x` and checks if it is *not* between 0 and 1. If $0 \\ge x \\ge 1$, it should return `False`; otherwise, it should return `True`.\n",
    "\n",
    "#### Advanced\n",
    "Add keyword arguments for `lower` and `upper` bounds, with 0 and 1 as the defaults. Change your function to use those bounds instead. Having variables like 0 and 1 specified directly in the code is known as *hard coding*. By having these be arguments to the function instead, your code becomes more flexible and less \"hard coded\"."
   ]
  },
  {
   "cell_type": "code",
   "execution_count": 2,
   "id": "64b8ace3-11e1-464f-9e59-0040468d99ab",
   "metadata": {
    "editable": true,
    "slideshow": {
     "slide_type": ""
    },
    "tags": []
   },
   "outputs": [
    {
     "data": {
      "text/plain": [
       "True"
      ]
     },
     "execution_count": 2,
     "metadata": {},
     "output_type": "execute_result"
    }
   ],
   "source": [
    "x = 2\n",
    "x < 0 or x > 1\n"
   ]
  },
  {
   "cell_type": "markdown",
   "id": "5820609b-a90c-42da-8b7c-b87fbe083fba",
   "metadata": {
    "editable": true,
    "slideshow": {
     "slide_type": "slide"
    },
    "tags": []
   },
   "source": [
    "## For loops\n",
    "\n",
    "A common pattern in programming is running some commands multiple times using a *loop*.\n",
    "\n",
    "In Python, we can do this using a `for` loop:\n",
    "\n",
    "```python\n",
    "for item in items:\n",
    "    some_code_to_run_for_each_item\n",
    "```"
   ]
  },
  {
   "cell_type": "markdown",
   "id": "2524e690-10d8-4ec2-bd67-3bd1b459958a",
   "metadata": {
    "editable": true,
    "slideshow": {
     "slide_type": "slide"
    },
    "tags": []
   },
   "source": [
    "A common pattern is to loop over some items in a list and do something with each item in the list."
   ]
  },
  {
   "cell_type": "code",
   "execution_count": 1,
   "id": "3890854d-b3d8-4869-bf00-c5330d84bdec",
   "metadata": {
    "editable": true,
    "slideshow": {
     "slide_type": ""
    },
    "tags": []
   },
   "outputs": [
    {
     "name": "stdout",
     "output_type": "stream",
     "text": [
      "piano 1\n",
      "fountain 2\n",
      "hollow 3\n",
      "pupil 4\n",
      "4\n"
     ]
    }
   ],
   "source": [
    "words = [\"piano\", \"fountain\", \"hollow\", \"pupil\"]\n",
    "count = 0\n",
    "for word in words:\n",
    "    count += 1\n",
    "    print(word, count)\n",
    "\n",
    "print(count)"
   ]
  },
  {
   "cell_type": "markdown",
   "id": "b761b92f-7acf-47c6-b96f-3d282cb6d4c5",
   "metadata": {
    "editable": true,
    "slideshow": {
     "slide_type": "fragment"
    },
    "tags": []
   },
   "source": [
    "Here, `word` is a new kind of variable we haven't seen yet. It changes its value at each step of the loop. First, it's `\"piano\"`, then `\"fountain\"`, etc., until the end of the list of words. Each time we run `print(word)`, we're printing a different word in the list."
   ]
  },
  {
   "cell_type": "markdown",
   "id": "70906d61-8ff5-41e6-91aa-64a8f24628c0",
   "metadata": {
    "editable": true,
    "slideshow": {
     "slide_type": "slide"
    },
    "tags": []
   },
   "source": [
    "Let's take another look at what happens during a `for` loop. If we run the following loop:\n",
    "\n",
    "```python\n",
    "numbers = [1, 2, 3]\n",
    "for number in numbers:\n",
    "    print(number)\n",
    "```"
   ]
  },
  {
   "cell_type": "markdown",
   "id": "48326e14-a8bd-4cf3-b2cc-939d0ec514da",
   "metadata": {
    "editable": true,
    "slideshow": {
     "slide_type": "fragment"
    },
    "tags": []
   },
   "source": [
    "Each step of the loop accesses a different part of the list:"
   ]
  },
  {
   "cell_type": "markdown",
   "id": "0ecfdcb2-0b70-43ca-9c65-584c7a5f810c",
   "metadata": {
    "editable": true,
    "slideshow": {
     "slide_type": "fragment"
    },
    "tags": []
   },
   "source": [
    "```python\n",
    "numbers = [1, 2, 3]\n",
    "number  =  ^\n",
    "```\n",
    "`number = 1`"
   ]
  },
  {
   "cell_type": "markdown",
   "id": "83a90a60-d8dc-4484-87fc-54d1e670c8eb",
   "metadata": {
    "editable": true,
    "slideshow": {
     "slide_type": "fragment"
    },
    "tags": []
   },
   "source": [
    "```python\n",
    "numbers = [1, 2, 3]\n",
    "number  =     ^\n",
    "```\n",
    "`number = 2`"
   ]
  },
  {
   "cell_type": "markdown",
   "id": "03e3f380-9e0e-46bf-b51d-9350fdb7f9d7",
   "metadata": {
    "editable": true,
    "slideshow": {
     "slide_type": "fragment"
    },
    "tags": []
   },
   "source": [
    "```python\n",
    "numbers = [1, 2, 3]\n",
    "number  =        ^\n",
    "```\n",
    "`number = 3`"
   ]
  },
  {
   "cell_type": "markdown",
   "id": "d4ecef1f-7357-4d85-93f4-c9fb3c89c951",
   "metadata": {
    "editable": true,
    "slideshow": {
     "slide_type": "slide"
    },
    "tags": []
   },
   "source": [
    "We can use `for` loops for lots of things. One example is to loop over every item in a list and create a new list by modifying that list."
   ]
  },
  {
   "cell_type": "code",
   "execution_count": 17,
   "id": "b4934375-ba21-49d8-b966-8bbabedbbb7c",
   "metadata": {
    "editable": true,
    "slideshow": {
     "slide_type": ""
    },
    "tags": []
   },
   "outputs": [
    {
     "name": "stdout",
     "output_type": "stream",
     "text": [
      "['Piano', 'Fountain', 'Hollow', 'Pupil']\n"
     ]
    }
   ],
   "source": [
    "cap = []\n",
    "for word in words:\n",
    "    cap.append(word.capitalize())\n",
    "print(cap)"
   ]
  },
  {
   "cell_type": "markdown",
   "id": "5361caf4-4f47-4af4-b574-0c32b68aefa8",
   "metadata": {
    "editable": true,
    "slideshow": {
     "slide_type": "fragment"
    },
    "tags": []
   },
   "source": [
    "Here, we first initialized a new list by setting `cap = []`. This creates an empty list with no items in it. Next, we looped over the list of words. At each step of the loop, we capitalized the word and appended it to the `cap` list."
   ]
  },
  {
   "cell_type": "markdown",
   "id": "ab8bc76a-d9cb-4b1e-b9b6-481731c21f59",
   "metadata": {
    "editable": true,
    "slideshow": {
     "slide_type": "slide"
    },
    "tags": []
   },
   "source": [
    "Let's take another look at when building a list using a `for` loop. If we run the following loop:\n",
    "\n",
    "```python\n",
    "letters = [\"a\", \"b\"]\n",
    "cap = []\n",
    "for letter in letters:\n",
    "    cap.append(letter.capitalize())\n",
    "```"
   ]
  },
  {
   "cell_type": "markdown",
   "id": "9b2a8c9e-52e9-4431-9720-cac1d77db8e1",
   "metadata": {
    "editable": true,
    "slideshow": {
     "slide_type": "fragment"
    },
    "tags": []
   },
   "source": [
    "Before the loop, `cap` is empty:"
   ]
  },
  {
   "cell_type": "markdown",
   "id": "d638e1c1-729c-4d80-8a75-b962000ca859",
   "metadata": {
    "editable": true,
    "slideshow": {
     "slide_type": "fragment"
    },
    "tags": []
   },
   "source": [
    "`cap = []`"
   ]
  },
  {
   "cell_type": "markdown",
   "id": "9d9f0a66-a290-4e83-a2f4-b8cc5396e5b6",
   "metadata": {
    "editable": true,
    "slideshow": {
     "slide_type": "fragment"
    },
    "tags": []
   },
   "source": [
    "On each step of the loop, we access a letter, capitalize it, and append it to the `cap` list:\n",
    "```python\n",
    "letters = [\"a\", \"b\"]\n",
    "letter  =   ^\n",
    "```\n",
    "`cap = [\"A\"]`"
   ]
  },
  {
   "cell_type": "markdown",
   "id": "e48f7f40-a4d1-4107-8d26-7728447fc99f",
   "metadata": {
    "editable": true,
    "slideshow": {
     "slide_type": "fragment"
    },
    "tags": []
   },
   "source": [
    "```python\n",
    "letters = [\"a\", \"b\"]\n",
    "letter  =        ^\n",
    "```\n",
    "`cap = [\"A\", \"B\"]`"
   ]
  },
  {
   "cell_type": "markdown",
   "id": "527c84d7-d4e8-43e1-859e-6a343d7b7233",
   "metadata": {
    "editable": true,
    "slideshow": {
     "slide_type": "slide"
    },
    "tags": []
   },
   "source": [
    "### Exercise: looping over a list\n",
    "\n",
    "Write a list called `numbers` with entries 1, 2, 3, and 4. Use a `for` loop to iterate over each number and create a new list called `squares` with each entry squared."
   ]
  },
  {
   "cell_type": "code",
   "execution_count": 3,
   "id": "22ce64d4-138b-4a5c-9dcd-3b5a47fd918e",
   "metadata": {
    "editable": true,
    "slideshow": {
     "slide_type": ""
    },
    "tags": []
   },
   "outputs": [
    {
     "name": "stdout",
     "output_type": "stream",
     "text": [
      "1 [1]\n",
      "2 [1, 4]\n",
      "3 [1, 4, 9]\n",
      "4 [1, 4, 9, 16]\n"
     ]
    }
   ],
   "source": [
    "numbers = [1, 2, 3, 4]\n",
    "squares = []\n",
    "for n in numbers:\n",
    "    squares.append(n ** 2)\n",
    "    print(n, squares)"
   ]
  },
  {
   "cell_type": "markdown",
   "id": "a7da2f4f-17d5-4ed2-9f78-d213dbfe3e94",
   "metadata": {
    "editable": true,
    "slideshow": {
     "slide_type": "slide"
    },
    "tags": []
   },
   "source": [
    "Another common approach is to loop over indices. Using the `range` function, we can loop from 0 to some maximum number."
   ]
  },
  {
   "cell_type": "code",
   "execution_count": 9,
   "id": "b0d78761-a3ab-4527-b30a-43f30e317c5d",
   "metadata": {
    "editable": true,
    "slideshow": {
     "slide_type": ""
    },
    "tags": []
   },
   "outputs": [
    {
     "name": "stdout",
     "output_type": "stream",
     "text": [
      "piano\n",
      "0 piano\n",
      "fountain\n",
      "1 fountain\n",
      "hollow\n",
      "2 hollow\n",
      "pupil\n",
      "3 pupil\n",
      "[0, 1, 2, 3]\n",
      "[1, 2, 3, 4, 5]\n"
     ]
    }
   ],
   "source": [
    "for i in range(len(words)):\n",
    "    print(words[i])\n",
    "    print(i, words[i])\n",
    "print(list(range(len(words))))\n",
    "print(list(range(1, 6)))"
   ]
  },
  {
   "cell_type": "markdown",
   "id": "9e615f26-e16b-437b-9b1b-b76ec0b21423",
   "metadata": {
    "editable": true,
    "slideshow": {
     "slide_type": "fragment"
    },
    "tags": []
   },
   "source": [
    "Here, instead of looping over the words directly, we create an index `i` that accesses each part of the `words` list. The `range(len(words))` part is a common way to loop over all indices in a list."
   ]
  },
  {
   "cell_type": "markdown",
   "id": "9bc12029-afe0-40d6-ae58-43a334b1aaa2",
   "metadata": {
    "editable": true,
    "slideshow": {
     "slide_type": "slide"
    },
    "tags": []
   },
   "source": [
    "Let's look at looping based on an index in more detail. If we run the following loop:\n",
    "```python\n",
    "numbers = [1, 2, 3]\n",
    "for i in range(len(numbers)):\n",
    "    print(i)\n",
    "```"
   ]
  },
  {
   "cell_type": "markdown",
   "id": "0cc77f29-7c59-4b50-8544-4918c2625aa3",
   "metadata": {
    "editable": true,
    "slideshow": {
     "slide_type": "fragment"
    },
    "tags": []
   },
   "source": [
    "Each step of the loop accesses a different index of the list:"
   ]
  },
  {
   "cell_type": "markdown",
   "id": "d91321a6-b5b4-46a9-ba9e-1fb5d8384423",
   "metadata": {
    "editable": true,
    "slideshow": {
     "slide_type": "fragment"
    },
    "tags": []
   },
   "source": [
    "```python\n",
    "numbers = [1, 2, 3]\n",
    "index   = [0, 1, 2]\n",
    "i       =  ^\n",
    "```\n",
    "`i = 0`"
   ]
  },
  {
   "cell_type": "markdown",
   "id": "249c7d48-eeb4-425e-a569-eab39d773148",
   "metadata": {
    "editable": true,
    "slideshow": {
     "slide_type": "fragment"
    },
    "tags": []
   },
   "source": [
    "```python\n",
    "numbers = [1, 2, 3]\n",
    "index   = [0, 1, 2]\n",
    "i       =     ^\n",
    "```\n",
    "`i = 1`"
   ]
  },
  {
   "cell_type": "markdown",
   "id": "e536472e-000e-4b43-997f-bb52cbaf65ed",
   "metadata": {
    "editable": true,
    "slideshow": {
     "slide_type": "fragment"
    },
    "tags": []
   },
   "source": [
    "```python\n",
    "numbers = [1, 2, 3]\n",
    "index   = [0, 1, 2]\n",
    "i       =        ^\n",
    "```\n",
    "`i = 2`"
   ]
  },
  {
   "cell_type": "markdown",
   "id": "50773d10-9825-4c9f-aa81-24a10959f282",
   "metadata": {
    "editable": true,
    "slideshow": {
     "slide_type": "slide"
    },
    "tags": []
   },
   "source": [
    "Looping over indices is helpful sometimes when we have multiple lists that are related."
   ]
  },
  {
   "cell_type": "code",
   "execution_count": 20,
   "id": "09a097c9-e125-4b05-994e-283d7fc661aa",
   "metadata": {
    "editable": true,
    "slideshow": {
     "slide_type": ""
    },
    "tags": []
   },
   "outputs": [
    {
     "name": "stdout",
     "output_type": "stream",
     "text": [
      "001 23\n",
      "002 34\n",
      "003 18\n"
     ]
    }
   ],
   "source": [
    "participant_id = [\"001\", \"002\", \"003\"]\n",
    "age = [23, 34, 18]\n",
    "for i in range(len(participant_id)):\n",
    "    print(participant_id[i], age[i])"
   ]
  },
  {
   "cell_type": "markdown",
   "id": "b2ecb925-8731-45f5-8088-ba46f0e1c3c4",
   "metadata": {
    "editable": true,
    "slideshow": {
     "slide_type": "slide"
    },
    "tags": []
   },
   "source": [
    "Another option in this case is to use the `zip` function, which \"zips\" together two (or more) lists so you can iterate over them together. At each part of the list, you get a tuple of the current element of the two lists."
   ]
  },
  {
   "cell_type": "code",
   "execution_count": 21,
   "id": "4ec2e2d9-e7d5-4489-b1ea-4f956acfad7f",
   "metadata": {
    "editable": true,
    "slideshow": {
     "slide_type": ""
    },
    "tags": []
   },
   "outputs": [
    {
     "name": "stdout",
     "output_type": "stream",
     "text": [
      "001 23\n",
      "002 34\n",
      "003 18\n"
     ]
    }
   ],
   "source": [
    "for p_id, p_age in zip(participant_id, age):\n",
    "    print(p_id, p_age)"
   ]
  },
  {
   "cell_type": "markdown",
   "id": "ad029f9c-bbfd-429a-ab84-04cb98cf639a",
   "metadata": {
    "editable": true,
    "slideshow": {
     "slide_type": "fragment"
    },
    "tags": []
   },
   "source": [
    "Sometimes using `zip` results in code that is easier to read compared to using `range`."
   ]
  },
  {
   "cell_type": "markdown",
   "id": "d681f6c9-d898-4dbb-a06c-f25e881910a3",
   "metadata": {
    "editable": true,
    "slideshow": {
     "slide_type": "slide"
    },
    "tags": []
   },
   "source": [
    "Let's look at looping using `zip` in more detail. If we run the following loop:\n",
    "```python\n",
    "numbers1 = [1, 2, 3]\n",
    "numbers2 = [4, 5, 6]\n",
    "for n1, n2 in zip(numbers1, numbers2):\n",
    "    print(n1, n2)\n",
    "```"
   ]
  },
  {
   "cell_type": "markdown",
   "id": "161470eb-051c-4e4b-aa18-44c62a8967c4",
   "metadata": {
    "editable": true,
    "slideshow": {
     "slide_type": "fragment"
    },
    "tags": []
   },
   "source": [
    "Each step of the loop accesses pairs of the items in the list:"
   ]
  },
  {
   "cell_type": "markdown",
   "id": "98a4bef9-64bf-4fb1-a056-a894d322f433",
   "metadata": {
    "editable": true,
    "slideshow": {
     "slide_type": "fragment"
    },
    "tags": []
   },
   "source": [
    "```python\n",
    "numbers1 = [1, 2, 3]\n",
    "numbers2 = [4, 5, 6]\n",
    "n1, n2   =  ^\n",
    "```\n",
    "`n1 = 1, n2 = 4`"
   ]
  },
  {
   "cell_type": "markdown",
   "id": "c741b88d-f247-4a57-bcbd-33f362e7c7ff",
   "metadata": {
    "editable": true,
    "slideshow": {
     "slide_type": "fragment"
    },
    "tags": []
   },
   "source": [
    "```python\n",
    "numbers1 = [1, 2, 3]\n",
    "numbers2 = [4, 5, 6]\n",
    "n1, n2   =     ^\n",
    "```\n",
    "`n1 = 2, n2 = 5`"
   ]
  },
  {
   "cell_type": "markdown",
   "id": "4b8f8b70-1ed1-4baa-8292-fac258e2fa99",
   "metadata": {
    "editable": true,
    "slideshow": {
     "slide_type": "fragment"
    },
    "tags": []
   },
   "source": [
    "```python\n",
    "numbers1 = [1, 2, 3]\n",
    "numbers2 = [4, 5, 6]\n",
    "n1, n2   =        ^\n",
    "```\n",
    "`n1 = 3, n2 = 6`"
   ]
  },
  {
   "cell_type": "markdown",
   "id": "eed1992a-2e91-47c8-8b51-4979429d4f71",
   "metadata": {
    "editable": true,
    "slideshow": {
     "slide_type": "slide"
    },
    "tags": []
   },
   "source": [
    "Finally, sometimes it's helpful to loop over a list while also keeping track of the current index in the list. To do this, we can use `enumerate`."
   ]
  },
  {
   "cell_type": "code",
   "execution_count": 22,
   "id": "3d698c26-2caf-4b4d-80de-4c10d8f81e10",
   "metadata": {
    "editable": true,
    "slideshow": {
     "slide_type": ""
    },
    "tags": []
   },
   "outputs": [
    {
     "name": "stdout",
     "output_type": "stream",
     "text": [
      "001 23\n",
      "002 34\n",
      "003 18\n"
     ]
    }
   ],
   "source": [
    "for i, p_id in enumerate(participant_id):\n",
    "    print(p_id, age[i])"
   ]
  },
  {
   "cell_type": "markdown",
   "id": "7b42f93c-3555-4463-9b4d-1311ca4fae20",
   "metadata": {
    "editable": true,
    "slideshow": {
     "slide_type": "fragment"
    },
    "tags": []
   },
   "source": [
    "The `enumerate` function gives us the index first, then the corresponding element of the list."
   ]
  },
  {
   "cell_type": "markdown",
   "id": "e6e91ccc-4db1-4a34-aec2-cc610638f716",
   "metadata": {
    "editable": true,
    "slideshow": {
     "slide_type": "slide"
    },
    "tags": []
   },
   "source": [
    "Let's look at using `enumerate` in more detail. If we run the following loop:\n",
    "```python\n",
    "numbers = [1, 2, 3]\n",
    "for i, n in enumerate(numbers):\n",
    "    print(i, n)\n",
    "```"
   ]
  },
  {
   "cell_type": "markdown",
   "id": "3c76507d-6a05-4b11-a82c-9f0f52106cb5",
   "metadata": {
    "editable": true,
    "slideshow": {
     "slide_type": "fragment"
    },
    "tags": []
   },
   "source": [
    "Each step of the loop accesses an index of a list and that part of the list:"
   ]
  },
  {
   "cell_type": "markdown",
   "id": "3202f1cd-d82a-4eaf-84b0-9a87c94753e8",
   "metadata": {
    "editable": true,
    "slideshow": {
     "slide_type": "fragment"
    },
    "tags": []
   },
   "source": [
    "```python\n",
    "numbers = [1, 2, 3]\n",
    "index   = [0, 1, 2]\n",
    "i, n    =  ^\n",
    "```\n",
    "`i = 0, n = 1`"
   ]
  },
  {
   "cell_type": "markdown",
   "id": "3d3ba924-ff2b-41fd-91be-7e2c9cb7daa3",
   "metadata": {
    "editable": true,
    "slideshow": {
     "slide_type": "fragment"
    },
    "tags": []
   },
   "source": [
    "```python\n",
    "numbers = [1, 2, 3]\n",
    "index   = [0, 1, 2]\n",
    "i, n    =     ^\n",
    "```\n",
    "`i = 1, n = 2`"
   ]
  },
  {
   "cell_type": "markdown",
   "id": "811d9755-6705-485a-a1c4-f1a23eb588d1",
   "metadata": {
    "editable": true,
    "slideshow": {
     "slide_type": "fragment"
    },
    "tags": []
   },
   "source": [
    "```python\n",
    "numbers = [1, 2, 3]\n",
    "index   = [0, 1, 2]\n",
    "i, n    =        ^\n",
    "```\n",
    "`i = 2, n = 3`"
   ]
  },
  {
   "cell_type": "markdown",
   "id": "93efb5bf-7970-4ddd-b546-f94d65d86568",
   "metadata": {
    "editable": true,
    "slideshow": {
     "slide_type": "slide"
    },
    "tags": []
   },
   "source": [
    "### Exercise: types of for loops\n",
    "Write a list called `letters` with entries `\"a\"`, `\"b\"`, `\"c\"`, and `\"d\"`. Write another list called `numbers` with entries `1`, `2`, `3`, and `4`.\n",
    "\n",
    "Write a loop using indexing (`for i in range(len(letters))`) and print out each letter.\n",
    "\n",
    "Write another loop using `zip` and print out each letter with the corresponding number.\n",
    "\n",
    "Write a final loop using `enumerate` and print out each index in `letters` with the corresponding letter at that index."
   ]
  },
  {
   "cell_type": "code",
   "execution_count": 23,
   "id": "9c5fc81f-6634-4d03-b36b-2edd741c580a",
   "metadata": {
    "editable": true,
    "slideshow": {
     "slide_type": ""
    },
    "tags": []
   },
   "outputs": [],
   "source": [
    "letters = [\"a\", \"b\", \"c\", \"d\"]\n",
    "numbers = [1, 2, 3, 4]\n",
    "for i in range(len(letters)):\n",
    "    print(letters[i]) #accessong 'letters' when using letters in print statement\n",
    "for ln, num in zip(letters, numbers):\n",
    "    print(ln, num)\n",
    "for i, l in enumerate (letters):\n",
    "    print([i], l) #this gives us the index of the letters"
   ]
  },
  {
   "cell_type": "markdown",
   "id": "c1d2f083-d7d8-479a-851f-6a7374096e31",
   "metadata": {
    "editable": true,
    "slideshow": {
     "slide_type": "slide"
    },
    "tags": []
   },
   "source": [
    "## Advanced: comprehensions\n",
    "\n",
    "In Python, *comprehensions* allow us to run some `for` loops in one line, when we just want to generate a new list or dictionary. We won't use comprehensions much, but they're used commonly enough in Python that they are good to know about."
   ]
  },
  {
   "cell_type": "markdown",
   "id": "6dc778a3-6473-4a08-84b5-6d0a6978768a",
   "metadata": {
    "editable": true,
    "slideshow": {
     "slide_type": "slide"
    },
    "tags": []
   },
   "source": [
    "### List comprehensions\n",
    "\n",
    "A common use of `for` loops is to generate a list. In this case, we can instead use a *list comprehension*."
   ]
  },
  {
   "cell_type": "markdown",
   "id": "958746fa-c966-48a7-97bb-26c137e69319",
   "metadata": {
    "editable": true,
    "slideshow": {
     "slide_type": "slide"
    },
    "tags": []
   },
   "source": [
    "Before, we used a `for` loop to capitalize all the items in a list."
   ]
  },
  {
   "cell_type": "code",
   "execution_count": 24,
   "id": "c113fa07-a30d-4b8a-ae53-d2ac64a181d2",
   "metadata": {
    "editable": true,
    "slideshow": {
     "slide_type": ""
    },
    "tags": []
   },
   "outputs": [
    {
     "name": "stdout",
     "output_type": "stream",
     "text": [
      "['Piano', 'Fountain', 'Hollow', 'Pupil']\n"
     ]
    }
   ],
   "source": [
    "words = [\"piano\", \"fountain\", \"hollow\", \"pupil\"]\n",
    "cap = []\n",
    "for word in words:\n",
    "    cap.append(word.capitalize())\n",
    "print(cap)"
   ]
  },
  {
   "cell_type": "markdown",
   "id": "9cd930e4-370a-4a0f-8776-f0606f3ce4b3",
   "metadata": {
    "editable": true,
    "slideshow": {
     "slide_type": "fragment"
    },
    "tags": []
   },
   "source": [
    "Python allows us to write the same thing in one line, using a list comprehension."
   ]
  },
  {
   "cell_type": "code",
   "execution_count": 25,
   "id": "80452b60-8caa-44a8-97c5-e4bb7a1b1bb4",
   "metadata": {
    "editable": true,
    "slideshow": {
     "slide_type": ""
    },
    "tags": []
   },
   "outputs": [
    {
     "name": "stdout",
     "output_type": "stream",
     "text": [
      "['Piano', 'Fountain', 'Hollow', 'Pupil']\n"
     ]
    }
   ],
   "source": [
    "cap = [word.capitalize() for word in words]\n",
    "print(cap)"
   ]
  },
  {
   "cell_type": "markdown",
   "id": "5bb03915-b016-4e65-be17-0eb8618da5c8",
   "metadata": {
    "editable": true,
    "slideshow": {
     "slide_type": "fragment"
    },
    "tags": []
   },
   "source": [
    "The first part (`word.capitalize()`) indicates how to define each item in the new list. The second part (`for word in words`) indicates what we're looping over, and what each item in the loop should be called. Here, we set each word to the temporary variable `word`."
   ]
  },
  {
   "cell_type": "markdown",
   "id": "0da1143a-c1b5-43f6-b44a-8337d6a85f06",
   "metadata": {
    "editable": true,
    "slideshow": {
     "slide_type": "slide"
    },
    "tags": []
   },
   "source": [
    "We can also add an `if` statement at the end to filter the input list. Only items that return `True` will be included."
   ]
  },
  {
   "cell_type": "code",
   "execution_count": 26,
   "id": "df8cd046-8246-492b-8473-e85bf1f281c9",
   "metadata": {
    "editable": true,
    "slideshow": {
     "slide_type": ""
    },
    "tags": []
   },
   "outputs": [
    {
     "name": "stdout",
     "output_type": "stream",
     "text": [
      "['Piano', 'Pupil']\n"
     ]
    }
   ],
   "source": [
    "cap_p = [word.capitalize() for word in words if word.startswith(\"p\")]\n",
    "print(cap_p)\n",
    "#if statement specifies "
   ]
  },
  {
   "cell_type": "markdown",
   "id": "0e118332-e4c3-48c3-9ce7-b43f8087ffbc",
   "metadata": {
    "editable": true,
    "slideshow": {
     "slide_type": "fragment"
    },
    "tags": []
   },
   "source": [
    "List comprehensions take a little getting used to, but can be useful. You can always write out a `for` loop instead though!"
   ]
  },
  {
   "cell_type": "markdown",
   "id": "8ed92d19-80ae-432b-8b26-0053f21e4c4d",
   "metadata": {
    "editable": true,
    "slideshow": {
     "slide_type": "slide"
    },
    "tags": []
   },
   "source": [
    "### Dict comprehensions\n",
    "\n",
    "A similar method can be used to generate dictionaries using a *dict comprehension*. For example, say we want to create a dictionary with a key for each index in the list, and the value set to each item in the list."
   ]
  },
  {
   "cell_type": "code",
   "execution_count": 27,
   "id": "bb4f5d7e-27b2-4432-a600-8f0f0502eb79",
   "metadata": {
    "editable": true,
    "slideshow": {
     "slide_type": ""
    },
    "tags": []
   },
   "outputs": [
    {
     "name": "stdout",
     "output_type": "stream",
     "text": [
      "{0: 'piano', 1: 'fountain', 2: 'hollow', 3: 'pupil'}\n"
     ]
    }
   ],
   "source": [
    "d = {i: w for i, w in enumerate(words)}\n",
    "print(d)"
   ]
  },
  {
   "cell_type": "markdown",
   "id": "1950f884-af00-4b58-be59-f8c0e94a5e71",
   "metadata": {
    "editable": true,
    "slideshow": {
     "slide_type": "fragment"
    },
    "tags": []
   },
   "source": [
    "To use this method, we need to generate both the key we want to use for each entry and the corresponding value. We then define each key, value pair to put in the dictionary."
   ]
  },
  {
   "cell_type": "markdown",
   "id": "08caf8d5-f865-424b-b531-42ca6dd93053",
   "metadata": {
    "editable": true,
    "slideshow": {
     "slide_type": "slide"
    },
    "tags": []
   },
   "source": [
    "## While loops\n",
    "\n",
    "Besides `for` loops, there is also a different option of `while` loops, which can be used when we want to repeat something as long as some condition applies."
   ]
  },
  {
   "cell_type": "markdown",
   "id": "9bcca96a-37c6-46fe-9451-e38b87e03028",
   "metadata": {
    "editable": true,
    "slideshow": {
     "slide_type": "slide"
    },
    "tags": []
   },
   "source": [
    "One example of using a `while` loop is when the user may want to do something multiple times, so that we don't know in advance how many times we need to run a command. Here, this program prints whatever the user inputs, unless they type quit."
   ]
  },
  {
   "cell_type": "code",
   "execution_count": 28,
   "id": "7677e88b-1b6e-4cc8-adbd-d6586fdcdacc",
   "metadata": {
    "editable": true,
    "slideshow": {
     "slide_type": ""
    },
    "tags": []
   },
   "outputs": [
    {
     "name": "stdout",
     "output_type": "stream",
     "text": [
      "Write a word, or 'quit' to stop. python\n"
     ]
    },
    {
     "name": "stdout",
     "output_type": "stream",
     "text": [
      "python\n"
     ]
    },
    {
     "name": "stdout",
     "output_type": "stream",
     "text": [
      "Write a word, or 'quit' to stop. quit\n"
     ]
    }
   ],
   "source": [
    "while True:\n",
    "    s = input(\"Write a word, or 'quit' to stop.\")\n",
    "    if s == \"quit\":\n",
    "        break\n",
    "    print(s)\n",
    "#not super relevant for data science but mentioning it anyways\n",
    "#for if you're gonna run a program but don't know how long you'll be doing it"
   ]
  },
  {
   "cell_type": "markdown",
   "id": "c35388ab-6115-4dbc-b8e8-833806bd55e1",
   "metadata": {
    "editable": true,
    "slideshow": {
     "slide_type": "fragment"
    },
    "tags": []
   },
   "source": [
    "The `input` function prints some prompt, then takes a string input from the user. The `break` statement breaks out of the loop. This can be used in `for` loops also, if we want to stop looping earlier, before running out of items to loop over."
   ]
  },
  {
   "cell_type": "markdown",
   "id": "49113edc-5123-48de-a165-1572019afb1b",
   "metadata": {
    "editable": true,
    "slideshow": {
     "slide_type": "slide"
    },
    "tags": []
   },
   "source": [
    "## Exceptions\n",
    "\n",
    "Sometimes a program is unable to run, often because of some problem with the inputs to that function. To deal with these cases, they can signal a problem by raising an *exception*.\n",
    "\n",
    "When an exception is raised, it will halt execution of the program. This allows Python programs to stop if some assumption of the program has been violated."
   ]
  },
  {
   "cell_type": "markdown",
   "id": "2d7edf55-2348-4db2-ad64-b185847180cb",
   "metadata": {
    "editable": true,
    "slideshow": {
     "slide_type": "slide"
    },
    "tags": []
   },
   "source": [
    "For example, say we need to check that participant IDs are formatted correctly. We can use the `.startswith` string method to check if it starts with the correct `\"sub-\"` text. If not, then we `raise` an error."
   ]
  },
  {
   "cell_type": "code",
   "execution_count": 29,
   "id": "d96aa501-d2a2-4ccf-a3db-1e5cd6ef3d86",
   "metadata": {
    "editable": true,
    "slideshow": {
     "slide_type": ""
    },
    "tags": []
   },
   "outputs": [],
   "source": [
    "participant_ids = [\"sub-001\", \"sub-002\", \"sub-003\"]\n",
    "# participant_ids.append(\"subs-004\")  # throws an error (try it!)\n",
    "for pid in participant_ids:\n",
    "    if not pid.startswith(\"sub-\"):\n",
    "        raise ValueError(f\"ID does not start with 'sub-': {pid}\")"
   ]
  },
  {
   "cell_type": "markdown",
   "id": "11919600-b12f-4473-ba7a-2b97a75f08fa",
   "metadata": {
    "editable": true,
    "slideshow": {
     "slide_type": "fragment"
    },
    "tags": []
   },
   "source": [
    "There are many kinds of errors to signal different types of things going wrong. Two common ones are `ValueError` (there was some sort of unexpected value for a variable) and `IOError` (there was some problem with reading in a file)."
   ]
  },
  {
   "cell_type": "markdown",
   "id": "e3094c80-f3de-4627-ac0b-98a4e2285882",
   "metadata": {
    "editable": true,
    "slideshow": {
     "slide_type": "slide"
    },
    "tags": []
   },
   "source": [
    "We can let a program continue even if an exception is raised by using a `try/except` block."
   ]
  },
  {
   "cell_type": "code",
   "execution_count": 30,
   "id": "abd19a48-c717-4794-982f-533e8b932fd2",
   "metadata": {
    "editable": true,
    "slideshow": {
     "slide_type": ""
    },
    "tags": []
   },
   "outputs": [
    {
     "name": "stdout",
     "output_type": "stream",
     "text": [
      "['A', 'B']\n"
     ]
    }
   ],
   "source": [
    "letters = [\"a\", \"b\", 2]\n",
    "cap = []\n",
    "for letter in letters:\n",
    "    try:\n",
    "        cap.append(letter.capitalize())\n",
    "    except:\n",
    "        continue\n",
    "print(cap)"
   ]
  },
  {
   "cell_type": "markdown",
   "id": "e8e4b932-7331-4806-a336-3609df653eaa",
   "metadata": {
    "editable": true,
    "slideshow": {
     "slide_type": "fragment"
    },
    "tags": []
   },
   "source": [
    "This lets us \"try\" some code, see if there is an exception, and if so, run some \"backup\" code in case an exception has been raised. Here, we just use the `continue` keyword to skip to the next loop."
   ]
  },
  {
   "cell_type": "markdown",
   "id": "7e59b03a-03fa-4156-9b15-36b727837578",
   "metadata": {
    "editable": true,
    "slideshow": {
     "slide_type": "slide"
    },
    "tags": []
   },
   "source": [
    "### Exercise: exceptions\n",
    "\n",
    "Create a variable `x = [\"a\", 1]`. Try running `sum(x)`. This will raise an exception because you can't sum a letter and a number together. Write a `try/except` block that attempts to run `sum(x)` and prints `\"Error: cannot calculate sum\"` if an exception is raised."
   ]
  },
  {
   "cell_type": "code",
   "execution_count": 31,
   "id": "44e6f27e-8b1f-4cbe-85af-1d437b9c25e4",
   "metadata": {
    "editable": true,
    "slideshow": {
     "slide_type": ""
    },
    "tags": []
   },
   "outputs": [],
   "source": [
    "# answer here"
   ]
  },
  {
   "cell_type": "markdown",
   "id": "2154e647-7662-434a-aac2-c56e700e3757",
   "metadata": {
    "editable": true,
    "slideshow": {
     "slide_type": "slide"
    },
    "tags": []
   },
   "source": [
    "## Example: putting control flow together\n",
    "\n",
    "Control flow becomes much more powerful when we use features together. Let's go over a commonly used example of control flow: the FizzBuzz game. In this game, you loop over numbers from 1 to 15. For each number, follow these rules:\n",
    "\n",
    "If a number is divisible by 3, print `\"Fizz\"`.\n",
    "\n",
    "If a number is divisible by 5, print `\"Buzz\"`.\n",
    "\n",
    "If a number is divisible by 3 and 5, print `\"FizzBuzz\"`."
   ]
  },
  {
   "cell_type": "code",
   "execution_count": 32,
   "id": "d709b899-2710-42db-ab3d-5665546c8d2f",
   "metadata": {
    "editable": true,
    "slideshow": {
     "slide_type": "fragment"
    },
    "tags": []
   },
   "outputs": [
    {
     "name": "stdout",
     "output_type": "stream",
     "text": [
      "3 Fizz\n",
      "5 Buzz\n",
      "6 Fizz\n",
      "9 Fizz\n",
      "10 Buzz\n",
      "12 Fizz\n",
      "15 FizzBuzz\n"
     ]
    }
   ],
   "source": [
    "def fizzbuzz(n):\n",
    "    for i in range(1, n + 1):\n",
    "        if (i % 3 == 0) and (i % 5 == 0):\n",
    "            print(i, \"FizzBuzz\")\n",
    "        elif i % 3 == 0:\n",
    "            print(i, \"Fizz\")\n",
    "        elif i % 5 == 0:\n",
    "            print(i, \"Buzz\")\n",
    "        #else:\n",
    "            #print(i) - in order to print out any number no matter what\n",
    "print(fizzbuzz(15))\n",
    "6 % 3 #if = 0 then if is a multiple of 3/divisible by 3"
   ]
  },
  {
   "cell_type": "markdown",
   "id": "1a706678-51bc-4655-80e0-75063962edd9",
   "metadata": {
    "editable": true,
    "slideshow": {
     "slide_type": "slide"
    },
    "tags": []
   },
   "source": [
    "## Example: using a counter\n",
    "Sometimes, it's useful to have a counter that is updated during a `for` loop. For example, say we want to count how many times we get Fizz (a number divisible by 3) in a list of numbers. We first initialize the counter to zero (`count = 0`). Then, each time we find that the condition is met, we increment the counter. Here, we use a special syntax for adding to an existing variable, using `+=`. The `count += 1` expression means the same thing as `count = count + 1`, but is easier to write and read."
   ]
  },
  {
   "cell_type": "code",
   "execution_count": 33,
   "id": "18833d6f-2f2f-45e0-baa1-7767d80ba4fd",
   "metadata": {
    "editable": true,
    "slideshow": {
     "slide_type": "fragment"
    },
    "tags": []
   },
   "outputs": [
    {
     "name": "stdout",
     "output_type": "stream",
     "text": [
      "5\n",
      "333\n"
     ]
    }
   ],
   "source": [
    "def count_fizz(n):\n",
    "    count = 0\n",
    "    for i in range(1, n + 1):\n",
    "        if i % 3 == 0:\n",
    "            count += 1\n",
    "    return count\n",
    "print(count_fizz(15))\n",
    "print(count_fizz(1000))"
   ]
  },
  {
   "cell_type": "markdown",
   "id": "44eaccf1-81ca-4c68-9f79-ec85c465201e",
   "metadata": {
    "editable": true,
    "slideshow": {
     "slide_type": "slide"
    },
    "tags": []
   },
   "source": [
    "## Example: using exceptions\n",
    "Sometimes, a function can encounter a problem that means it cannot run. We can raise an exception to deal with this kind of problem."
   ]
  },
  {
   "cell_type": "code",
   "execution_count": 34,
   "id": "a563e96d-0c85-4b48-8e95-64d2f222f65f",
   "metadata": {
    "editable": true,
    "slideshow": {
     "slide_type": "fragment"
    },
    "tags": []
   },
   "outputs": [],
   "source": [
    "def count_fizz(n):\n",
    "    if n < 1:\n",
    "        raise ValueError(\"n cannot be less than 1\")\n",
    "    count = 0\n",
    "    for i in range(1, n + 1):\n",
    "        if i % 3 == 0:\n",
    "            count += 1\n",
    "    return count\n",
    "# count_fizz(0)  # this will throw an error (try it!)"
   ]
  },
  {
   "cell_type": "markdown",
   "id": "cf60ba72-cc1c-47ef-9b39-de83024d3087",
   "metadata": {
    "editable": true,
    "slideshow": {
     "slide_type": "slide"
    },
    "tags": []
   },
   "source": [
    "### Example: using while loops\n",
    "\n",
    "Sometimes, we don't just want to loop over a list. Sometimes we instead need to loop until some condition is met.\n",
    "\n",
    "For example, say we want to find the first $n$ times that we get Fizz and return a list of those times."
   ]
  },
  {
   "cell_type": "code",
   "execution_count": 35,
   "id": "d3af221f-db69-4d06-904a-a65772ad5085",
   "metadata": {
    "editable": true,
    "slideshow": {
     "slide_type": "fragment"
    },
    "tags": []
   },
   "outputs": [
    {
     "data": {
      "text/plain": [
       "[3, 6, 9, 12, 15]"
      ]
     },
     "execution_count": 35,
     "metadata": {},
     "output_type": "execute_result"
    }
   ],
   "source": [
    "def list_first_fizz(n):\n",
    "    found = []\n",
    "    i = 1\n",
    "    while len(found) < n:\n",
    "        if i % 3 == 0:\n",
    "            found.append(i)\n",
    "        i += 1\n",
    "    return found\n",
    "list_first_fizz(5)"
   ]
  },
  {
   "cell_type": "markdown",
   "id": "2742a657-de3b-4aab-ab4d-a733cf768bfa",
   "metadata": {
    "editable": true,
    "slideshow": {
     "slide_type": "slide"
    },
    "tags": []
   },
   "source": [
    "## Summary\n",
    "Like all programming languages, Python has *control flow* commands determine what code to run at what times.\n",
    "\n",
    "`if/elif/else` statements run different code depending on what conditions apply.\n",
    "\n",
    "`for` loops iterate over elements and run some code for each element.\n",
    "\n",
    "`while` loops run as long as some condition is met.\n",
    "\n",
    "`exceptions` allow programs to quit if there is some problem that keeps them from being able to do their job."
   ]
  }
 ],
 "metadata": {
  "kernelspec": {
   "display_name": ".venv",
   "language": "python",
   "name": "python3"
  },
  "language_info": {
   "codemirror_mode": {
    "name": "ipython",
    "version": 3
   },
   "file_extension": ".py",
   "mimetype": "text/x-python",
   "name": "python",
   "nbconvert_exporter": "python",
   "pygments_lexer": "ipython3",
   "version": "3.12.8"
  }
 },
 "nbformat": 4,
 "nbformat_minor": 5
}
