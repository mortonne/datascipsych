{
 "cells": [
  {
   "cell_type": "markdown",
   "id": "eba808f3-1c5c-4da3-b579-ba92a0c21719",
   "metadata": {
    "editable": true,
    "slideshow": {
     "slide_type": "slide"
    },
    "tags": []
   },
   "source": [
    "# DataFrames\n",
    "DataFrames are used to organize spreadsheets of data. There powerful methods in Python for organizing, filtering, and summarizing data in spreadsheets."
   ]
  },
  {
   "cell_type": "markdown",
   "id": "9c45f04f-8d2f-4df0-8d33-e28f390d96fe",
   "metadata": {
    "editable": true,
    "slideshow": {
     "slide_type": "slide"
    },
    "tags": []
   },
   "source": [
    "## Importing data\n",
    "We can easily use the Polars package to import data from spreadsheets into a variable called a DataFrame. First, we will import the Polars module."
   ]
  },
  {
   "cell_type": "code",
   "execution_count": 110,
   "id": "2d9b4f41-cd71-4724-b1b1-2dc42e60348c",
   "metadata": {
    "editable": true,
    "slideshow": {
     "slide_type": ""
    },
    "tags": []
   },
   "outputs": [],
   "source": [
    "import polars as pl"
   ]
  },
  {
   "cell_type": "markdown",
   "id": "c0e84eb8-4238-40eb-8669-3f4cbf9d8d3b",
   "metadata": {
    "editable": true,
    "slideshow": {
     "slide_type": "slide"
    },
    "tags": []
   },
   "source": [
    "We can use `pl.read_csv` to import a CSV file into a DataFrame. The `head` method shows the first several lines of a DataFrame (you can choose the number of lines; the default is 5). In Jupyter, the last command in a cell will be displayed below that cell. In this case, we have `raw.head()` at the end. This produces a DataFrame, which Jupyter then displays in a nice format."
   ]
  },
  {
   "cell_type": "code",
   "execution_count": 111,
   "id": "1bac66ba",
   "metadata": {
    "editable": true,
    "slideshow": {
     "slide_type": ""
    },
    "tags": []
   },
   "outputs": [
    {
     "name": "stdout",
     "output_type": "stream",
     "text": [
      "shape: (5, 16)\n",
      "┌───────┬───────┬───────┬────────┬───┬──────┬───────────┬──────────────┬────────┐\n",
      "│ cycle ┆ trial ┆ phase ┆ type   ┆ … ┆ subj ┆ intactLag ┆ prevResponse ┆ prevRT │\n",
      "│ ---   ┆ ---   ┆ ---   ┆ ---    ┆   ┆ ---  ┆ ---       ┆ ---          ┆ ---    │\n",
      "│ i64   ┆ i64   ┆ str   ┆ str    ┆   ┆ i64  ┆ i64       ┆ i64          ┆ i64    │\n",
      "╞═══════╪═══════╪═══════╪════════╪═══╪══════╪═══════════╪══════════════╪════════╡\n",
      "│ 0     ┆ -1    ┆ study ┆ intact ┆ … ┆ 101  ┆ 0         ┆ 0            ┆ 0      │\n",
      "│ 0     ┆ 0     ┆ study ┆ intact ┆ … ┆ 101  ┆ 0         ┆ 0            ┆ 0      │\n",
      "│ 0     ┆ 1     ┆ study ┆ intact ┆ … ┆ 101  ┆ 0         ┆ 0            ┆ 0      │\n",
      "│ 0     ┆ 2     ┆ study ┆ intact ┆ … ┆ 101  ┆ 0         ┆ 0            ┆ 0      │\n",
      "│ 0     ┆ 3     ┆ study ┆ intact ┆ … ┆ 101  ┆ 0         ┆ 0            ┆ 0      │\n",
      "└───────┴───────┴───────┴────────┴───┴──────┴───────────┴──────────────┴────────┘\n"
     ]
    },
    {
     "data": {
      "text/plain": [
       "polars.dataframe.frame.DataFrame"
      ]
     },
     "execution_count": 111,
     "metadata": {},
     "output_type": "execute_result"
    }
   ],
   "source": [
    "raw = pl.read_csv(\"exp1.csv\")\n",
    "print(raw.head())\n",
    "type(raw)\n",
    "#in order to print needs to be last sign and not = anything"
   ]
  },
  {
   "cell_type": "markdown",
   "id": "356516b1",
   "metadata": {
    "editable": true,
    "slideshow": {
     "slide_type": "slide"
    },
    "tags": []
   },
   "source": [
    "We can also use `print`, but the formatting is less nice than what Jupyter uses."
   ]
  },
  {
   "cell_type": "code",
   "execution_count": 112,
   "id": "f3a0ae89",
   "metadata": {},
   "outputs": [
    {
     "name": "stdout",
     "output_type": "stream",
     "text": [
      "shape: (5, 16)\n",
      "┌───────┬───────┬───────┬────────┬───┬──────┬───────────┬──────────────┬────────┐\n",
      "│ cycle ┆ trial ┆ phase ┆ type   ┆ … ┆ subj ┆ intactLag ┆ prevResponse ┆ prevRT │\n",
      "│ ---   ┆ ---   ┆ ---   ┆ ---    ┆   ┆ ---  ┆ ---       ┆ ---          ┆ ---    │\n",
      "│ i64   ┆ i64   ┆ str   ┆ str    ┆   ┆ i64  ┆ i64       ┆ i64          ┆ i64    │\n",
      "╞═══════╪═══════╪═══════╪════════╪═══╪══════╪═══════════╪══════════════╪════════╡\n",
      "│ 0     ┆ -1    ┆ study ┆ intact ┆ … ┆ 101  ┆ 0         ┆ 0            ┆ 0      │\n",
      "│ 0     ┆ 0     ┆ study ┆ intact ┆ … ┆ 101  ┆ 0         ┆ 0            ┆ 0      │\n",
      "│ 0     ┆ 1     ┆ study ┆ intact ┆ … ┆ 101  ┆ 0         ┆ 0            ┆ 0      │\n",
      "│ 0     ┆ 2     ┆ study ┆ intact ┆ … ┆ 101  ┆ 0         ┆ 0            ┆ 0      │\n",
      "│ 0     ┆ 3     ┆ study ┆ intact ┆ … ┆ 101  ┆ 0         ┆ 0            ┆ 0      │\n",
      "└───────┴───────┴───────┴────────┴───┴──────┴───────────┴──────────────┴────────┘\n"
     ]
    }
   ],
   "source": [
    "print(raw.head())"
   ]
  },
  {
   "cell_type": "markdown",
   "id": "f764c4e6-8dea-47f3-940f-f79f91ea4a8e",
   "metadata": {
    "editable": true,
    "slideshow": {
     "slide_type": "slide"
    },
    "tags": []
   },
   "source": [
    "There are a lot of columns, including some that we won't use. Let's use the `select` method to make the data a little simpler to look at. The `select` method lets us create a new DataFrame with a specified set of columns. The simplest way to use it is to get a subset of the columns in the DataFrame by passing a list of column names."
   ]
  },
  {
   "cell_type": "code",
   "execution_count": 113,
   "id": "2c0851af-5a69-41b1-9c1e-7c8868ded0fb",
   "metadata": {
    "editable": true,
    "slideshow": {
     "slide_type": ""
    },
    "tags": []
   },
   "outputs": [
    {
     "data": {
      "text/html": [
       "<div><style>\n",
       ".dataframe > thead > tr,\n",
       ".dataframe > tbody > tr {\n",
       "  text-align: right;\n",
       "  white-space: pre-wrap;\n",
       "}\n",
       "</style>\n",
       "<small>shape: (5, 11)</small><table border=\"1\" class=\"dataframe\"><thead><tr><th>subj</th><th>cycle</th><th>trial</th><th>phase</th><th>type</th><th>word1</th><th>word2</th><th>response</th><th>RT</th><th>correct</th><th>lag</th></tr><tr><td>i64</td><td>i64</td><td>i64</td><td>str</td><td>str</td><td>str</td><td>str</td><td>i64</td><td>f64</td><td>i64</td><td>i64</td></tr></thead><tbody><tr><td>101</td><td>0</td><td>-1</td><td>&quot;study&quot;</td><td>&quot;intact&quot;</td><td>&quot;formal&quot;</td><td>&quot;positive&quot;</td><td>-1</td><td>-1.0</td><td>-1</td><td>-1</td></tr><tr><td>101</td><td>0</td><td>0</td><td>&quot;study&quot;</td><td>&quot;intact&quot;</td><td>&quot;skin&quot;</td><td>&quot;careful&quot;</td><td>-1</td><td>-1.0</td><td>-1</td><td>-1</td></tr><tr><td>101</td><td>0</td><td>1</td><td>&quot;study&quot;</td><td>&quot;intact&quot;</td><td>&quot;upon&quot;</td><td>&quot;miss&quot;</td><td>-1</td><td>-1.0</td><td>-1</td><td>-1</td></tr><tr><td>101</td><td>0</td><td>2</td><td>&quot;study&quot;</td><td>&quot;intact&quot;</td><td>&quot;single&quot;</td><td>&quot;tradition&quot;</td><td>-1</td><td>-1.0</td><td>-1</td><td>-1</td></tr><tr><td>101</td><td>0</td><td>3</td><td>&quot;study&quot;</td><td>&quot;intact&quot;</td><td>&quot;prove&quot;</td><td>&quot;airport&quot;</td><td>-1</td><td>-1.0</td><td>-1</td><td>-1</td></tr></tbody></table></div>"
      ],
      "text/plain": [
       "shape: (5, 11)\n",
       "┌──────┬───────┬───────┬───────┬───┬──────────┬──────┬─────────┬─────┐\n",
       "│ subj ┆ cycle ┆ trial ┆ phase ┆ … ┆ response ┆ RT   ┆ correct ┆ lag │\n",
       "│ ---  ┆ ---   ┆ ---   ┆ ---   ┆   ┆ ---      ┆ ---  ┆ ---     ┆ --- │\n",
       "│ i64  ┆ i64   ┆ i64   ┆ str   ┆   ┆ i64      ┆ f64  ┆ i64     ┆ i64 │\n",
       "╞══════╪═══════╪═══════╪═══════╪═══╪══════════╪══════╪═════════╪═════╡\n",
       "│ 101  ┆ 0     ┆ -1    ┆ study ┆ … ┆ -1       ┆ -1.0 ┆ -1      ┆ -1  │\n",
       "│ 101  ┆ 0     ┆ 0     ┆ study ┆ … ┆ -1       ┆ -1.0 ┆ -1      ┆ -1  │\n",
       "│ 101  ┆ 0     ┆ 1     ┆ study ┆ … ┆ -1       ┆ -1.0 ┆ -1      ┆ -1  │\n",
       "│ 101  ┆ 0     ┆ 2     ┆ study ┆ … ┆ -1       ┆ -1.0 ┆ -1      ┆ -1  │\n",
       "│ 101  ┆ 0     ┆ 3     ┆ study ┆ … ┆ -1       ┆ -1.0 ┆ -1      ┆ -1  │\n",
       "└──────┴───────┴───────┴───────┴───┴──────────┴──────┴─────────┴─────┘"
      ]
     },
     "execution_count": 113,
     "metadata": {},
     "output_type": "execute_result"
    }
   ],
   "source": [
    "columns = [\"subj\", \"cycle\", \"trial\", \"phase\", \"type\", \"word1\", \"word2\", \"response\", \"RT\", \"correct\", \"lag\"]\n",
    "df = raw.select(columns)\n",
    "df.head()"
   ]
  },
  {
   "cell_type": "markdown",
   "id": "3653355f-46ad-4ed7-8e60-2fa80fc14e59",
   "metadata": {
    "editable": true,
    "slideshow": {
     "slide_type": "fragment"
    },
    "tags": []
   },
   "source": [
    "A DataFrame has multiple columns, each of which can have a different type of data. For example, `i64` means a 64-bit integer, and `str` indicates a string. Polars tries to guess the right data type for each column based on the data in that column during import."
   ]
  },
  {
   "cell_type": "markdown",
   "id": "64a052fa-727b-4fba-bece-2b73fd4f704d",
   "metadata": {
    "editable": true,
    "slideshow": {
     "slide_type": "slide"
    },
    "tags": []
   },
   "source": [
    "The list of columns and their data types is known as a *schema*. We can access it for an existing DataFrame using the `schema` attribute."
   ]
  },
  {
   "cell_type": "code",
   "execution_count": 114,
   "id": "89611422-e025-48ee-9043-cb9de60658da",
   "metadata": {
    "editable": true,
    "slideshow": {
     "slide_type": ""
    },
    "tags": []
   },
   "outputs": [
    {
     "data": {
      "text/plain": [
       "Schema([('subj', Int64),\n",
       "        ('cycle', Int64),\n",
       "        ('trial', Int64),\n",
       "        ('phase', String),\n",
       "        ('type', String),\n",
       "        ('word1', String),\n",
       "        ('word2', String),\n",
       "        ('response', Int64),\n",
       "        ('RT', Float64),\n",
       "        ('correct', Int64),\n",
       "        ('lag', Int64)])"
      ]
     },
     "execution_count": 114,
     "metadata": {},
     "output_type": "execute_result"
    }
   ],
   "source": [
    "df.schema"
   ]
  },
  {
   "cell_type": "markdown",
   "id": "bca130a6-6a64-42e0-86fb-f9d4606ddb77",
   "metadata": {
    "editable": true,
    "slideshow": {
     "slide_type": "slide"
    },
    "tags": []
   },
   "source": [
    "When importing data, we can make changes to the schema to read things in differently. We can either pass in a full `schema` that we want to use, as a dictionary, or a `schema_overrides` input to indicate just some specific column formats. If we only specify some columns, the format of the other ones will be inferred automatically."
   ]
  },
  {
   "cell_type": "code",
   "execution_count": 115,
   "id": "2061f8aa-fa3b-41f4-9c96-5f95b614f234",
   "metadata": {
    "editable": true,
    "slideshow": {
     "slide_type": ""
    },
    "tags": []
   },
   "outputs": [
    {
     "data": {
      "text/html": [
       "<div><style>\n",
       ".dataframe > thead > tr,\n",
       ".dataframe > tbody > tr {\n",
       "  text-align: right;\n",
       "  white-space: pre-wrap;\n",
       "}\n",
       "</style>\n",
       "<small>shape: (5, 16)</small><table border=\"1\" class=\"dataframe\"><thead><tr><th>cycle</th><th>trial</th><th>phase</th><th>type</th><th>word1</th><th>word2</th><th>response</th><th>RT</th><th>correct</th><th>lag</th><th>serPos1</th><th>serPos2</th><th>subj</th><th>intactLag</th><th>prevResponse</th><th>prevRT</th></tr><tr><td>i64</td><td>i64</td><td>str</td><td>str</td><td>str</td><td>str</td><td>f64</td><td>f64</td><td>i64</td><td>i64</td><td>i64</td><td>i64</td><td>i64</td><td>i64</td><td>i64</td><td>i64</td></tr></thead><tbody><tr><td>0</td><td>-1</td><td>&quot;study&quot;</td><td>&quot;intact&quot;</td><td>&quot;formal&quot;</td><td>&quot;positive&quot;</td><td>-1.0</td><td>-1.0</td><td>-1</td><td>-1</td><td>0</td><td>0</td><td>101</td><td>0</td><td>0</td><td>0</td></tr><tr><td>0</td><td>0</td><td>&quot;study&quot;</td><td>&quot;intact&quot;</td><td>&quot;skin&quot;</td><td>&quot;careful&quot;</td><td>-1.0</td><td>-1.0</td><td>-1</td><td>-1</td><td>1</td><td>1</td><td>101</td><td>0</td><td>0</td><td>0</td></tr><tr><td>0</td><td>1</td><td>&quot;study&quot;</td><td>&quot;intact&quot;</td><td>&quot;upon&quot;</td><td>&quot;miss&quot;</td><td>-1.0</td><td>-1.0</td><td>-1</td><td>-1</td><td>2</td><td>2</td><td>101</td><td>0</td><td>0</td><td>0</td></tr><tr><td>0</td><td>2</td><td>&quot;study&quot;</td><td>&quot;intact&quot;</td><td>&quot;single&quot;</td><td>&quot;tradition&quot;</td><td>-1.0</td><td>-1.0</td><td>-1</td><td>-1</td><td>3</td><td>3</td><td>101</td><td>0</td><td>0</td><td>0</td></tr><tr><td>0</td><td>3</td><td>&quot;study&quot;</td><td>&quot;intact&quot;</td><td>&quot;prove&quot;</td><td>&quot;airport&quot;</td><td>-1.0</td><td>-1.0</td><td>-1</td><td>-1</td><td>4</td><td>4</td><td>101</td><td>0</td><td>0</td><td>0</td></tr></tbody></table></div>"
      ],
      "text/plain": [
       "shape: (5, 16)\n",
       "┌───────┬───────┬───────┬────────┬───┬──────┬───────────┬──────────────┬────────┐\n",
       "│ cycle ┆ trial ┆ phase ┆ type   ┆ … ┆ subj ┆ intactLag ┆ prevResponse ┆ prevRT │\n",
       "│ ---   ┆ ---   ┆ ---   ┆ ---    ┆   ┆ ---  ┆ ---       ┆ ---          ┆ ---    │\n",
       "│ i64   ┆ i64   ┆ str   ┆ str    ┆   ┆ i64  ┆ i64       ┆ i64          ┆ i64    │\n",
       "╞═══════╪═══════╪═══════╪════════╪═══╪══════╪═══════════╪══════════════╪════════╡\n",
       "│ 0     ┆ -1    ┆ study ┆ intact ┆ … ┆ 101  ┆ 0         ┆ 0            ┆ 0      │\n",
       "│ 0     ┆ 0     ┆ study ┆ intact ┆ … ┆ 101  ┆ 0         ┆ 0            ┆ 0      │\n",
       "│ 0     ┆ 1     ┆ study ┆ intact ┆ … ┆ 101  ┆ 0         ┆ 0            ┆ 0      │\n",
       "│ 0     ┆ 2     ┆ study ┆ intact ┆ … ┆ 101  ┆ 0         ┆ 0            ┆ 0      │\n",
       "│ 0     ┆ 3     ┆ study ┆ intact ┆ … ┆ 101  ┆ 0         ┆ 0            ┆ 0      │\n",
       "└───────┴───────┴───────┴────────┴───┴──────┴───────────┴──────────────┴────────┘"
      ]
     },
     "execution_count": 115,
     "metadata": {},
     "output_type": "execute_result"
    }
   ],
   "source": [
    "raw_override = pl.read_csv(\"exp1.csv\", schema_overrides={\"response\": pl.Float64})\n",
    "raw_override.head()"
   ]
  },
  {
   "cell_type": "markdown",
   "id": "13caf412-7782-45cb-bd64-d028858ee6b7",
   "metadata": {
    "editable": true,
    "slideshow": {
     "slide_type": "fragment"
    },
    "tags": []
   },
   "source": [
    "Note that the `response` column is now a 64-bit float (`f64`) instead of an integer."
   ]
  },
  {
   "cell_type": "markdown",
   "id": "0f1b913f",
   "metadata": {
    "editable": true,
    "slideshow": {
     "slide_type": "slide"
    },
    "tags": []
   },
   "source": [
    "We can also easily write out a DataFrame to a spreadsheet file, using the `write_csv` method. We must specify the path to where we want the file to be saved.\n",
    "\n",
    "We'll first use the `head` method to get the first five lines. Note that we can chain together calls to DataFrame methods. When we call `head`, it returns a new DataFrame. Then we immediately call `write_csv`, which works on the trimmed DataFrame."
   ]
  },
  {
   "cell_type": "code",
   "execution_count": 116,
   "id": "23cd7347",
   "metadata": {},
   "outputs": [],
   "source": [
    "df.head(5).write_csv(\"exp1_trimmed.csv\")"
   ]
  },
  {
   "cell_type": "markdown",
   "id": "c0472338",
   "metadata": {
    "editable": true,
    "slideshow": {
     "slide_type": "fragment"
    },
    "tags": []
   },
   "source": [
    "Take a look at the `exp1_trimmed.csv` spreadsheet in VSCode."
   ]
  },
  {
   "cell_type": "markdown",
   "id": "b7cc7f91",
   "metadata": {
    "editable": true,
    "slideshow": {
     "slide_type": "slide"
    },
    "tags": []
   },
   "source": [
    "### Exercise: importing data using Polars\n",
    "\n",
    "Read the file in this directory called `people.csv` into a DataFrame called `people`. Use the `columns` input to select just these columns: name, weight, height. Use Jupyter to display the DataFrame.\n",
    "\n",
    "#### Advanced: handle dates\n",
    "\n",
    "Set `try_parse_dates` to `True` to automatically identify dates and read them in as dates instead of strings. Dates can be used in Python to calculate things like differences in age."
   ]
  },
  {
   "cell_type": "code",
   "execution_count": 117,
   "id": "a9f5d7d1",
   "metadata": {},
   "outputs": [
    {
     "data": {
      "text/html": [
       "<div><style>\n",
       ".dataframe > thead > tr,\n",
       ".dataframe > tbody > tr {\n",
       "  text-align: right;\n",
       "  white-space: pre-wrap;\n",
       "}\n",
       "</style>\n",
       "<small>shape: (4, 3)</small><table border=\"1\" class=\"dataframe\"><thead><tr><th>name</th><th>weight</th><th>height</th></tr><tr><td>str</td><td>f64</td><td>f64</td></tr></thead><tbody><tr><td>&quot;Alice Archer&quot;</td><td>57.9</td><td>1.56</td></tr><tr><td>&quot;Ben Brown&quot;</td><td>72.5</td><td>1.77</td></tr><tr><td>&quot;Chloe Cooper&quot;</td><td>53.6</td><td>1.65</td></tr><tr><td>&quot;Daniel Donovan&quot;</td><td>83.1</td><td>1.75</td></tr></tbody></table></div>"
      ],
      "text/plain": [
       "shape: (4, 3)\n",
       "┌────────────────┬────────┬────────┐\n",
       "│ name           ┆ weight ┆ height │\n",
       "│ ---            ┆ ---    ┆ ---    │\n",
       "│ str            ┆ f64    ┆ f64    │\n",
       "╞════════════════╪════════╪════════╡\n",
       "│ Alice Archer   ┆ 57.9   ┆ 1.56   │\n",
       "│ Ben Brown      ┆ 72.5   ┆ 1.77   │\n",
       "│ Chloe Cooper   ┆ 53.6   ┆ 1.65   │\n",
       "│ Daniel Donovan ┆ 83.1   ┆ 1.75   │\n",
       "└────────────────┴────────┴────────┘"
      ]
     },
     "execution_count": 117,
     "metadata": {},
     "output_type": "execute_result"
    }
   ],
   "source": [
    "# answer here\n",
    "import polars as pl\n",
    "people = pl.read_csv(\"people.csv\", try_parse_dates=True)\n",
    "people = pl.read_csv(\"people.csv\", columns=[\"name\", \"weight\", \"height\"])\n",
    "people\n",
    "#people[\"birthdate\"][0] - people[\"birthdate\"][1]\n",
    "#help(pl.read_csv)\n",
    "#not really gonna get into dates\n",
    "#people"
   ]
  },
  {
   "cell_type": "markdown",
   "id": "b0d0d062",
   "metadata": {
    "editable": true,
    "slideshow": {
     "slide_type": "slide"
    },
    "tags": []
   },
   "source": [
    "## Creating a DataFrame directly in Python\n",
    "\n",
    "It's also possible to create a DataFrame directly using a dictionary of lists. Each key in the dictionary becomes a column in the DataFrame. This method is mostly used for demonstrations; real data are usually in a file that has to be imported."
   ]
  },
  {
   "cell_type": "markdown",
   "id": "f2066eba",
   "metadata": {
    "editable": true,
    "slideshow": {
     "slide_type": "slide"
    },
    "tags": []
   },
   "source": [
    "We can create a DataFrame directly by calling `pl.DataFrame`. The input gives all the data and the column names, as a Python dictionary. We use the special `date` datatype to represent dates. The dates are given in the international standard format, which follows this ordering: year, month, day."
   ]
  },
  {
   "cell_type": "code",
   "execution_count": 118,
   "id": "8fcea816",
   "metadata": {},
   "outputs": [],
   "source": [
    "from datetime import date\n",
    "df_manual = pl.DataFrame(\n",
    "    {\n",
    "        \"name\": [\"Alice Archer\", \"Ben Brown\", \"Chloe Cooper\", \"Daniel Donovan\"],\n",
    "        \"birthdate\": [\n",
    "            date(1997, 1, 10),\n",
    "            date(1985, 2, 15),\n",
    "            date(1983, 3, 22),\n",
    "            date(1981, 4, 30),\n",
    "        ],\n",
    "        \"weight\": [57.9, 72.5, 53.6, 83.1],  # (kg)\n",
    "        \"height\": [1.56, 1.77, 1.65, 1.75],  # (m)\n",
    "    }\n",
    ")"
   ]
  },
  {
   "cell_type": "markdown",
   "id": "916bdafd",
   "metadata": {
    "editable": true,
    "slideshow": {
     "slide_type": "slide"
    },
    "tags": []
   },
   "source": [
    "Let's take a look at the DataFrame we created. Note that each key in the dictionary is now a column. The lists we passed in become the data for each column."
   ]
  },
  {
   "cell_type": "code",
   "execution_count": 119,
   "id": "cda985f8",
   "metadata": {},
   "outputs": [
    {
     "data": {
      "text/html": [
       "<div><style>\n",
       ".dataframe > thead > tr,\n",
       ".dataframe > tbody > tr {\n",
       "  text-align: right;\n",
       "  white-space: pre-wrap;\n",
       "}\n",
       "</style>\n",
       "<small>shape: (4, 4)</small><table border=\"1\" class=\"dataframe\"><thead><tr><th>name</th><th>birthdate</th><th>weight</th><th>height</th></tr><tr><td>str</td><td>date</td><td>f64</td><td>f64</td></tr></thead><tbody><tr><td>&quot;Alice Archer&quot;</td><td>1997-01-10</td><td>57.9</td><td>1.56</td></tr><tr><td>&quot;Ben Brown&quot;</td><td>1985-02-15</td><td>72.5</td><td>1.77</td></tr><tr><td>&quot;Chloe Cooper&quot;</td><td>1983-03-22</td><td>53.6</td><td>1.65</td></tr><tr><td>&quot;Daniel Donovan&quot;</td><td>1981-04-30</td><td>83.1</td><td>1.75</td></tr></tbody></table></div>"
      ],
      "text/plain": [
       "shape: (4, 4)\n",
       "┌────────────────┬────────────┬────────┬────────┐\n",
       "│ name           ┆ birthdate  ┆ weight ┆ height │\n",
       "│ ---            ┆ ---        ┆ ---    ┆ ---    │\n",
       "│ str            ┆ date       ┆ f64    ┆ f64    │\n",
       "╞════════════════╪════════════╪════════╪════════╡\n",
       "│ Alice Archer   ┆ 1997-01-10 ┆ 57.9   ┆ 1.56   │\n",
       "│ Ben Brown      ┆ 1985-02-15 ┆ 72.5   ┆ 1.77   │\n",
       "│ Chloe Cooper   ┆ 1983-03-22 ┆ 53.6   ┆ 1.65   │\n",
       "│ Daniel Donovan ┆ 1981-04-30 ┆ 83.1   ┆ 1.75   │\n",
       "└────────────────┴────────────┴────────┴────────┘"
      ]
     },
     "execution_count": 119,
     "metadata": {},
     "output_type": "execute_result"
    }
   ],
   "source": [
    "df_manual"
   ]
  },
  {
   "cell_type": "markdown",
   "id": "05e42eb1",
   "metadata": {
    "editable": true,
    "slideshow": {
     "slide_type": "slide"
    },
    "tags": []
   },
   "source": [
    "### Exercise: creating a DataFrame\n",
    "\n",
    "Create a DataFrame called `data` with the same data and column names as this table. The `participant_id` column should have strings; the `age` column should have integers; and the `accuracy` column should have floats.\n",
    "\n",
    "| participant_id | age | accuracy |\n",
    "| -------------- | --- | -------- |\n",
    "| 001            | 24  | 0.85     |\n",
    "| 002            | 21  | 0.72     |\n",
    "| 003            | 33  | 0.92     |"
   ]
  },
  {
   "cell_type": "code",
   "execution_count": 120,
   "id": "51f10158",
   "metadata": {},
   "outputs": [
    {
     "data": {
      "text/html": [
       "<div><style>\n",
       ".dataframe > thead > tr,\n",
       ".dataframe > tbody > tr {\n",
       "  text-align: right;\n",
       "  white-space: pre-wrap;\n",
       "}\n",
       "</style>\n",
       "<small>shape: (3, 3)</small><table border=\"1\" class=\"dataframe\"><thead><tr><th>partciipant_id</th><th>age</th><th>accuracy</th></tr><tr><td>str</td><td>i64</td><td>f64</td></tr></thead><tbody><tr><td>&quot;001&quot;</td><td>24</td><td>0.85</td></tr><tr><td>&quot;002&quot;</td><td>21</td><td>0.72</td></tr><tr><td>&quot;003&quot;</td><td>33</td><td>0.92</td></tr></tbody></table></div>"
      ],
      "text/plain": [
       "shape: (3, 3)\n",
       "┌────────────────┬─────┬──────────┐\n",
       "│ partciipant_id ┆ age ┆ accuracy │\n",
       "│ ---            ┆ --- ┆ ---      │\n",
       "│ str            ┆ i64 ┆ f64      │\n",
       "╞════════════════╪═════╪══════════╡\n",
       "│ 001            ┆ 24  ┆ 0.85     │\n",
       "│ 002            ┆ 21  ┆ 0.72     │\n",
       "│ 003            ┆ 33  ┆ 0.92     │\n",
       "└────────────────┴─────┴──────────┘"
      ]
     },
     "execution_count": 120,
     "metadata": {},
     "output_type": "execute_result"
    }
   ],
   "source": [
    "# answer here\n",
    "data = pl.DataFrame(\n",
    "    {\n",
    "        \"partciipant_id\": [\"001\", \"002\", \"003\"],\n",
    "        \"age\": [24, 21, 33],\n",
    "        \"accuracy\": [0.85, 0.72, 0.92]\n",
    "    }\n",
    ")\n",
    "data"
   ]
  },
  {
   "cell_type": "markdown",
   "id": "dbb25f78-d95c-4a9a-9c41-61fd6f35c7f0",
   "metadata": {
    "editable": true,
    "slideshow": {
     "slide_type": "slide"
    },
    "tags": []
   },
   "source": [
    "## Accessing data in a DataFrame\n",
    "DataFrames organize data within a more complex data structure than we've seen so far. We can access parts of a DataFrame to get some of the same structures that we have worked with before."
   ]
  },
  {
   "cell_type": "markdown",
   "id": "8144bcc1-b39d-4144-854b-b50a22d88cde",
   "metadata": {
    "editable": true,
    "slideshow": {
     "slide_type": "slide"
    },
    "tags": []
   },
   "source": [
    "We can access columns of a DataFrame using `df[\"column\"]`, like we've seen before with dictionaries. This gives us a special data type called a `Series`. It's used in Polars to represent single columns of data separately from a DataFrame. They aren't used very often by themselves."
   ]
  },
  {
   "cell_type": "code",
   "execution_count": 121,
   "id": "02013695-7aee-48e9-a6ad-562fffc3e824",
   "metadata": {
    "editable": true,
    "slideshow": {
     "slide_type": ""
    },
    "tags": []
   },
   "outputs": [
    {
     "data": {
      "text/html": [
       "<div><style>\n",
       ".dataframe > thead > tr,\n",
       ".dataframe > tbody > tr {\n",
       "  text-align: right;\n",
       "  white-space: pre-wrap;\n",
       "}\n",
       "</style>\n",
       "<small>shape: (107_443,)</small><table border=\"1\" class=\"dataframe\"><thead><tr><th>type</th></tr><tr><td>str</td></tr></thead><tbody><tr><td>&quot;intact&quot;</td></tr><tr><td>&quot;intact&quot;</td></tr><tr><td>&quot;intact&quot;</td></tr><tr><td>&quot;intact&quot;</td></tr><tr><td>&quot;intact&quot;</td></tr><tr><td>&hellip;</td></tr><tr><td>&quot;intact&quot;</td></tr><tr><td>&quot;rearranged&quot;</td></tr><tr><td>&quot;rearranged&quot;</td></tr><tr><td>&quot;rearranged&quot;</td></tr><tr><td>&quot;intact&quot;</td></tr></tbody></table></div>"
      ],
      "text/plain": [
       "shape: (107_443,)\n",
       "Series: 'type' [str]\n",
       "[\n",
       "\t\"intact\"\n",
       "\t\"intact\"\n",
       "\t\"intact\"\n",
       "\t\"intact\"\n",
       "\t\"intact\"\n",
       "\t…\n",
       "\t\"intact\"\n",
       "\t\"rearranged\"\n",
       "\t\"rearranged\"\n",
       "\t\"rearranged\"\n",
       "\t\"intact\"\n",
       "]"
      ]
     },
     "execution_count": 121,
     "metadata": {},
     "output_type": "execute_result"
    }
   ],
   "source": [
    "df[\"type\"]"
   ]
  },
  {
   "cell_type": "markdown",
   "id": "9fe7888d-6c03-4394-abb5-aa90c2362a89",
   "metadata": {
    "editable": true,
    "slideshow": {
     "slide_type": "slide"
    },
    "tags": []
   },
   "source": [
    "We can convert Series into NumPy arrays using the `to_numpy` method."
   ]
  },
  {
   "cell_type": "code",
   "execution_count": 122,
   "id": "f2dd54a6-5fac-4863-b3a5-8a675920f80e",
   "metadata": {
    "editable": true,
    "slideshow": {
     "slide_type": ""
    },
    "tags": []
   },
   "outputs": [
    {
     "data": {
      "text/plain": [
       "array([-1, -1, -1, ...,  1,  0,  1], shape=(107443,))"
      ]
     },
     "execution_count": 122,
     "metadata": {},
     "output_type": "execute_result"
    }
   ],
   "source": [
    "x = df[\"response\"].to_numpy()\n",
    "x"
   ]
  },
  {
   "cell_type": "markdown",
   "id": "53ac635b-d0f5-4370-bf3a-8c100dec8237",
   "metadata": {
    "editable": true,
    "slideshow": {
     "slide_type": "fragment"
    },
    "tags": []
   },
   "source": [
    "We can then run any NumPy methods we want, like calculating the mean. We'll use `nanmean` to exclude missing samples."
   ]
  },
  {
   "cell_type": "code",
   "execution_count": 123,
   "id": "eb7c7423-245c-4a86-b4d8-888fce5cbdd1",
   "metadata": {
    "editable": true,
    "slideshow": {
     "slide_type": ""
    },
    "tags": []
   },
   "outputs": [
    {
     "data": {
      "text/plain": [
       "np.float64(-0.31397112887763745)"
      ]
     },
     "execution_count": 123,
     "metadata": {},
     "output_type": "execute_result"
    }
   ],
   "source": [
    "import numpy as np\n",
    "np.nanmean(x)"
   ]
  },
  {
   "cell_type": "markdown",
   "id": "7f455577-6316-4973-8eb4-385b8c4e20a6",
   "metadata": {
    "editable": true,
    "slideshow": {
     "slide_type": "slide"
    },
    "tags": []
   },
   "source": [
    "Usually converting data to NumPy arrays isn't the best way to go, however. Polars has lots of tools for quickly doing things like calculating means and handling missing data by operating on a DataFrame."
   ]
  },
  {
   "cell_type": "code",
   "execution_count": 124,
   "id": "858f1e85",
   "metadata": {},
   "outputs": [
    {
     "data": {
      "text/plain": [
       "-0.31397112887763745"
      ]
     },
     "execution_count": 124,
     "metadata": {},
     "output_type": "execute_result"
    }
   ],
   "source": [
    "df[\"response\"].mean()\n",
    "#one column"
   ]
  },
  {
   "cell_type": "markdown",
   "id": "523d2ea4",
   "metadata": {
    "editable": true,
    "slideshow": {
     "slide_type": "fragment"
    },
    "tags": []
   },
   "source": [
    "We can also use `mean` on the DataFrame to calculate it for all columns. Note that this doesn't really make sense for all the columns, though. To get a meaningful result, we need to do some *data cleaning* first to do things like remove the `-1` values that are used to indicate missing data."
   ]
  },
  {
   "cell_type": "code",
   "execution_count": 125,
   "id": "afc93537",
   "metadata": {},
   "outputs": [
    {
     "data": {
      "text/html": [
       "<div><style>\n",
       ".dataframe > thead > tr,\n",
       ".dataframe > tbody > tr {\n",
       "  text-align: right;\n",
       "  white-space: pre-wrap;\n",
       "}\n",
       "</style>\n",
       "<small>shape: (1, 11)</small><table border=\"1\" class=\"dataframe\"><thead><tr><th>subj</th><th>cycle</th><th>trial</th><th>phase</th><th>type</th><th>word1</th><th>word2</th><th>response</th><th>RT</th><th>correct</th><th>lag</th></tr><tr><td>f64</td><td>f64</td><td>f64</td><td>str</td><td>str</td><td>str</td><td>str</td><td>f64</td><td>f64</td><td>f64</td><td>f64</td></tr></thead><tbody><tr><td>165.644798</td><td>3.497492</td><td>28.496598</td><td>null</td><td>null</td><td>null</td><td>null</td><td>-0.313971</td><td>0.16512</td><td>-0.172007</td><td>-0.0004</td></tr></tbody></table></div>"
      ],
      "text/plain": [
       "shape: (1, 11)\n",
       "┌────────────┬──────────┬───────────┬───────┬───┬───────────┬─────────┬───────────┬─────────┐\n",
       "│ subj       ┆ cycle    ┆ trial     ┆ phase ┆ … ┆ response  ┆ RT      ┆ correct   ┆ lag     │\n",
       "│ ---        ┆ ---      ┆ ---       ┆ ---   ┆   ┆ ---       ┆ ---     ┆ ---       ┆ ---     │\n",
       "│ f64        ┆ f64      ┆ f64       ┆ str   ┆   ┆ f64       ┆ f64     ┆ f64       ┆ f64     │\n",
       "╞════════════╪══════════╪═══════════╪═══════╪═══╪═══════════╪═════════╪═══════════╪═════════╡\n",
       "│ 165.644798 ┆ 3.497492 ┆ 28.496598 ┆ null  ┆ … ┆ -0.313971 ┆ 0.16512 ┆ -0.172007 ┆ -0.0004 │\n",
       "└────────────┴──────────┴───────────┴───────┴───┴───────────┴─────────┴───────────┴─────────┘"
      ]
     },
     "execution_count": 125,
     "metadata": {},
     "output_type": "execute_result"
    }
   ],
   "source": [
    "df.mean()\n",
    "#all columns\n",
    "#for some columns it doesn't make sense to calc mean, like string columns"
   ]
  },
  {
   "cell_type": "markdown",
   "id": "604b4c9f",
   "metadata": {
    "editable": true,
    "slideshow": {
     "slide_type": "slide"
    },
    "tags": []
   },
   "source": [
    "### Exercise: accessing data\n",
    "\n",
    "Read the `people.csv` file into a DataFrame. Convert the `height` variable into a NumPy array and use NumPy to calculate the mean. Then use Polars to calculate the mean of all columns."
   ]
  },
  {
   "cell_type": "code",
   "execution_count": 126,
   "id": "0fe74cbe",
   "metadata": {},
   "outputs": [
    {
     "data": {
      "text/html": [
       "<div><style>\n",
       ".dataframe > thead > tr,\n",
       ".dataframe > tbody > tr {\n",
       "  text-align: right;\n",
       "  white-space: pre-wrap;\n",
       "}\n",
       "</style>\n",
       "<small>shape: (1, 4)</small><table border=\"1\" class=\"dataframe\"><thead><tr><th>name</th><th>birthdate</th><th>weight</th><th>height</th></tr><tr><td>str</td><td>str</td><td>f64</td><td>f64</td></tr></thead><tbody><tr><td>null</td><td>null</td><td>66.775</td><td>1.6825</td></tr></tbody></table></div>"
      ],
      "text/plain": [
       "shape: (1, 4)\n",
       "┌──────┬───────────┬────────┬────────┐\n",
       "│ name ┆ birthdate ┆ weight ┆ height │\n",
       "│ ---  ┆ ---       ┆ ---    ┆ ---    │\n",
       "│ str  ┆ str       ┆ f64    ┆ f64    │\n",
       "╞══════╪═══════════╪════════╪════════╡\n",
       "│ null ┆ null      ┆ 66.775 ┆ 1.6825 │\n",
       "└──────┴───────────┴────────┴────────┘"
      ]
     },
     "execution_count": 126,
     "metadata": {},
     "output_type": "execute_result"
    }
   ],
   "source": [
    "# answer here\n",
    "people = pl.read_csv(\"people.csv\")\n",
    "#to access column, use square braces like dict\n",
    "height = people[\"height\"].to_numpy()\n",
    "#np.mean(height) - specific\n",
    "people.mean() #everything"
   ]
  },
  {
   "cell_type": "markdown",
   "id": "f1729e18",
   "metadata": {
    "editable": true,
    "slideshow": {
     "slide_type": "slide"
    },
    "tags": []
   },
   "source": [
    "## Polars contexts\n",
    "\n",
    "Polars has different *contexts* that can be used to accomplish different kinds of operations.\n",
    "\n",
    "*select* is used to get a subset of columns or to create new columns from data in the DataFrame.\n",
    "\n",
    "*with_columns* works the same as select, but adds columns instead of creating a whole new DataFrame.\n",
    "\n",
    "*filter* is used to select a subset of the rows in the DataFrame.\n",
    "\n",
    "*group_by* is used to analyze groups of observations and calculate summary statistics."
   ]
  },
  {
   "cell_type": "markdown",
   "id": "70b881e7",
   "metadata": {
    "editable": true,
    "slideshow": {
     "slide_type": "slide"
    },
    "tags": []
   },
   "source": [
    "## Using select and with_columns\n",
    "\n",
    "We can use select to create a new DataFrame using *expressions* that access data from an existing DataFrame."
   ]
  },
  {
   "cell_type": "markdown",
   "id": "21c8a267-1e2b-4093-aff7-2f009a1006dc",
   "metadata": {
    "editable": true,
    "slideshow": {
     "slide_type": "slide"
    },
    "tags": []
   },
   "source": [
    "We can select multiple columns, and optionally change their order, using the `select` method."
   ]
  },
  {
   "cell_type": "code",
   "execution_count": 127,
   "id": "69d04982-5d6e-457b-a5fe-9b782d5ee630",
   "metadata": {
    "editable": true,
    "slideshow": {
     "slide_type": ""
    },
    "tags": []
   },
   "outputs": [
    {
     "data": {
      "text/html": [
       "<div><style>\n",
       ".dataframe > thead > tr,\n",
       ".dataframe > tbody > tr {\n",
       "  text-align: right;\n",
       "  white-space: pre-wrap;\n",
       "}\n",
       "</style>\n",
       "<small>shape: (5, 4)</small><table border=\"1\" class=\"dataframe\"><thead><tr><th>subj</th><th>phase</th><th>response</th><th>RT</th></tr><tr><td>i64</td><td>str</td><td>i64</td><td>f64</td></tr></thead><tbody><tr><td>101</td><td>&quot;study&quot;</td><td>-1</td><td>-1.0</td></tr><tr><td>101</td><td>&quot;study&quot;</td><td>-1</td><td>-1.0</td></tr><tr><td>101</td><td>&quot;study&quot;</td><td>-1</td><td>-1.0</td></tr><tr><td>101</td><td>&quot;study&quot;</td><td>-1</td><td>-1.0</td></tr><tr><td>101</td><td>&quot;study&quot;</td><td>-1</td><td>-1.0</td></tr></tbody></table></div>"
      ],
      "text/plain": [
       "shape: (5, 4)\n",
       "┌──────┬───────┬──────────┬──────┐\n",
       "│ subj ┆ phase ┆ response ┆ RT   │\n",
       "│ ---  ┆ ---   ┆ ---      ┆ ---  │\n",
       "│ i64  ┆ str   ┆ i64      ┆ f64  │\n",
       "╞══════╪═══════╪══════════╪══════╡\n",
       "│ 101  ┆ study ┆ -1       ┆ -1.0 │\n",
       "│ 101  ┆ study ┆ -1       ┆ -1.0 │\n",
       "│ 101  ┆ study ┆ -1       ┆ -1.0 │\n",
       "│ 101  ┆ study ┆ -1       ┆ -1.0 │\n",
       "│ 101  ┆ study ┆ -1       ┆ -1.0 │\n",
       "└──────┴───────┴──────────┴──────┘"
      ]
     },
     "execution_count": 127,
     "metadata": {},
     "output_type": "execute_result"
    }
   ],
   "source": [
    "df.select([\"subj\", \"phase\", \"response\", \"RT\"]).head()\n",
    "#df.select(\"subj\", \"phase\", \"response\").head()"
   ]
  },
  {
   "cell_type": "markdown",
   "id": "daebc32e",
   "metadata": {
    "editable": true,
    "slideshow": {
     "slide_type": "slide"
    },
    "tags": []
   },
   "source": [
    "Select is very powerful, and can be used for much more than just getting a subset of columns. We can also use it to transform columns in many different ways. Take the example of the people data, which includes weight and height."
   ]
  },
  {
   "cell_type": "code",
   "execution_count": 128,
   "id": "37a4569f",
   "metadata": {},
   "outputs": [
    {
     "data": {
      "text/html": [
       "<div><style>\n",
       ".dataframe > thead > tr,\n",
       ".dataframe > tbody > tr {\n",
       "  text-align: right;\n",
       "  white-space: pre-wrap;\n",
       "}\n",
       "</style>\n",
       "<small>shape: (4, 4)</small><table border=\"1\" class=\"dataframe\"><thead><tr><th>name</th><th>birthdate</th><th>weight</th><th>height</th></tr><tr><td>str</td><td>str</td><td>f64</td><td>f64</td></tr></thead><tbody><tr><td>&quot;Alice Archer&quot;</td><td>&quot;1997-01-10&quot;</td><td>57.9</td><td>1.56</td></tr><tr><td>&quot;Ben Brown&quot;</td><td>&quot;1985-02-15&quot;</td><td>72.5</td><td>1.77</td></tr><tr><td>&quot;Chloe Cooper&quot;</td><td>&quot;1983-03-22&quot;</td><td>53.6</td><td>1.65</td></tr><tr><td>&quot;Daniel Donovan&quot;</td><td>&quot;1981-04-30&quot;</td><td>83.1</td><td>1.75</td></tr></tbody></table></div>"
      ],
      "text/plain": [
       "shape: (4, 4)\n",
       "┌────────────────┬────────────┬────────┬────────┐\n",
       "│ name           ┆ birthdate  ┆ weight ┆ height │\n",
       "│ ---            ┆ ---        ┆ ---    ┆ ---    │\n",
       "│ str            ┆ str        ┆ f64    ┆ f64    │\n",
       "╞════════════════╪════════════╪════════╪════════╡\n",
       "│ Alice Archer   ┆ 1997-01-10 ┆ 57.9   ┆ 1.56   │\n",
       "│ Ben Brown      ┆ 1985-02-15 ┆ 72.5   ┆ 1.77   │\n",
       "│ Chloe Cooper   ┆ 1983-03-22 ┆ 53.6   ┆ 1.65   │\n",
       "│ Daniel Donovan ┆ 1981-04-30 ┆ 83.1   ┆ 1.75   │\n",
       "└────────────────┴────────────┴────────┴────────┘"
      ]
     },
     "execution_count": 128,
     "metadata": {},
     "output_type": "execute_result"
    }
   ],
   "source": [
    "people = pl.read_csv(\"people.csv\")\n",
    "people"
   ]
  },
  {
   "cell_type": "markdown",
   "id": "88bdfd7c",
   "metadata": {
    "editable": true,
    "slideshow": {
     "slide_type": "slide"
    },
    "tags": []
   },
   "source": [
    "We can use these data to calculate a new column with body mass index (BMI). First, we'll define an *expression* for the value we want to calculate. Expressions specify something we want to do without actually doing it yet. This allows Polars to optimize how it runs different operations. The `pl.col` function can be used to specify one or more columns in a DataFrame, as a placeholder. Notice that we define the expression without referring to any specific DataFrame."
   ]
  },
  {
   "cell_type": "code",
   "execution_count": 129,
   "id": "1c35ad18",
   "metadata": {},
   "outputs": [
    {
     "name": "stdout",
     "output_type": "stream",
     "text": [
      "[(col(\"weight\")) / (col(\"height\").pow([dyn int: 2]))]\n"
     ]
    },
    {
     "data": {
      "text/plain": [
       "23.791913214990135"
      ]
     },
     "execution_count": 129,
     "metadata": {},
     "output_type": "execute_result"
    }
   ],
   "source": [
    "bmi_expr = pl.col(\"weight\") / (pl.col(\"height\") ** 2)\n",
    "print(bmi_expr)\n",
    "weight = 57.9\n",
    "height = 1.56\n",
    "weight / (height ** 2)"
   ]
  },
  {
   "cell_type": "markdown",
   "id": "48a42aaf",
   "metadata": {
    "editable": true,
    "slideshow": {
     "slide_type": "slide"
    },
    "tags": []
   },
   "source": [
    "We can use this expression with our DataFrame to calculate BMI. We can specify what to name the column using keyword arguments. Here, we set the input variable `bmi` to the expression that we defined before."
   ]
  },
  {
   "cell_type": "code",
   "execution_count": 130,
   "id": "c7944637",
   "metadata": {},
   "outputs": [
    {
     "data": {
      "text/html": [
       "<div><style>\n",
       ".dataframe > thead > tr,\n",
       ".dataframe > tbody > tr {\n",
       "  text-align: right;\n",
       "  white-space: pre-wrap;\n",
       "}\n",
       "</style>\n",
       "<small>shape: (4, 1)</small><table border=\"1\" class=\"dataframe\"><thead><tr><th>bmi</th></tr><tr><td>f64</td></tr></thead><tbody><tr><td>23.791913</td></tr><tr><td>23.141498</td></tr><tr><td>19.687787</td></tr><tr><td>27.134694</td></tr></tbody></table></div>"
      ],
      "text/plain": [
       "shape: (4, 1)\n",
       "┌───────────┐\n",
       "│ bmi       │\n",
       "│ ---       │\n",
       "│ f64       │\n",
       "╞═══════════╡\n",
       "│ 23.791913 │\n",
       "│ 23.141498 │\n",
       "│ 19.687787 │\n",
       "│ 27.134694 │\n",
       "└───────────┘"
      ]
     },
     "execution_count": 130,
     "metadata": {},
     "output_type": "execute_result"
    }
   ],
   "source": [
    "people.select(bmi=bmi_expr)"
   ]
  },
  {
   "cell_type": "markdown",
   "id": "7463480e",
   "metadata": {
    "editable": true,
    "slideshow": {
     "slide_type": "slide"
    },
    "tags": []
   },
   "source": [
    "Before, we used a variable to store the BMI expression, but usually we'll write everything all together like this."
   ]
  },
  {
   "cell_type": "code",
   "execution_count": 131,
   "id": "a614e586",
   "metadata": {},
   "outputs": [
    {
     "data": {
      "text/html": [
       "<div><style>\n",
       ".dataframe > thead > tr,\n",
       ".dataframe > tbody > tr {\n",
       "  text-align: right;\n",
       "  white-space: pre-wrap;\n",
       "}\n",
       "</style>\n",
       "<small>shape: (4, 1)</small><table border=\"1\" class=\"dataframe\"><thead><tr><th>bmi</th></tr><tr><td>f64</td></tr></thead><tbody><tr><td>23.791913</td></tr><tr><td>23.141498</td></tr><tr><td>19.687787</td></tr><tr><td>27.134694</td></tr></tbody></table></div>"
      ],
      "text/plain": [
       "shape: (4, 1)\n",
       "┌───────────┐\n",
       "│ bmi       │\n",
       "│ ---       │\n",
       "│ f64       │\n",
       "╞═══════════╡\n",
       "│ 23.791913 │\n",
       "│ 23.141498 │\n",
       "│ 19.687787 │\n",
       "│ 27.134694 │\n",
       "└───────────┘"
      ]
     },
     "execution_count": 131,
     "metadata": {},
     "output_type": "execute_result"
    }
   ],
   "source": [
    "people.select(bmi=pl.col(\"weight\") / (pl.col(\"height\") ** 2))"
   ]
  },
  {
   "cell_type": "markdown",
   "id": "e7e1627a",
   "metadata": {
    "editable": true,
    "slideshow": {
     "slide_type": "slide"
    },
    "tags": []
   },
   "source": [
    "The `select` method only returns the columns that were defined in the call. If we want to keep existing columns, we can instead using `with_columns`."
   ]
  },
  {
   "cell_type": "code",
   "execution_count": 132,
   "id": "3aae9ab4",
   "metadata": {},
   "outputs": [
    {
     "data": {
      "text/html": [
       "<div><style>\n",
       ".dataframe > thead > tr,\n",
       ".dataframe > tbody > tr {\n",
       "  text-align: right;\n",
       "  white-space: pre-wrap;\n",
       "}\n",
       "</style>\n",
       "<small>shape: (4, 5)</small><table border=\"1\" class=\"dataframe\"><thead><tr><th>name</th><th>birthdate</th><th>weight</th><th>height</th><th>bmi</th></tr><tr><td>str</td><td>str</td><td>f64</td><td>f64</td><td>f64</td></tr></thead><tbody><tr><td>&quot;Alice Archer&quot;</td><td>&quot;1997-01-10&quot;</td><td>57.9</td><td>1.56</td><td>23.791913</td></tr><tr><td>&quot;Ben Brown&quot;</td><td>&quot;1985-02-15&quot;</td><td>72.5</td><td>1.77</td><td>23.141498</td></tr><tr><td>&quot;Chloe Cooper&quot;</td><td>&quot;1983-03-22&quot;</td><td>53.6</td><td>1.65</td><td>19.687787</td></tr><tr><td>&quot;Daniel Donovan&quot;</td><td>&quot;1981-04-30&quot;</td><td>83.1</td><td>1.75</td><td>27.134694</td></tr></tbody></table></div>"
      ],
      "text/plain": [
       "shape: (4, 5)\n",
       "┌────────────────┬────────────┬────────┬────────┬───────────┐\n",
       "│ name           ┆ birthdate  ┆ weight ┆ height ┆ bmi       │\n",
       "│ ---            ┆ ---        ┆ ---    ┆ ---    ┆ ---       │\n",
       "│ str            ┆ str        ┆ f64    ┆ f64    ┆ f64       │\n",
       "╞════════════════╪════════════╪════════╪════════╪═══════════╡\n",
       "│ Alice Archer   ┆ 1997-01-10 ┆ 57.9   ┆ 1.56   ┆ 23.791913 │\n",
       "│ Ben Brown      ┆ 1985-02-15 ┆ 72.5   ┆ 1.77   ┆ 23.141498 │\n",
       "│ Chloe Cooper   ┆ 1983-03-22 ┆ 53.6   ┆ 1.65   ┆ 19.687787 │\n",
       "│ Daniel Donovan ┆ 1981-04-30 ┆ 83.1   ┆ 1.75   ┆ 27.134694 │\n",
       "└────────────────┴────────────┴────────┴────────┴───────────┘"
      ]
     },
     "execution_count": 132,
     "metadata": {},
     "output_type": "execute_result"
    }
   ],
   "source": [
    "people.with_columns(bmi=pl.col(\"weight\") / (pl.col(\"height\") ** 2))\n",
    "#take people data frame and add columns using the function"
   ]
  },
  {
   "cell_type": "markdown",
   "id": "d8ec7230",
   "metadata": {
    "editable": true,
    "slideshow": {
     "slide_type": "slide"
    },
    "tags": []
   },
   "source": [
    "We can pass in multiple inputs to specify multiple columns."
   ]
  },
  {
   "cell_type": "code",
   "execution_count": 133,
   "id": "0d0fe61e",
   "metadata": {},
   "outputs": [
    {
     "data": {
      "text/html": [
       "<div><style>\n",
       ".dataframe > thead > tr,\n",
       ".dataframe > tbody > tr {\n",
       "  text-align: right;\n",
       "  white-space: pre-wrap;\n",
       "}\n",
       "</style>\n",
       "<small>shape: (4, 7)</small><table border=\"1\" class=\"dataframe\"><thead><tr><th>name</th><th>birthdate</th><th>weight</th><th>height</th><th>bmi</th><th>avg_bmi</th><th>reference_bmi</th></tr><tr><td>str</td><td>str</td><td>f64</td><td>f64</td><td>f64</td><td>f64</td><td>i32</td></tr></thead><tbody><tr><td>&quot;Alice Archer&quot;</td><td>&quot;1997-01-10&quot;</td><td>57.9</td><td>1.56</td><td>23.791913</td><td>23.438973</td><td>25</td></tr><tr><td>&quot;Ben Brown&quot;</td><td>&quot;1985-02-15&quot;</td><td>72.5</td><td>1.77</td><td>23.141498</td><td>23.438973</td><td>25</td></tr><tr><td>&quot;Chloe Cooper&quot;</td><td>&quot;1983-03-22&quot;</td><td>53.6</td><td>1.65</td><td>19.687787</td><td>23.438973</td><td>25</td></tr><tr><td>&quot;Daniel Donovan&quot;</td><td>&quot;1981-04-30&quot;</td><td>83.1</td><td>1.75</td><td>27.134694</td><td>23.438973</td><td>25</td></tr></tbody></table></div>"
      ],
      "text/plain": [
       "shape: (4, 7)\n",
       "┌────────────────┬────────────┬────────┬────────┬───────────┬───────────┬───────────────┐\n",
       "│ name           ┆ birthdate  ┆ weight ┆ height ┆ bmi       ┆ avg_bmi   ┆ reference_bmi │\n",
       "│ ---            ┆ ---        ┆ ---    ┆ ---    ┆ ---       ┆ ---       ┆ ---           │\n",
       "│ str            ┆ str        ┆ f64    ┆ f64    ┆ f64       ┆ f64       ┆ i32           │\n",
       "╞════════════════╪════════════╪════════╪════════╪═══════════╪═══════════╪═══════════════╡\n",
       "│ Alice Archer   ┆ 1997-01-10 ┆ 57.9   ┆ 1.56   ┆ 23.791913 ┆ 23.438973 ┆ 25            │\n",
       "│ Ben Brown      ┆ 1985-02-15 ┆ 72.5   ┆ 1.77   ┆ 23.141498 ┆ 23.438973 ┆ 25            │\n",
       "│ Chloe Cooper   ┆ 1983-03-22 ┆ 53.6   ┆ 1.65   ┆ 19.687787 ┆ 23.438973 ┆ 25            │\n",
       "│ Daniel Donovan ┆ 1981-04-30 ┆ 83.1   ┆ 1.75   ┆ 27.134694 ┆ 23.438973 ┆ 25            │\n",
       "└────────────────┴────────────┴────────┴────────┴───────────┴───────────┴───────────────┘"
      ]
     },
     "execution_count": 133,
     "metadata": {},
     "output_type": "execute_result"
    }
   ],
   "source": [
    "people.with_columns(\n",
    "    bmi=bmi_expr,\n",
    "    avg_bmi=bmi_expr.mean(),\n",
    "    reference_bmi=25,\n",
    ")"
   ]
  },
  {
   "cell_type": "markdown",
   "id": "751d6861",
   "metadata": {
    "editable": true,
    "slideshow": {
     "slide_type": "fragment"
    },
    "tags": []
   },
   "source": [
    "Here, we create two columns that are the same for all rows. The first one is the mean BMI across people. Note that we can chain together parts of an expression; this example calculates BMI for each person and then calculates the mean across people. The second is a reference value for BMI, which is assigned to 25."
   ]
  },
  {
   "cell_type": "markdown",
   "id": "06c5b5b6",
   "metadata": {
    "editable": true,
    "slideshow": {
     "slide_type": "slide"
    },
    "tags": []
   },
   "source": [
    "### Exercise: using select and with_columns\n",
    "\n",
    "Create the DataFrame `scores` as defined below.\n",
    "\n",
    "| participant_id | score1 | score2 |\n",
    "| -------------- | ------ | ------ |\n",
    "| 001            | 9      | 5      |\n",
    "| 002            | 7      | 3      |\n",
    "| 003            | 10     | 6      |\n",
    "\n",
    "Create a new column called `total` that is the sum of the `score1` and `score2` columns, and a new column `average` that is the mean of the `score1` and `score2` columns. Compare what happens when you use `select` and `with_columns`."
   ]
  },
  {
   "cell_type": "code",
   "execution_count": 134,
   "id": "d62bd649",
   "metadata": {},
   "outputs": [
    {
     "data": {
      "text/html": [
       "<div><style>\n",
       ".dataframe > thead > tr,\n",
       ".dataframe > tbody > tr {\n",
       "  text-align: right;\n",
       "  white-space: pre-wrap;\n",
       "}\n",
       "</style>\n",
       "<small>shape: (3, 5)</small><table border=\"1\" class=\"dataframe\"><thead><tr><th>participant id</th><th>score1</th><th>score2</th><th>total</th><th>average</th></tr><tr><td>str</td><td>i64</td><td>i64</td><td>i64</td><td>f64</td></tr></thead><tbody><tr><td>&quot;001&quot;</td><td>9</td><td>5</td><td>14</td><td>7.0</td></tr><tr><td>&quot;002&quot;</td><td>7</td><td>3</td><td>10</td><td>5.0</td></tr><tr><td>&quot;003&quot;</td><td>10</td><td>6</td><td>16</td><td>8.0</td></tr></tbody></table></div>"
      ],
      "text/plain": [
       "shape: (3, 5)\n",
       "┌────────────────┬────────┬────────┬───────┬─────────┐\n",
       "│ participant id ┆ score1 ┆ score2 ┆ total ┆ average │\n",
       "│ ---            ┆ ---    ┆ ---    ┆ ---   ┆ ---     │\n",
       "│ str            ┆ i64    ┆ i64    ┆ i64   ┆ f64     │\n",
       "╞════════════════╪════════╪════════╪═══════╪═════════╡\n",
       "│ 001            ┆ 9      ┆ 5      ┆ 14    ┆ 7.0     │\n",
       "│ 002            ┆ 7      ┆ 3      ┆ 10    ┆ 5.0     │\n",
       "│ 003            ┆ 10     ┆ 6      ┆ 16    ┆ 8.0     │\n",
       "└────────────────┴────────┴────────┴───────┴─────────┘"
      ]
     },
     "execution_count": 134,
     "metadata": {},
     "output_type": "execute_result"
    }
   ],
   "source": [
    "# answer here\n",
    "scores = pl.DataFrame(\n",
    "    {\n",
    "        \"participant id\": [\"001\", \"002\", \"003\"],\n",
    "        \"score1\": [9, 7, 10],\n",
    "        \"score2\": [5, 3, 6],\n",
    "    }\n",
    ")\n",
    "scores.with_columns(\n",
    "    total=pl.col(\"score1\") + pl.col(\"score2\"), #any time you have function within input need commas\n",
    "    average=(pl.col(\"score1\") + pl.col(\"score2\")) / 2\n",
    ")\n"
   ]
  },
  {
   "cell_type": "markdown",
   "id": "4cecc0fc",
   "metadata": {
    "editable": true,
    "slideshow": {
     "slide_type": "slide"
    },
    "tags": []
   },
   "source": [
    "## Using filter\n",
    "\n",
    "We can use filter to create a new DataFrame with a subset of rows."
   ]
  },
  {
   "cell_type": "markdown",
   "id": "a35ce3f8-41b5-41bc-9b28-f605d51a8e60",
   "metadata": {
    "editable": true,
    "slideshow": {
     "slide_type": "slide"
    },
    "tags": []
   },
   "source": [
    "We can filter the rows included in the table using the `filter` method. This allows for selecting data very flexibly, in a similar way to how we selected data using NumPy expressions when working with NumPy arrays. To create an expression that refers to the value of a column, we must use the `pl.col` function."
   ]
  },
  {
   "cell_type": "code",
   "execution_count": 135,
   "id": "e9130647-10f7-4674-8264-7c68c3b814ff",
   "metadata": {
    "editable": true,
    "slideshow": {
     "slide_type": ""
    },
    "tags": []
   },
   "outputs": [
    {
     "data": {
      "text/html": [
       "<div><style>\n",
       ".dataframe > thead > tr,\n",
       ".dataframe > tbody > tr {\n",
       "  text-align: right;\n",
       "  white-space: pre-wrap;\n",
       "}\n",
       "</style>\n",
       "<small>shape: (5, 11)</small><table border=\"1\" class=\"dataframe\"><thead><tr><th>subj</th><th>cycle</th><th>trial</th><th>phase</th><th>type</th><th>word1</th><th>word2</th><th>response</th><th>RT</th><th>correct</th><th>lag</th></tr><tr><td>i64</td><td>i64</td><td>i64</td><td>str</td><td>str</td><td>str</td><td>str</td><td>i64</td><td>f64</td><td>i64</td><td>i64</td></tr></thead><tbody><tr><td>101</td><td>0</td><td>-1</td><td>&quot;test&quot;</td><td>&quot;rearranged&quot;</td><td>&quot;waste&quot;</td><td>&quot;degree&quot;</td><td>0</td><td>2.312</td><td>1</td><td>2</td></tr><tr><td>101</td><td>0</td><td>0</td><td>&quot;test&quot;</td><td>&quot;rearranged&quot;</td><td>&quot;needed&quot;</td><td>&quot;able&quot;</td><td>0</td><td>3.542</td><td>1</td><td>1</td></tr><tr><td>101</td><td>0</td><td>1</td><td>&quot;test&quot;</td><td>&quot;rearranged&quot;</td><td>&quot;single&quot;</td><td>&quot;clean&quot;</td><td>0</td><td>2.084</td><td>1</td><td>3</td></tr><tr><td>101</td><td>0</td><td>2</td><td>&quot;test&quot;</td><td>&quot;rearranged&quot;</td><td>&quot;train&quot;</td><td>&quot;useful&quot;</td><td>0</td><td>1.669</td><td>1</td><td>2</td></tr><tr><td>101</td><td>0</td><td>3</td><td>&quot;test&quot;</td><td>&quot;rearranged&quot;</td><td>&quot;knees&quot;</td><td>&quot;various&quot;</td><td>0</td><td>2.326</td><td>1</td><td>5</td></tr></tbody></table></div>"
      ],
      "text/plain": [
       "shape: (5, 11)\n",
       "┌──────┬───────┬───────┬───────┬───┬──────────┬───────┬─────────┬─────┐\n",
       "│ subj ┆ cycle ┆ trial ┆ phase ┆ … ┆ response ┆ RT    ┆ correct ┆ lag │\n",
       "│ ---  ┆ ---   ┆ ---   ┆ ---   ┆   ┆ ---      ┆ ---   ┆ ---     ┆ --- │\n",
       "│ i64  ┆ i64   ┆ i64   ┆ str   ┆   ┆ i64      ┆ f64   ┆ i64     ┆ i64 │\n",
       "╞══════╪═══════╪═══════╪═══════╪═══╪══════════╪═══════╪═════════╪═════╡\n",
       "│ 101  ┆ 0     ┆ -1    ┆ test  ┆ … ┆ 0        ┆ 2.312 ┆ 1       ┆ 2   │\n",
       "│ 101  ┆ 0     ┆ 0     ┆ test  ┆ … ┆ 0        ┆ 3.542 ┆ 1       ┆ 1   │\n",
       "│ 101  ┆ 0     ┆ 1     ┆ test  ┆ … ┆ 0        ┆ 2.084 ┆ 1       ┆ 3   │\n",
       "│ 101  ┆ 0     ┆ 2     ┆ test  ┆ … ┆ 0        ┆ 1.669 ┆ 1       ┆ 2   │\n",
       "│ 101  ┆ 0     ┆ 3     ┆ test  ┆ … ┆ 0        ┆ 2.326 ┆ 1       ┆ 5   │\n",
       "└──────┴───────┴───────┴───────┴───┴──────────┴───────┴─────────┴─────┘"
      ]
     },
     "execution_count": 135,
     "metadata": {},
     "output_type": "execute_result"
    }
   ],
   "source": [
    "df.filter(pl.col(\"phase\") == \"test\").head()\n",
    "#can also replace == for != for not equals the test"
   ]
  },
  {
   "cell_type": "markdown",
   "id": "a21949ed-2d37-4259-a74b-6f3d1ba81833",
   "metadata": {
    "editable": true,
    "slideshow": {
     "slide_type": "fragment"
    },
    "tags": []
   },
   "source": [
    "Here, we indicate that we only want rows where the phase is `test`, to get only the test trials and exclude all the study trials."
   ]
  },
  {
   "cell_type": "markdown",
   "id": "5e7f3b07-6c6b-4a2a-8ef4-b2b37381fd4f",
   "metadata": {
    "editable": true,
    "slideshow": {
     "slide_type": "slide"
    },
    "tags": []
   },
   "source": [
    "We can make more complicated expressions using operators for and (`&`), or (`|`), and not (`~`). If you are combining multiple comparisons, you will need to add parentheses around the individual comparisons."
   ]
  },
  {
   "cell_type": "code",
   "execution_count": 136,
   "id": "0060377e-12bf-4581-acf8-9021fa903964",
   "metadata": {
    "editable": true,
    "slideshow": {
     "slide_type": ""
    },
    "tags": []
   },
   "outputs": [
    {
     "data": {
      "text/html": [
       "<div><style>\n",
       ".dataframe > thead > tr,\n",
       ".dataframe > tbody > tr {\n",
       "  text-align: right;\n",
       "  white-space: pre-wrap;\n",
       "}\n",
       "</style>\n",
       "<small>shape: (5, 11)</small><table border=\"1\" class=\"dataframe\"><thead><tr><th>subj</th><th>cycle</th><th>trial</th><th>phase</th><th>type</th><th>word1</th><th>word2</th><th>response</th><th>RT</th><th>correct</th><th>lag</th></tr><tr><td>i64</td><td>i64</td><td>i64</td><td>str</td><td>str</td><td>str</td><td>str</td><td>i64</td><td>f64</td><td>i64</td><td>i64</td></tr></thead><tbody><tr><td>101</td><td>0</td><td>4</td><td>&quot;test&quot;</td><td>&quot;intact&quot;</td><td>&quot;skin&quot;</td><td>&quot;careful&quot;</td><td>1</td><td>1.407</td><td>1</td><td>-1</td></tr><tr><td>101</td><td>0</td><td>5</td><td>&quot;test&quot;</td><td>&quot;intact&quot;</td><td>&quot;doctor&quot;</td><td>&quot;contrast&quot;</td><td>0</td><td>4.056</td><td>0</td><td>-1</td></tr><tr><td>101</td><td>0</td><td>7</td><td>&quot;test&quot;</td><td>&quot;intact&quot;</td><td>&quot;homes&quot;</td><td>&quot;fuel&quot;</td><td>1</td><td>2.499</td><td>1</td><td>-1</td></tr><tr><td>101</td><td>0</td><td>8</td><td>&quot;test&quot;</td><td>&quot;intact&quot;</td><td>&quot;liked&quot;</td><td>&quot;tone&quot;</td><td>1</td><td>1.609</td><td>1</td><td>-1</td></tr><tr><td>101</td><td>0</td><td>9</td><td>&quot;test&quot;</td><td>&quot;intact&quot;</td><td>&quot;notice&quot;</td><td>&quot;explain&quot;</td><td>1</td><td>1.352</td><td>1</td><td>-1</td></tr></tbody></table></div>"
      ],
      "text/plain": [
       "shape: (5, 11)\n",
       "┌──────┬───────┬───────┬───────┬───┬──────────┬───────┬─────────┬─────┐\n",
       "│ subj ┆ cycle ┆ trial ┆ phase ┆ … ┆ response ┆ RT    ┆ correct ┆ lag │\n",
       "│ ---  ┆ ---   ┆ ---   ┆ ---   ┆   ┆ ---      ┆ ---   ┆ ---     ┆ --- │\n",
       "│ i64  ┆ i64   ┆ i64   ┆ str   ┆   ┆ i64      ┆ f64   ┆ i64     ┆ i64 │\n",
       "╞══════╪═══════╪═══════╪═══════╪═══╪══════════╪═══════╪═════════╪═════╡\n",
       "│ 101  ┆ 0     ┆ 4     ┆ test  ┆ … ┆ 1        ┆ 1.407 ┆ 1       ┆ -1  │\n",
       "│ 101  ┆ 0     ┆ 5     ┆ test  ┆ … ┆ 0        ┆ 4.056 ┆ 0       ┆ -1  │\n",
       "│ 101  ┆ 0     ┆ 7     ┆ test  ┆ … ┆ 1        ┆ 2.499 ┆ 1       ┆ -1  │\n",
       "│ 101  ┆ 0     ┆ 8     ┆ test  ┆ … ┆ 1        ┆ 1.609 ┆ 1       ┆ -1  │\n",
       "│ 101  ┆ 0     ┆ 9     ┆ test  ┆ … ┆ 1        ┆ 1.352 ┆ 1       ┆ -1  │\n",
       "└──────┴───────┴───────┴───────┴───┴──────────┴───────┴─────────┴─────┘"
      ]
     },
     "execution_count": 136,
     "metadata": {},
     "output_type": "execute_result"
    }
   ],
   "source": [
    "targets = df.filter((pl.col(\"phase\") == \"test\") & (pl.col(\"type\") == \"intact\"))\n",
    "targets.head()\n",
    "#check if 2 things are true or not true or either"
   ]
  },
  {
   "cell_type": "markdown",
   "id": "d329fb85-53f9-4119-b643-9cc127b1fc84",
   "metadata": {
    "editable": true,
    "slideshow": {
     "slide_type": "slide"
    },
    "tags": []
   },
   "source": [
    "We can put together multiple operations by chaining methods. Here, we'll select some columns and filter the rows in one go."
   ]
  },
  {
   "cell_type": "code",
   "execution_count": 144,
   "id": "aa3888d2-2a35-4d8c-b37f-dec420fd7767",
   "metadata": {
    "editable": true,
    "slideshow": {
     "slide_type": ""
    },
    "tags": []
   },
   "outputs": [
    {
     "data": {
      "text/html": [
       "<div><style>\n",
       ".dataframe > thead > tr,\n",
       ".dataframe > tbody > tr {\n",
       "  text-align: right;\n",
       "  white-space: pre-wrap;\n",
       "}\n",
       "</style>\n",
       "<small>shape: (3, 8)</small><table border=\"1\" class=\"dataframe\"><thead><tr><th>subj</th><th>trial</th><th>phase</th><th>type</th><th>response</th><th>RT</th><th>correct</th><th>lag</th></tr><tr><td>i64</td><td>i64</td><td>str</td><td>str</td><td>i64</td><td>f64</td><td>i64</td><td>i64</td></tr></thead><tbody><tr><td>101</td><td>-1</td><td>&quot;test&quot;</td><td>&quot;rearranged&quot;</td><td>0</td><td>2.312</td><td>1</td><td>2</td></tr><tr><td>101</td><td>0</td><td>&quot;test&quot;</td><td>&quot;rearranged&quot;</td><td>0</td><td>3.542</td><td>1</td><td>1</td></tr><tr><td>101</td><td>1</td><td>&quot;test&quot;</td><td>&quot;rearranged&quot;</td><td>0</td><td>2.084</td><td>1</td><td>3</td></tr></tbody></table></div>"
      ],
      "text/plain": [
       "shape: (3, 8)\n",
       "┌──────┬───────┬───────┬────────────┬──────────┬───────┬─────────┬─────┐\n",
       "│ subj ┆ trial ┆ phase ┆ type       ┆ response ┆ RT    ┆ correct ┆ lag │\n",
       "│ ---  ┆ ---   ┆ ---   ┆ ---        ┆ ---      ┆ ---   ┆ ---     ┆ --- │\n",
       "│ i64  ┆ i64   ┆ str   ┆ str        ┆ i64      ┆ f64   ┆ i64     ┆ i64 │\n",
       "╞══════╪═══════╪═══════╪════════════╪══════════╪═══════╪═════════╪═════╡\n",
       "│ 101  ┆ -1    ┆ test  ┆ rearranged ┆ 0        ┆ 2.312 ┆ 1       ┆ 2   │\n",
       "│ 101  ┆ 0     ┆ test  ┆ rearranged ┆ 0        ┆ 3.542 ┆ 1       ┆ 1   │\n",
       "│ 101  ┆ 1     ┆ test  ┆ rearranged ┆ 0        ┆ 2.084 ┆ 1       ┆ 3   │\n",
       "└──────┴───────┴───────┴────────────┴──────────┴───────┴─────────┴─────┘"
      ]
     },
     "execution_count": 144,
     "metadata": {},
     "output_type": "execute_result"
    }
   ],
   "source": [
    "df_test = (\n",
    "    df.filter(pl.col(\"phase\") == \"test\")\n",
    "    .select([\"subj\", \"trial\", \"phase\", \"type\", \"response\", \"RT\", \"correct\", \"lag\"])\n",
    ")\n",
    "#df_test = df.filter(pl.col(\"phase\") == \"test\").select([\"subj\", \"trial\", \"phase\", \"type\", \"response\", \"RT\", \"correct\", \"lag\"])\n",
    "#kind of a lot to look at so most people separate it\n",
    "df_test.head(3)"
   ]
  },
  {
   "cell_type": "markdown",
   "id": "7e639d10-ac4a-49ac-8948-8991dfb0421b",
   "metadata": {
    "editable": true,
    "slideshow": {
     "slide_type": "fragment"
    },
    "tags": []
   },
   "source": [
    "Here, we put parentheses around the whole chain of method calls. This lets us split the different calls so there is one for each line. It tends to make things easier to read."
   ]
  },
  {
   "cell_type": "markdown",
   "id": "5593bfa9",
   "metadata": {
    "editable": true,
    "slideshow": {
     "slide_type": "slide"
    },
    "tags": []
   },
   "source": [
    "### Exercise: using filter\n",
    "\n",
    "Use the `people` DataFrame. If you don't have the variable defined currently, you can read it in from `people.csv`. Use `filter` to get people whose height is less than 1.7 meters and whose weight is greater than 55 kilograms."
   ]
  },
  {
   "cell_type": "code",
   "execution_count": 149,
   "id": "b5795d1d",
   "metadata": {},
   "outputs": [
    {
     "data": {
      "text/html": [
       "<div><style>\n",
       ".dataframe > thead > tr,\n",
       ".dataframe > tbody > tr {\n",
       "  text-align: right;\n",
       "  white-space: pre-wrap;\n",
       "}\n",
       "</style>\n",
       "<small>shape: (1, 4)</small><table border=\"1\" class=\"dataframe\"><thead><tr><th>name</th><th>birthdate</th><th>weight</th><th>height</th></tr><tr><td>str</td><td>str</td><td>f64</td><td>f64</td></tr></thead><tbody><tr><td>&quot;Alice Archer&quot;</td><td>&quot;1997-01-10&quot;</td><td>57.9</td><td>1.56</td></tr></tbody></table></div>"
      ],
      "text/plain": [
       "shape: (1, 4)\n",
       "┌──────────────┬────────────┬────────┬────────┐\n",
       "│ name         ┆ birthdate  ┆ weight ┆ height │\n",
       "│ ---          ┆ ---        ┆ ---    ┆ ---    │\n",
       "│ str          ┆ str        ┆ f64    ┆ f64    │\n",
       "╞══════════════╪════════════╪════════╪════════╡\n",
       "│ Alice Archer ┆ 1997-01-10 ┆ 57.9   ┆ 1.56   │\n",
       "└──────────────┴────────────┴────────┴────────┘"
      ]
     },
     "execution_count": 149,
     "metadata": {},
     "output_type": "execute_result"
    }
   ],
   "source": [
    "# answer here\n",
    "people = pl.read_csv(\"people.csv\")\n",
    "people\n",
    "#starting point can be named anything but when filtering must use name of data \n",
    "people.filter((pl.col(\"height\") < 1.7) & (pl.col(\"weight\") > 55))\n"
   ]
  },
  {
   "cell_type": "markdown",
   "id": "c8cec4a3-bac9-4787-8acd-4d9fc46ec8ca",
   "metadata": {
    "editable": true,
    "slideshow": {
     "slide_type": "slide"
    },
    "tags": []
   },
   "source": [
    "## Calculating summary statistics\n",
    "When getting a feel for a dataset, it can be very helpful to calculate some summary statistics to measure central tendency and spread."
   ]
  },
  {
   "cell_type": "markdown",
   "id": "b5e72d74",
   "metadata": {
    "editable": true,
    "slideshow": {
     "slide_type": "slide"
    },
    "tags": []
   },
   "source": [
    "First, let's use method chaining to set up a DataFrame with data from the test phase. This example reads the data from the file, filters it to get the test phase, and selects some columns to focus on."
   ]
  },
  {
   "cell_type": "code",
   "execution_count": 139,
   "id": "f80f3848",
   "metadata": {},
   "outputs": [
    {
     "data": {
      "text/html": [
       "<div><style>\n",
       ".dataframe > thead > tr,\n",
       ".dataframe > tbody > tr {\n",
       "  text-align: right;\n",
       "  white-space: pre-wrap;\n",
       "}\n",
       "</style>\n",
       "<small>shape: (5, 8)</small><table border=\"1\" class=\"dataframe\"><thead><tr><th>subj</th><th>trial</th><th>phase</th><th>type</th><th>response</th><th>RT</th><th>correct</th><th>lag</th></tr><tr><td>i64</td><td>i64</td><td>str</td><td>str</td><td>i64</td><td>f64</td><td>i64</td><td>i64</td></tr></thead><tbody><tr><td>101</td><td>-1</td><td>&quot;test&quot;</td><td>&quot;rearranged&quot;</td><td>0</td><td>2.312</td><td>1</td><td>2</td></tr><tr><td>101</td><td>0</td><td>&quot;test&quot;</td><td>&quot;rearranged&quot;</td><td>0</td><td>3.542</td><td>1</td><td>1</td></tr><tr><td>101</td><td>1</td><td>&quot;test&quot;</td><td>&quot;rearranged&quot;</td><td>0</td><td>2.084</td><td>1</td><td>3</td></tr><tr><td>101</td><td>2</td><td>&quot;test&quot;</td><td>&quot;rearranged&quot;</td><td>0</td><td>1.669</td><td>1</td><td>2</td></tr><tr><td>101</td><td>3</td><td>&quot;test&quot;</td><td>&quot;rearranged&quot;</td><td>0</td><td>2.326</td><td>1</td><td>5</td></tr></tbody></table></div>"
      ],
      "text/plain": [
       "shape: (5, 8)\n",
       "┌──────┬───────┬───────┬────────────┬──────────┬───────┬─────────┬─────┐\n",
       "│ subj ┆ trial ┆ phase ┆ type       ┆ response ┆ RT    ┆ correct ┆ lag │\n",
       "│ ---  ┆ ---   ┆ ---   ┆ ---        ┆ ---      ┆ ---   ┆ ---     ┆ --- │\n",
       "│ i64  ┆ i64   ┆ str   ┆ str        ┆ i64      ┆ f64   ┆ i64     ┆ i64 │\n",
       "╞══════╪═══════╪═══════╪════════════╪══════════╪═══════╪═════════╪═════╡\n",
       "│ 101  ┆ -1    ┆ test  ┆ rearranged ┆ 0        ┆ 2.312 ┆ 1       ┆ 2   │\n",
       "│ 101  ┆ 0     ┆ test  ┆ rearranged ┆ 0        ┆ 3.542 ┆ 1       ┆ 1   │\n",
       "│ 101  ┆ 1     ┆ test  ┆ rearranged ┆ 0        ┆ 2.084 ┆ 1       ┆ 3   │\n",
       "│ 101  ┆ 2     ┆ test  ┆ rearranged ┆ 0        ┆ 1.669 ┆ 1       ┆ 2   │\n",
       "│ 101  ┆ 3     ┆ test  ┆ rearranged ┆ 0        ┆ 2.326 ┆ 1       ┆ 5   │\n",
       "└──────┴───────┴───────┴────────────┴──────────┴───────┴─────────┴─────┘"
      ]
     },
     "execution_count": 139,
     "metadata": {},
     "output_type": "execute_result"
    }
   ],
   "source": [
    "df_summary = (\n",
    "    pl.read_csv(\"exp1.csv\")\n",
    "    .filter(pl.col(\"phase\") == \"test\")\n",
    "    .select([\"subj\", \"trial\", \"phase\", \"type\", \"response\", \"RT\", \"correct\", \"lag\"])\n",
    ")\n",
    "df_summary.head()"
   ]
  },
  {
   "cell_type": "markdown",
   "id": "c965fd46-ee57-4cf2-b81b-e8d081a73b08",
   "metadata": {
    "editable": true,
    "slideshow": {
     "slide_type": "slide"
    },
    "tags": []
   },
   "source": [
    "We can get some common summary statistics for all the columns using `describe`."
   ]
  },
  {
   "cell_type": "code",
   "execution_count": null,
   "id": "df24478d-4fba-45e6-9429-1abeb786252c",
   "metadata": {
    "editable": true,
    "slideshow": {
     "slide_type": ""
    },
    "tags": []
   },
   "outputs": [
    {
     "data": {
      "text/html": [
       "<div><style>\n",
       ".dataframe > thead > tr,\n",
       ".dataframe > tbody > tr {\n",
       "  text-align: right;\n",
       "  white-space: pre-wrap;\n",
       "}\n",
       "</style>\n",
       "<small>shape: (9, 9)</small><table border=\"1\" class=\"dataframe\"><thead><tr><th>statistic</th><th>subj</th><th>trial</th><th>phase</th><th>type</th><th>response</th><th>RT</th><th>correct</th><th>lag</th></tr><tr><td>str</td><td>f64</td><td>f64</td><td>str</td><td>str</td><td>f64</td><td>f64</td><td>f64</td><td>f64</td></tr></thead><tbody><tr><td>&quot;count&quot;</td><td>53700.0</td><td>53700.0</td><td>&quot;53700&quot;</td><td>&quot;53700&quot;</td><td>53700.0</td><td>53700.0</td><td>53700.0</td><td>53700.0</td></tr><tr><td>&quot;null_count&quot;</td><td>0.0</td><td>0.0</td><td>&quot;0&quot;</td><td>&quot;0&quot;</td><td>0.0</td><td>0.0</td><td>0.0</td><td>0.0</td></tr><tr><td>&quot;mean&quot;</td><td>165.655866</td><td>28.5</td><td>null</td><td>null</td><td>0.372607</td><td>1.331173</td><td>0.656648</td><td>1.0</td></tr><tr><td>&quot;std&quot;</td><td>99.008229</td><td>17.318264</td><td>null</td><td>null</td><td>0.48554</td><td>0.76009</td><td>0.474832</td><td>2.236089</td></tr><tr><td>&quot;min&quot;</td><td>101.0</td><td>-1.0</td><td>&quot;test&quot;</td><td>&quot;intact&quot;</td><td>-1.0</td><td>-1.0</td><td>0.0</td><td>-1.0</td></tr><tr><td>&quot;25%&quot;</td><td>128.0</td><td>14.0</td><td>null</td><td>null</td><td>0.0</td><td>0.882</td><td>0.0</td><td>-1.0</td></tr><tr><td>&quot;50%&quot;</td><td>158.0</td><td>29.0</td><td>null</td><td>null</td><td>0.0</td><td>1.125</td><td>1.0</td><td>1.0</td></tr><tr><td>&quot;75%&quot;</td><td>186.0</td><td>43.0</td><td>null</td><td>null</td><td>1.0</td><td>1.526</td><td>1.0</td><td>3.0</td></tr><tr><td>&quot;max&quot;</td><td>1150.0</td><td>58.0</td><td>&quot;test&quot;</td><td>&quot;rearranged&quot;</td><td>1.0</td><td>7.925</td><td>1.0</td><td>5.0</td></tr></tbody></table></div>"
      ],
      "text/plain": [
       "shape: (9, 9)\n",
       "┌────────────┬────────────┬───────────┬───────┬───┬──────────┬──────────┬──────────┬──────────┐\n",
       "│ statistic  ┆ subj       ┆ trial     ┆ phase ┆ … ┆ response ┆ RT       ┆ correct  ┆ lag      │\n",
       "│ ---        ┆ ---        ┆ ---       ┆ ---   ┆   ┆ ---      ┆ ---      ┆ ---      ┆ ---      │\n",
       "│ str        ┆ f64        ┆ f64       ┆ str   ┆   ┆ f64      ┆ f64      ┆ f64      ┆ f64      │\n",
       "╞════════════╪════════════╪═══════════╪═══════╪═══╪══════════╪══════════╪══════════╪══════════╡\n",
       "│ count      ┆ 53700.0    ┆ 53700.0   ┆ 53700 ┆ … ┆ 53700.0  ┆ 53700.0  ┆ 53700.0  ┆ 53700.0  │\n",
       "│ null_count ┆ 0.0        ┆ 0.0       ┆ 0     ┆ … ┆ 0.0      ┆ 0.0      ┆ 0.0      ┆ 0.0      │\n",
       "│ mean       ┆ 165.655866 ┆ 28.5      ┆ null  ┆ … ┆ 0.372607 ┆ 1.331173 ┆ 0.656648 ┆ 1.0      │\n",
       "│ std        ┆ 99.008229  ┆ 17.318264 ┆ null  ┆ … ┆ 0.48554  ┆ 0.76009  ┆ 0.474832 ┆ 2.236089 │\n",
       "│ min        ┆ 101.0      ┆ -1.0      ┆ test  ┆ … ┆ -1.0     ┆ -1.0     ┆ 0.0      ┆ -1.0     │\n",
       "│ 25%        ┆ 128.0      ┆ 14.0      ┆ null  ┆ … ┆ 0.0      ┆ 0.882    ┆ 0.0      ┆ -1.0     │\n",
       "│ 50%        ┆ 158.0      ┆ 29.0      ┆ null  ┆ … ┆ 0.0      ┆ 1.125    ┆ 1.0      ┆ 1.0      │\n",
       "│ 75%        ┆ 186.0      ┆ 43.0      ┆ null  ┆ … ┆ 1.0      ┆ 1.526    ┆ 1.0      ┆ 3.0      │\n",
       "│ max        ┆ 1150.0     ┆ 58.0      ┆ test  ┆ … ┆ 1.0      ┆ 7.925    ┆ 1.0      ┆ 5.0      │\n",
       "└────────────┴────────────┴───────────┴───────┴───┴──────────┴──────────┴──────────┴──────────┘"
      ]
     },
     "execution_count": 140,
     "metadata": {},
     "output_type": "execute_result"
    }
   ],
   "source": [
    "df_summary.describe()\n",
    "#-1 = missing data\n",
    "#25% is a quarter of the way through the data"
   ]
  },
  {
   "cell_type": "markdown",
   "id": "fdc44425-3712-4b64-803a-23e316bb0bfd",
   "metadata": {
    "editable": true,
    "slideshow": {
     "slide_type": "fragment"
    },
    "tags": []
   },
   "source": [
    "The `count` row gives the nuber of non-null samples in each column, while the `null_count` row indicates how many samples are null.\n",
    "\n",
    "The `mean` and `std` rows give the mean and standard deviation.\n",
    "\n",
    "The `min` and `max` rows give the minimum and maximum values in each column. The percentage rows give percentiles in the data. The `50%` percentile is also known as the median."
   ]
  },
  {
   "cell_type": "markdown",
   "id": "d3c25674-4b44-4436-bb0d-d8dc1c1d0095",
   "metadata": {
    "editable": true,
    "slideshow": {
     "slide_type": "slide"
    },
    "tags": []
   },
   "source": [
    "We can calculate more targeted statistics using expressions."
   ]
  },
  {
   "cell_type": "code",
   "execution_count": null,
   "id": "8fed5a66-bb1a-4861-8ace-49c85074a57d",
   "metadata": {
    "editable": true,
    "slideshow": {
     "slide_type": ""
    },
    "tags": []
   },
   "outputs": [
    {
     "data": {
      "text/html": [
       "<div><style>\n",
       ".dataframe > thead > tr,\n",
       ".dataframe > tbody > tr {\n",
       "  text-align: right;\n",
       "  white-space: pre-wrap;\n",
       "}\n",
       "</style>\n",
       "<small>shape: (1, 2)</small><table border=\"1\" class=\"dataframe\"><thead><tr><th>response</th><th>RT</th></tr><tr><td>f64</td><td>f64</td></tr></thead><tbody><tr><td>0.372607</td><td>1.331173</td></tr></tbody></table></div>"
      ],
      "text/plain": [
       "shape: (1, 2)\n",
       "┌──────────┬──────────┐\n",
       "│ response ┆ RT       │\n",
       "│ ---      ┆ ---      │\n",
       "│ f64      ┆ f64      │\n",
       "╞══════════╪══════════╡\n",
       "│ 0.372607 ┆ 1.331173 │\n",
       "└──────────┴──────────┘"
      ]
     },
     "execution_count": 141,
     "metadata": {},
     "output_type": "execute_result"
    }
   ],
   "source": [
    "df_summary.select(pl.col(\"response\", \"RT\").mean()) #more targeted\n",
    "#pl.col = passing in columns you want to select\n",
    "#then calculating whatver u want at the end"
   ]
  },
  {
   "cell_type": "markdown",
   "id": "70a0b44e-7fc0-4db0-989b-19c7c950d405",
   "metadata": {
    "editable": true,
    "slideshow": {
     "slide_type": "fragment"
    },
    "tags": []
   },
   "source": [
    "Note that here we use `pl.col` to select multiple columns. The `mean` function is then applied to both columns."
   ]
  },
  {
   "cell_type": "markdown",
   "id": "1bacaf35-70a5-4127-b254-713675f78386",
   "metadata": {
    "editable": true,
    "slideshow": {
     "slide_type": "slide"
    },
    "tags": []
   },
   "source": [
    "We can use `.name.suffix` to distinguish these columns from existing ones, by adding a suffix."
   ]
  },
  {
   "cell_type": "code",
   "execution_count": null,
   "id": "0d014c07-91d7-4081-9066-5d0575b26531",
   "metadata": {
    "editable": true,
    "slideshow": {
     "slide_type": ""
    },
    "tags": []
   },
   "outputs": [
    {
     "data": {
      "text/html": [
       "<div><style>\n",
       ".dataframe > thead > tr,\n",
       ".dataframe > tbody > tr {\n",
       "  text-align: right;\n",
       "  white-space: pre-wrap;\n",
       "}\n",
       "</style>\n",
       "<small>shape: (5, 10)</small><table border=\"1\" class=\"dataframe\"><thead><tr><th>subj</th><th>trial</th><th>phase</th><th>type</th><th>response</th><th>RT</th><th>correct</th><th>lag</th><th>response_mean</th><th>RT_mean</th></tr><tr><td>i64</td><td>i64</td><td>str</td><td>str</td><td>i64</td><td>f64</td><td>i64</td><td>i64</td><td>f64</td><td>f64</td></tr></thead><tbody><tr><td>101</td><td>-1</td><td>&quot;test&quot;</td><td>&quot;rearranged&quot;</td><td>0</td><td>2.312</td><td>1</td><td>2</td><td>0.372607</td><td>1.331173</td></tr><tr><td>101</td><td>0</td><td>&quot;test&quot;</td><td>&quot;rearranged&quot;</td><td>0</td><td>3.542</td><td>1</td><td>1</td><td>0.372607</td><td>1.331173</td></tr><tr><td>101</td><td>1</td><td>&quot;test&quot;</td><td>&quot;rearranged&quot;</td><td>0</td><td>2.084</td><td>1</td><td>3</td><td>0.372607</td><td>1.331173</td></tr><tr><td>101</td><td>2</td><td>&quot;test&quot;</td><td>&quot;rearranged&quot;</td><td>0</td><td>1.669</td><td>1</td><td>2</td><td>0.372607</td><td>1.331173</td></tr><tr><td>101</td><td>3</td><td>&quot;test&quot;</td><td>&quot;rearranged&quot;</td><td>0</td><td>2.326</td><td>1</td><td>5</td><td>0.372607</td><td>1.331173</td></tr></tbody></table></div>"
      ],
      "text/plain": [
       "shape: (5, 10)\n",
       "┌──────┬───────┬───────┬────────────┬───┬─────────┬─────┬───────────────┬──────────┐\n",
       "│ subj ┆ trial ┆ phase ┆ type       ┆ … ┆ correct ┆ lag ┆ response_mean ┆ RT_mean  │\n",
       "│ ---  ┆ ---   ┆ ---   ┆ ---        ┆   ┆ ---     ┆ --- ┆ ---           ┆ ---      │\n",
       "│ i64  ┆ i64   ┆ str   ┆ str        ┆   ┆ i64     ┆ i64 ┆ f64           ┆ f64      │\n",
       "╞══════╪═══════╪═══════╪════════════╪═══╪═════════╪═════╪═══════════════╪══════════╡\n",
       "│ 101  ┆ -1    ┆ test  ┆ rearranged ┆ … ┆ 1       ┆ 2   ┆ 0.372607      ┆ 1.331173 │\n",
       "│ 101  ┆ 0     ┆ test  ┆ rearranged ┆ … ┆ 1       ┆ 1   ┆ 0.372607      ┆ 1.331173 │\n",
       "│ 101  ┆ 1     ┆ test  ┆ rearranged ┆ … ┆ 1       ┆ 3   ┆ 0.372607      ┆ 1.331173 │\n",
       "│ 101  ┆ 2     ┆ test  ┆ rearranged ┆ … ┆ 1       ┆ 2   ┆ 0.372607      ┆ 1.331173 │\n",
       "│ 101  ┆ 3     ┆ test  ┆ rearranged ┆ … ┆ 1       ┆ 5   ┆ 0.372607      ┆ 1.331173 │\n",
       "└──────┴───────┴───────┴────────────┴───┴─────────┴─────┴───────────────┴──────────┘"
      ]
     },
     "execution_count": 142,
     "metadata": {},
     "output_type": "execute_result"
    }
   ],
   "source": [
    "result = df_summary.with_columns(pl.col(\"response\", \"RT\").mean().name.suffix(\"_mean\"))\n",
    "#_mean is adding a new column\n",
    "#could do any summary statistic at the end \n",
    "result.head()"
   ]
  },
  {
   "cell_type": "markdown",
   "id": "52dda431",
   "metadata": {
    "editable": true,
    "slideshow": {
     "slide_type": "slide"
    },
    "tags": []
   },
   "source": [
    "### Exercise: summary statistics\n",
    "\n",
    "Use the `people` DataFrame with `describe` to calculate summary statistics for the weight and height columns. Do you understand what each of the statistics means?"
   ]
  },
  {
   "cell_type": "code",
   "execution_count": 152,
   "id": "f61629b2",
   "metadata": {},
   "outputs": [
    {
     "data": {
      "text/html": [
       "<div><style>\n",
       ".dataframe > thead > tr,\n",
       ".dataframe > tbody > tr {\n",
       "  text-align: right;\n",
       "  white-space: pre-wrap;\n",
       "}\n",
       "</style>\n",
       "<small>shape: (9, 3)</small><table border=\"1\" class=\"dataframe\"><thead><tr><th>statistic</th><th>weight</th><th>height</th></tr><tr><td>str</td><td>f64</td><td>f64</td></tr></thead><tbody><tr><td>&quot;count&quot;</td><td>4.0</td><td>4.0</td></tr><tr><td>&quot;null_count&quot;</td><td>0.0</td><td>0.0</td></tr><tr><td>&quot;mean&quot;</td><td>66.775</td><td>1.6825</td></tr><tr><td>&quot;std&quot;</td><td>13.560082</td><td>0.097082</td></tr><tr><td>&quot;min&quot;</td><td>53.6</td><td>1.56</td></tr><tr><td>&quot;25%&quot;</td><td>57.9</td><td>1.65</td></tr><tr><td>&quot;50%&quot;</td><td>72.5</td><td>1.75</td></tr><tr><td>&quot;75%&quot;</td><td>72.5</td><td>1.75</td></tr><tr><td>&quot;max&quot;</td><td>83.1</td><td>1.77</td></tr></tbody></table></div>"
      ],
      "text/plain": [
       "shape: (9, 3)\n",
       "┌────────────┬───────────┬──────────┐\n",
       "│ statistic  ┆ weight    ┆ height   │\n",
       "│ ---        ┆ ---       ┆ ---      │\n",
       "│ str        ┆ f64       ┆ f64      │\n",
       "╞════════════╪═══════════╪══════════╡\n",
       "│ count      ┆ 4.0       ┆ 4.0      │\n",
       "│ null_count ┆ 0.0       ┆ 0.0      │\n",
       "│ mean       ┆ 66.775    ┆ 1.6825   │\n",
       "│ std        ┆ 13.560082 ┆ 0.097082 │\n",
       "│ min        ┆ 53.6      ┆ 1.56     │\n",
       "│ 25%        ┆ 57.9      ┆ 1.65     │\n",
       "│ 50%        ┆ 72.5      ┆ 1.75     │\n",
       "│ 75%        ┆ 72.5      ┆ 1.75     │\n",
       "│ max        ┆ 83.1      ┆ 1.77     │\n",
       "└────────────┴───────────┴──────────┘"
      ]
     },
     "execution_count": 152,
     "metadata": {},
     "output_type": "execute_result"
    }
   ],
   "source": [
    "# answer here\n",
    "people.select(\"weight\", \"height\").describe()"
   ]
  }
 ],
 "metadata": {
  "kernelspec": {
   "display_name": ".venv",
   "language": "python",
   "name": "python3"
  },
  "language_info": {
   "codemirror_mode": {
    "name": "ipython",
    "version": 3
   },
   "file_extension": ".py",
   "mimetype": "text/x-python",
   "name": "python",
   "nbconvert_exporter": "python",
   "pygments_lexer": "ipython3",
   "version": "3.12.8"
  }
 },
 "nbformat": 4,
 "nbformat_minor": 5
}
