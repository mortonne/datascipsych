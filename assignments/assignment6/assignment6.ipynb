{
 "cells": [
  {
   "cell_type": "markdown",
   "metadata": {},
   "source": [
    "# Assignment 6\n",
    "\n",
    "Please fill in blanks in the *Answer* sections of this notebook. To check your answer for a problem, run the Setup, Answer, and Result sections. DO NOT MODIFY SETUP OR RESULT CELLS. See the [README](https://github.com/mortonne/datascipsych) for instructions on setting up a Python environment to run this notebook.\n",
    "\n",
    "Write your answers for each problem. Then restart the kernel, run all cells, and then save the notebook. Upload your notebook to Canvas.\n",
    "\n",
    "If you get stuck, read through the other notebooks in this directory, ask us for help in class, or ask other students for help in class or on the weekly discussion board."
   ]
  },
  {
   "cell_type": "markdown",
   "metadata": {},
   "source": [
    "## Problem: plotting a histogram (2 points)\n",
    "For the array `x` (defined below), plot a histogram with 15 bins. Get the values of the histogram bins and and the edges of the bins."
   ]
  },
  {
   "cell_type": "markdown",
   "metadata": {},
   "source": [
    "### Setup"
   ]
  },
  {
   "cell_type": "code",
   "execution_count": 290,
   "metadata": {},
   "outputs": [],
   "source": [
    "import numpy as np\n",
    "x = np.array([8.2, 10.4, 9.7, 8.5, 8.9, 9.2, 12.4, 15.2, 11.8, 7.8, 7.2, 8.1, 8.3, 9.5, 9.9])\n",
    "x_values = None\n",
    "x_edges = None"
   ]
  },
  {
   "cell_type": "markdown",
   "metadata": {},
   "source": [
    "### Answer"
   ]
  },
  {
   "cell_type": "code",
   "execution_count": 291,
   "metadata": {},
   "outputs": [
    {
     "name": "stdout",
     "output_type": "stream",
     "text": [
      "[2. 4. 3. 2. 1. 1. 1. 0. 0. 1.]\n",
      "[ 7.2  8.   8.8  9.6 10.4 11.2 12.  12.8 13.6 14.4 15.2]\n",
      "[2. 4. 3. 2. 1. 1. 1. 0. 0. 1.]\n",
      "[ 7.2  8.   8.8  9.6 10.4 11.2 12.  12.8 13.6 14.4 15.2]\n",
      "Help on function hist in module matplotlib.pyplot:\n",
      "\n",
      "hist(x: 'ArrayLike | Sequence[ArrayLike]', bins: 'int | Sequence[float] | str | None' = None, *, range: 'tuple[float, float] | None' = None, density: 'bool' = False, weights: 'ArrayLike | None' = None, cumulative: 'bool | float' = False, bottom: 'ArrayLike | float | None' = None, histtype: \"Literal['bar', 'barstacked', 'step', 'stepfilled']\" = 'bar', align: \"Literal['left', 'mid', 'right']\" = 'mid', orientation: \"Literal['vertical', 'horizontal']\" = 'vertical', rwidth: 'float | None' = None, log: 'bool' = False, color: 'ColorType | Sequence[ColorType] | None' = None, label: 'str | Sequence[str] | None' = None, stacked: 'bool' = False, data=None, **kwargs) -> 'tuple[np.ndarray | list[np.ndarray], np.ndarray, BarContainer | Polygon | list[BarContainer | Polygon]]'\n",
      "    Compute and plot a histogram.\n",
      "\n",
      "    This method uses `numpy.histogram` to bin the data in *x* and count the\n",
      "    number of values in each bin, then draws the distribution either as a\n",
      "    `.BarContainer` or `.Polygon`. The *bins*, *range*, *density*, and\n",
      "    *weights* parameters are forwarded to `numpy.histogram`.\n",
      "\n",
      "    If the data has already been binned and counted, use `~.bar` or\n",
      "    `~.stairs` to plot the distribution::\n",
      "\n",
      "        counts, bins = np.histogram(x)\n",
      "        plt.stairs(counts, bins)\n",
      "\n",
      "    Alternatively, plot pre-computed bins and counts using ``hist()`` by\n",
      "    treating each bin as a single point with a weight equal to its count::\n",
      "\n",
      "        plt.hist(bins[:-1], bins, weights=counts)\n",
      "\n",
      "    The data input *x* can be a singular array, a list of datasets of\n",
      "    potentially different lengths ([*x0*, *x1*, ...]), or a 2D ndarray in\n",
      "    which each column is a dataset. Note that the ndarray form is\n",
      "    transposed relative to the list form. If the input is an array, then\n",
      "    the return value is a tuple (*n*, *bins*, *patches*); if the input is a\n",
      "    sequence of arrays, then the return value is a tuple\n",
      "    ([*n0*, *n1*, ...], *bins*, [*patches0*, *patches1*, ...]).\n",
      "\n",
      "    Masked arrays are not supported.\n",
      "\n",
      "    Parameters\n",
      "    ----------\n",
      "    x : (n,) array or sequence of (n,) arrays\n",
      "        Input values, this takes either a single array or a sequence of\n",
      "        arrays which are not required to be of the same length.\n",
      "\n",
      "    bins : int or sequence or str, default: :rc:`hist.bins`\n",
      "        If *bins* is an integer, it defines the number of equal-width bins\n",
      "        in the range.\n",
      "\n",
      "        If *bins* is a sequence, it defines the bin edges, including the\n",
      "        left edge of the first bin and the right edge of the last bin;\n",
      "        in this case, bins may be unequally spaced.  All but the last\n",
      "        (righthand-most) bin is half-open.  In other words, if *bins* is::\n",
      "\n",
      "            [1, 2, 3, 4]\n",
      "\n",
      "        then the first bin is ``[1, 2)`` (including 1, but excluding 2) and\n",
      "        the second ``[2, 3)``.  The last bin, however, is ``[3, 4]``, which\n",
      "        *includes* 4.\n",
      "\n",
      "        If *bins* is a string, it is one of the binning strategies\n",
      "        supported by `numpy.histogram_bin_edges`: 'auto', 'fd', 'doane',\n",
      "        'scott', 'stone', 'rice', 'sturges', or 'sqrt'.\n",
      "\n",
      "    range : tuple or None, default: None\n",
      "        The lower and upper range of the bins. Lower and upper outliers\n",
      "        are ignored. If not provided, *range* is ``(x.min(), x.max())``.\n",
      "        Range has no effect if *bins* is a sequence.\n",
      "\n",
      "        If *bins* is a sequence or *range* is specified, autoscaling\n",
      "        is based on the specified bin range instead of the\n",
      "        range of x.\n",
      "\n",
      "    density : bool, default: False\n",
      "        If ``True``, draw and return a probability density: each bin\n",
      "        will display the bin's raw count divided by the total number of\n",
      "        counts *and the bin width*\n",
      "        (``density = counts / (sum(counts) * np.diff(bins))``),\n",
      "        so that the area under the histogram integrates to 1\n",
      "        (``np.sum(density * np.diff(bins)) == 1``).\n",
      "\n",
      "        If *stacked* is also ``True``, the sum of the histograms is\n",
      "        normalized to 1.\n",
      "\n",
      "    weights : (n,) array-like or None, default: None\n",
      "        An array of weights, of the same shape as *x*.  Each value in\n",
      "        *x* only contributes its associated weight towards the bin count\n",
      "        (instead of 1).  If *density* is ``True``, the weights are\n",
      "        normalized, so that the integral of the density over the range\n",
      "        remains 1.\n",
      "\n",
      "    cumulative : bool or -1, default: False\n",
      "        If ``True``, then a histogram is computed where each bin gives the\n",
      "        counts in that bin plus all bins for smaller values. The last bin\n",
      "        gives the total number of datapoints.\n",
      "\n",
      "        If *density* is also ``True`` then the histogram is normalized such\n",
      "        that the last bin equals 1.\n",
      "\n",
      "        If *cumulative* is a number less than 0 (e.g., -1), the direction\n",
      "        of accumulation is reversed.  In this case, if *density* is also\n",
      "        ``True``, then the histogram is normalized such that the first bin\n",
      "        equals 1.\n",
      "\n",
      "    bottom : array-like, scalar, or None, default: None\n",
      "        Location of the bottom of each bin, i.e. bins are drawn from\n",
      "        ``bottom`` to ``bottom + hist(x, bins)`` If a scalar, the bottom\n",
      "        of each bin is shifted by the same amount. If an array, each bin\n",
      "        is shifted independently and the length of bottom must match the\n",
      "        number of bins. If None, defaults to 0.\n",
      "\n",
      "    histtype : {'bar', 'barstacked', 'step', 'stepfilled'}, default: 'bar'\n",
      "        The type of histogram to draw.\n",
      "\n",
      "        - 'bar' is a traditional bar-type histogram.  If multiple data\n",
      "          are given the bars are arranged side by side.\n",
      "        - 'barstacked' is a bar-type histogram where multiple\n",
      "          data are stacked on top of each other.\n",
      "        - 'step' generates a lineplot that is by default unfilled.\n",
      "        - 'stepfilled' generates a lineplot that is by default filled.\n",
      "\n",
      "    align : {'left', 'mid', 'right'}, default: 'mid'\n",
      "        The horizontal alignment of the histogram bars.\n",
      "\n",
      "        - 'left': bars are centered on the left bin edges.\n",
      "        - 'mid': bars are centered between the bin edges.\n",
      "        - 'right': bars are centered on the right bin edges.\n",
      "\n",
      "    orientation : {'vertical', 'horizontal'}, default: 'vertical'\n",
      "        If 'horizontal', `~.Axes.barh` will be used for bar-type histograms\n",
      "        and the *bottom* kwarg will be the left edges.\n",
      "\n",
      "    rwidth : float or None, default: None\n",
      "        The relative width of the bars as a fraction of the bin width.  If\n",
      "        ``None``, automatically compute the width.\n",
      "\n",
      "        Ignored if *histtype* is 'step' or 'stepfilled'.\n",
      "\n",
      "    log : bool, default: False\n",
      "        If ``True``, the histogram axis will be set to a log scale.\n",
      "\n",
      "    color : :mpltype:`color` or list of :mpltype:`color` or None, default: None\n",
      "        Color or sequence of colors, one per dataset.  Default (``None``)\n",
      "        uses the standard line color sequence.\n",
      "\n",
      "    label : str or list of str, optional\n",
      "        String, or sequence of strings to match multiple datasets.  Bar\n",
      "        charts yield multiple patches per dataset, but only the first gets\n",
      "        the label, so that `~.Axes.legend` will work as expected.\n",
      "\n",
      "    stacked : bool, default: False\n",
      "        If ``True``, multiple data are stacked on top of each other If\n",
      "        ``False`` multiple data are arranged side by side if histtype is\n",
      "        'bar' or on top of each other if histtype is 'step'\n",
      "\n",
      "    Returns\n",
      "    -------\n",
      "    n : array or list of arrays\n",
      "        The values of the histogram bins. See *density* and *weights* for a\n",
      "        description of the possible semantics.  If input *x* is an array,\n",
      "        then this is an array of length *nbins*. If input is a sequence of\n",
      "        arrays ``[data1, data2, ...]``, then this is a list of arrays with\n",
      "        the values of the histograms for each of the arrays in the same\n",
      "        order.  The dtype of the array *n* (or of its element arrays) will\n",
      "        always be float even if no weighting or normalization is used.\n",
      "\n",
      "    bins : array\n",
      "        The edges of the bins. Length nbins + 1 (nbins left edges and right\n",
      "        edge of last bin).  Always a single array even when multiple data\n",
      "        sets are passed in.\n",
      "\n",
      "    patches : `.BarContainer` or list of a single `.Polygon` or list of such objects\n",
      "        Container of individual artists used to create the histogram\n",
      "        or list of such containers if there are multiple input datasets.\n",
      "\n",
      "    Other Parameters\n",
      "    ----------------\n",
      "    data : indexable object, optional\n",
      "        If given, the following parameters also accept a string ``s``, which is\n",
      "        interpreted as ``data[s]`` if ``s`` is a key in ``data``:\n",
      "\n",
      "        *x*, *weights*\n",
      "\n",
      "    **kwargs\n",
      "        `~matplotlib.patches.Patch` properties. The following properties\n",
      "        additionally accept a sequence of values corresponding to the\n",
      "        datasets in *x*:\n",
      "        *edgecolor*, *facecolor*, *linewidth*, *linestyle*, *hatch*.\n",
      "\n",
      "        .. versionadded:: 3.10\n",
      "           Allowing sequences of values in above listed Patch properties.\n",
      "\n",
      "    See Also\n",
      "    --------\n",
      "    hist2d : 2D histogram with rectangular bins\n",
      "    hexbin : 2D histogram with hexagonal bins\n",
      "    stairs : Plot a pre-computed histogram\n",
      "    bar : Plot a pre-computed histogram\n",
      "\n",
      "    Notes\n",
      "    -----\n",
      "\n",
      "    .. note::\n",
      "\n",
      "        This is the :ref:`pyplot wrapper <pyplot_interface>` for `.axes.Axes.hist`.\n",
      "\n",
      "    For large numbers of bins (>1000), plotting can be significantly\n",
      "    accelerated by using `~.Axes.stairs` to plot a pre-computed histogram\n",
      "    (``plt.stairs(*np.histogram(data))``), or by setting *histtype* to\n",
      "    'step' or 'stepfilled' rather than 'bar' or 'barstacked'.\n",
      "\n"
     ]
    },
    {
     "data": {
      "image/png": "[encoded data removed]",
      "text/plain": [
       "<Figure size 640x480 with 1 Axes>"
      ]
     },
     "metadata": {},
     "output_type": "display_data"
    }
   ],
   "source": [
    "# your code here (should display a histogram below this cell)\n",
    "import matplotlib.pyplot as plt\n",
    "values, edges, patches = plt.hist(x)\n",
    "print(values)\n",
    "print(edges)\n",
    "x_values = values\n",
    "x_edges = edges\n",
    "print(x_values)\n",
    "print(x_edges)\n",
    "#bins = the spaces between the x axis numbers\n",
    "help(plt.hist)\n",
    "bins = np.arange(0, 15, step=1)\n",
    "\n",
    "\n"
   ]
  },
  {
   "cell_type": "markdown",
   "metadata": {},
   "source": [
    "Tuple Unpacking Example\n",
    "t = 1, 2, 3\n",
    "t\n",
    "a, b, c = t\n",
    "print(a)\n",
    "print(b)\n",
    "print(c)\n",
    "a, b, c = 1, 2, 3"
   ]
  },
  {
   "cell_type": "code",
   "execution_count": 292,
   "metadata": {},
   "outputs": [],
   "source": [
    "#x_values = ptp(x[axis, out, keepdims])\n",
    "#x_edges = (np.histogram_bin_edges(x, bins =15, range =None))\n",
    "#print(np.round(x_edges, 1)"
   ]
  },
  {
   "cell_type": "markdown",
   "metadata": {},
   "source": [
    "### Result"
   ]
  },
  {
   "cell_type": "code",
   "execution_count": 293,
   "metadata": {},
   "outputs": [
    {
     "name": "stdout",
     "output_type": "stream",
     "text": [
      "[2. 4. 3. 2. 1. 1. 1. 0. 0. 1.]\n",
      "[ 7.2  8.   8.8  9.6 10.4 11.2 12.  12.8 13.6 14.4 15.2]\n"
     ]
    }
   ],
   "source": [
    "vars = [x_values, x_edges]\n",
    "if all([v is not None for v in vars]):\n",
    "    # this should print your variables\n",
    "    print(x_values)\n",
    "    print(x_edges)\n",
    "\n",
    "    # this should not throw any errors\n",
    "    assert np.array_equal(x_values, np.array([2, 4, 3, 2, 1, 1, 1, 0, 0, 1]))\n",
    "    assert np.array_equal(\n",
    "        np.round(x_edges, 1), \n",
    "        np.array([7.2, 8.0, 8.8, 9.6, 10.4, 11.2, 12.0, 12.8, 13.6, 14.4, 15.2])\n",
    "    )"
   ]
  },
  {
   "cell_type": "markdown",
   "metadata": {},
   "source": [
    "## Problem: mesaures of central tendency (2 points)\n",
    "Given the data array `x` (defined below), use NumPy functions to calculate the mean and median."
   ]
  },
  {
   "cell_type": "markdown",
   "metadata": {},
   "source": [
    "### Setup"
   ]
  },
  {
   "cell_type": "code",
   "execution_count": 294,
   "metadata": {},
   "outputs": [],
   "source": [
    "x = np.array([8.2, 10.4, 9.7, 8.5, 8.9, 9.2, 12.4, 15.2, 11.8, 7.8, 7.2, 8.1, 8.3, 9.5, 9.9])\n",
    "x_median = None\n",
    "x_mean = None"
   ]
  },
  {
   "cell_type": "markdown",
   "metadata": {},
   "source": [
    "### Answer"
   ]
  },
  {
   "cell_type": "code",
   "execution_count": 295,
   "metadata": {},
   "outputs": [
    {
     "name": "stdout",
     "output_type": "stream",
     "text": [
      "9.2\n",
      "9.673333333333334\n",
      "9.67\n"
     ]
    }
   ],
   "source": [
    "# your code here\n",
    "x_median = np.median(x)\n",
    "print(x_median)\n",
    "x_mean = np.mean(x)\n",
    "print(x_mean)\n",
    "print(round(x_mean, 2))"
   ]
  },
  {
   "cell_type": "markdown",
   "metadata": {},
   "source": [
    "### Result"
   ]
  },
  {
   "cell_type": "code",
   "execution_count": 296,
   "metadata": {},
   "outputs": [
    {
     "name": "stdout",
     "output_type": "stream",
     "text": [
      "9.2 9.673333333333334\n"
     ]
    }
   ],
   "source": [
    "vars = [x_median, x_mean]\n",
    "if all([v is not None for v in vars]):\n",
    "    # this should print your stats\n",
    "    print(x_median, x_mean)\n",
    "    \n",
    "    # this should not throw any errors\n",
    "    assert x_median == 9.20\n",
    "    assert round(x_mean, 2) == 9.67\n"
   ]
  },
  {
   "cell_type": "markdown",
   "metadata": {},
   "source": [
    "## Problem: measures of spread (2 points)\n",
    "Given the data array `x` defined below, use NumPy functions to calculate the standard deviation and range (that is, the maximum minus the minimum)."
   ]
  },
  {
   "cell_type": "markdown",
   "metadata": {},
   "source": [
    "### Setup"
   ]
  },
  {
   "cell_type": "code",
   "execution_count": 297,
   "metadata": {},
   "outputs": [],
   "source": [
    "x = np.array([8.2, 10.4, 9.7, 8.5, 8.9, 9.2, 12.4, 15.2, 11.8, 7.8, 7.2, 8.1, 8.3, 9.5, 9.9])\n",
    "x_sd = None\n",
    "x_range = None"
   ]
  },
  {
   "cell_type": "markdown",
   "metadata": {},
   "source": [
    "### Answer"
   ]
  },
  {
   "cell_type": "code",
   "execution_count": 298,
   "metadata": {},
   "outputs": [
    {
     "name": "stdout",
     "output_type": "stream",
     "text": [
      "2.02\n",
      "8.0\n"
     ]
    }
   ],
   "source": [
    "# your code here\n",
    "x_sd = round(np.std(x), 2)\n",
    "print(x_sd)\n",
    "x_min = np.min(x)\n",
    "x_max = np.max(x)\n",
    "x_range = round((x_max - x_min), 2)\n",
    "print(x_range)\n"
   ]
  },
  {
   "cell_type": "markdown",
   "metadata": {},
   "source": [
    "### Result"
   ]
  },
  {
   "cell_type": "code",
   "execution_count": 299,
   "metadata": {},
   "outputs": [
    {
     "name": "stdout",
     "output_type": "stream",
     "text": [
      "2.02 8.0\n"
     ]
    }
   ],
   "source": [
    "vars = [x_sd, x_range]\n",
    "if all([v is not None for v in vars]):\n",
    "    # this should print your stat\n",
    "    print(x_sd, x_range)\n",
    "    \n",
    "    # this should not throw any errors\n",
    "    assert round(x_sd, 2) == 2.02\n",
    "    assert round(x_range, 2) == 8.00"
   ]
  },
  {
   "cell_type": "markdown",
   "metadata": {},
   "source": [
    "## Problem: percentiles (2 points)\n",
    "For the array `x` defined below, calculate the 10th, 20th, 50th, 80th, and 90th percentiles using a NumPy function."
   ]
  },
  {
   "cell_type": "markdown",
   "metadata": {},
   "source": [
    "### Setup"
   ]
  },
  {
   "cell_type": "code",
   "execution_count": 300,
   "metadata": {},
   "outputs": [],
   "source": [
    "x = np.array([8.2, 10.4, 9.7, 8.5, 8.9, 9.2, 12.4, 15.2, 11.8, 7.8, 7.2, 8.1, 8.3, 9.5, 9.9])\n",
    "x_perc = None  # an array with all the percentiles listed above"
   ]
  },
  {
   "cell_type": "markdown",
   "metadata": {},
   "source": [
    "### Answer"
   ]
  },
  {
   "cell_type": "code",
   "execution_count": 301,
   "metadata": {},
   "outputs": [
    {
     "name": "stdout",
     "output_type": "stream",
     "text": [
      "Percentiles: [ 7.92  8.18  9.2  10.68 12.16]\n",
      "Help on built-in function print in module builtins:\n",
      "\n",
      "print(*args, sep=' ', end='\\n', file=None, flush=False)\n",
      "    Prints the values to a stream, or to sys.stdout by default.\n",
      "\n",
      "    sep\n",
      "      string inserted between values, default a space.\n",
      "    end\n",
      "      string appended after the last value, default a newline.\n",
      "    file\n",
      "      a file-like object (stream); defaults to the current sys.stdout.\n",
      "    flush\n",
      "      whether to forcibly flush the stream.\n",
      "\n"
     ]
    }
   ],
   "source": [
    "# your code here\n",
    "from scipy import stats\n",
    "x_perc = np.percentile(x,[10, 20, 50, 80, 90])\n",
    "print(f\"Percentiles: {x_perc}\")\n",
    "help(print)"
   ]
  },
  {
   "cell_type": "markdown",
   "metadata": {},
   "source": [
    "### Result"
   ]
  },
  {
   "cell_type": "code",
   "execution_count": 302,
   "metadata": {},
   "outputs": [
    {
     "name": "stdout",
     "output_type": "stream",
     "text": [
      "[ 7.92  8.18  9.2  10.68 12.16]\n"
     ]
    }
   ],
   "source": [
    "\n",
    "vars = [x_perc]\n",
    "if all([v is not None for v in vars]):\n",
    "    # this should print your stats\n",
    "    print(x_perc)\n",
    "\n",
    "    # this should not throw any errors\n",
    "    assert np.array_equal(np.round(x_perc, 2), np.array([7.92, 8.18, 9.20, 10.68, 12.16]))"
   ]
  },
  {
   "cell_type": "markdown",
   "metadata": {},
   "source": [
    "## Problem: handling missing data (2 points)\n",
    "Given the array `y`, which includes missing data as NaN, use a NumPy function to calculate the mean, with NaNs excluded. Also use NumPy functions to calculate the number of missing data points."
   ]
  },
  {
   "cell_type": "markdown",
   "metadata": {},
   "source": [
    "### Setup"
   ]
  },
  {
   "cell_type": "code",
   "execution_count": 303,
   "metadata": {},
   "outputs": [],
   "source": [
    "y = np.array([1.2, 3.4, np.nan, 2.6, np.nan, 3.1])\n",
    "y_mean = None\n",
    "y_missing = None"
   ]
  },
  {
   "cell_type": "markdown",
   "metadata": {},
   "source": [
    "### Answer"
   ]
  },
  {
   "cell_type": "code",
   "execution_count": 304,
   "metadata": {},
   "outputs": [
    {
     "name": "stdout",
     "output_type": "stream",
     "text": [
      "2\n",
      "Missing scores: 2, Mean: 2.575\n"
     ]
    }
   ],
   "source": [
    "# your code here\n",
    "y_missing = sum((np.isnan(y)))\n",
    "print(y_missing)\n",
    "y_mean = np.round(np.nanmean(y), 3)\n",
    "print(f\"Missing scores: {y_missing}, Mean: {y_mean}\")\n"
   ]
  },
  {
   "cell_type": "markdown",
   "metadata": {},
   "source": [
    "### Result"
   ]
  },
  {
   "cell_type": "code",
   "execution_count": 305,
   "metadata": {},
   "outputs": [
    {
     "name": "stdout",
     "output_type": "stream",
     "text": [
      "2.575 2\n"
     ]
    }
   ],
   "source": [
    "vars = [y_mean, y_missing]\n",
    "if all([v is not None for v in vars]):\n",
    "    # this should print your stats\n",
    "    print(y_mean, y_missing)\n",
    "\n",
    "    # this should not throw any errors\n",
    "    assert round(y_mean, 3) == 2.575\n",
    "    assert y_missing == 2"
   ]
  },
  {
   "cell_type": "markdown",
   "metadata": {},
   "source": [
    "## Problem: handling conditions and missing data (2 points)\n",
    "Given the array `z` and condition labels `c`, calculate the mean value of `z` for condition 1 and condition 2, excluding missing data. Hint: you will need to filter `z` by indexing it with a boolean array."
   ]
  },
  {
   "cell_type": "markdown",
   "metadata": {},
   "source": [
    "### Setup"
   ]
  },
  {
   "cell_type": "code",
   "execution_count": 306,
   "metadata": {},
   "outputs": [],
   "source": [
    "z = np.array([1, 3, 5, 2, 7, 9, np.nan, 2, 3, np.nan, 4, 7])\n",
    "c = np.array([1, 1, 1, 2, 2, 2, 1, 1, 1, 2, 2, 2])\n",
    "c1_mean = None\n",
    "c2_mean = None"
   ]
  },
  {
   "cell_type": "markdown",
   "metadata": {},
   "source": [
    "### Answer"
   ]
  },
  {
   "cell_type": "code",
   "execution_count": 307,
   "metadata": {},
   "outputs": [
    {
     "name": "stdout",
     "output_type": "stream",
     "text": [
      "[ 1.  3.  5. nan  2.  3.]\n",
      "[ 2.  7.  9. nan  4.  7.]\n",
      "Condition 1 Mean: 2.8, Condition 2 Mean: 5.8\n"
     ]
    }
   ],
   "source": [
    "# your code here\n",
    "print(z[c ==1])\n",
    "print(z[c ==2])\n",
    "c1_mean = np.nanmean(z[c ==1])\n",
    "c2_mean = np.nanmean(z[c ==2])\n",
    "print(f\"Condition 1 Mean: {c1_mean}, Condition 2 Mean: {c2_mean}\")\n"
   ]
  },
  {
   "cell_type": "markdown",
   "metadata": {},
   "source": [
    "c1_mean = np.mean(np.isnan(~z[c ==1]))\n",
    "c2_mean = np.mean(np.isnan(~z[c ==2]))"
   ]
  },
  {
   "cell_type": "markdown",
   "metadata": {},
   "source": [
    "### Result"
   ]
  },
  {
   "cell_type": "code",
   "execution_count": 308,
   "metadata": {},
   "outputs": [
    {
     "name": "stdout",
     "output_type": "stream",
     "text": [
      "2.8 5.8\n"
     ]
    }
   ],
   "source": [
    "vars = [c1_mean, c2_mean]\n",
    "if all([v is not None for v in vars]):\n",
    "    # this should print your arrays\n",
    "    print(c1_mean, c2_mean)\n",
    "    \n",
    "    # this should not throw any errors\n",
    "    assert c1_mean == 2.8\n",
    "    assert c2_mean == 5.8"
   ]
  },
  {
   "cell_type": "markdown",
   "metadata": {},
   "source": [
    "## Problem (graduate students): two-dimensional arrays (2 points)\n",
    "\n",
    "Many NumPy functions take an optional `axis` argument, which can be used to calculate that function across just one axis of a multi-dimensional array. If an axis is not specified, then the function will operate over all elements of the array, collapsing over all dimensions.\n",
    "\n",
    "Given the array `m`, defined below, calculate the mean for each dimension and the overall mean. The `mean_cols` variable should have the mean value for each column, averaged across rows. The `mean_rows` variable should have the mean for each row, averaged across columns. The `mean_overall` variable should have the overall mean across all elements, regardless of row or column."
   ]
  },
  {
   "cell_type": "markdown",
   "metadata": {},
   "source": [
    "### Setup"
   ]
  },
  {
   "cell_type": "code",
   "execution_count": 309,
   "metadata": {},
   "outputs": [],
   "source": [
    "m = np.array([[1, 2, 3], [4, 5, 6], [7, 8, 9]])\n",
    "mean_cols = None\n",
    "mean_rows = None\n",
    "mean_overall = None"
   ]
  },
  {
   "cell_type": "markdown",
   "metadata": {},
   "source": [
    "### Answer"
   ]
  },
  {
   "cell_type": "code",
   "execution_count": 310,
   "metadata": {},
   "outputs": [],
   "source": [
    "# your code here"
   ]
  },
  {
   "cell_type": "markdown",
   "metadata": {},
   "source": [
    "### Result"
   ]
  },
  {
   "cell_type": "code",
   "execution_count": 311,
   "metadata": {},
   "outputs": [],
   "source": [
    "vars = [mean_cols, mean_rows, mean_overall]\n",
    "if all([v is not None for v in vars]):\n",
    "    # this should print your arrays\n",
    "    print(mean_cols)\n",
    "    print(mean_rows)\n",
    "    print(mean_overall)\n",
    "    \n",
    "    # this should not throw any errors\n",
    "    assert np.array_equal(mean_cols, np.array([4, 5, 6]))\n",
    "    assert np.array_equal(mean_rows, np.array([2, 5, 8]))\n",
    "    assert mean_overall == 5.0"
   ]
  },
  {
   "cell_type": "markdown",
   "metadata": {},
   "source": [
    "## Problem (graduate students): random number generation (2 points)\n",
    "\n",
    "Read about [random number generation](https://numpy.org/devdocs/reference/random/index.html#numpyrandom) in NumPy. Use `numpy.random.default_rng` to create a random number generator with seed 42. Then use the `normal` method of the RNG to generate 10 random normally distributed numbers in an array `r`, with a mean of 2 and a standard deviation of 1.5."
   ]
  },
  {
   "cell_type": "markdown",
   "metadata": {},
   "source": [
    "### Setup"
   ]
  },
  {
   "cell_type": "code",
   "execution_count": 312,
   "metadata": {},
   "outputs": [],
   "source": [
    "r = None"
   ]
  },
  {
   "cell_type": "markdown",
   "metadata": {},
   "source": [
    "### Answer"
   ]
  },
  {
   "cell_type": "code",
   "execution_count": 313,
   "metadata": {},
   "outputs": [],
   "source": [
    "# your code here"
   ]
  },
  {
   "cell_type": "markdown",
   "metadata": {},
   "source": [
    "### Result"
   ]
  },
  {
   "cell_type": "code",
   "execution_count": 314,
   "metadata": {},
   "outputs": [],
   "source": [
    "vars = [r]\n",
    "if all([v is not None for v in vars]):\n",
    "    # this should print your arrays\n",
    "    print(r)\n",
    "    \n",
    "    # this should not throw any errors\n",
    "    answer = np.array([2.4571, 0.4400, 3.1257, 3.4108, -0.9266, 0.0467, 2.1918, 1.5256, 1.9748, 0.7204])\n",
    "    assert np.array_equal(answer, np.round(r, 4))\n"
   ]
  },
  {
   "cell_type": "markdown",
   "metadata": {},
   "source": [
    "## Problem (graduate students): advanced indexing, part 1 (2 points)\n",
    "\n",
    "Read about [advanced indexing](https://numpy.org/doc/2.2/user/basics.indexing.html#advanced-indexing) in NumPy. We talked about one form of advanced indexing, which can index into an array using a boolean array of the same size. There is another form of advanced indexing that indexes one array with an array of integers for each dimension. Given the test array `a`, defined below, create a second array `b` that will access the following indices of `a`: 0, 5, 3, 4, 2, 1. Use `b` to index `a`, resulting in a reordered array `c`."
   ]
  },
  {
   "cell_type": "markdown",
   "metadata": {},
   "source": [
    "### Setup"
   ]
  },
  {
   "cell_type": "code",
   "execution_count": 315,
   "metadata": {},
   "outputs": [],
   "source": [
    "a = np.arange(1, 7)\n",
    "b = None\n",
    "c = None"
   ]
  },
  {
   "cell_type": "markdown",
   "metadata": {},
   "source": [
    "### Answer"
   ]
  },
  {
   "cell_type": "code",
   "execution_count": 316,
   "metadata": {},
   "outputs": [],
   "source": [
    "# your code here"
   ]
  },
  {
   "cell_type": "markdown",
   "metadata": {},
   "source": [
    "### Result"
   ]
  },
  {
   "cell_type": "code",
   "execution_count": 317,
   "metadata": {},
   "outputs": [],
   "source": [
    "vars = [b, c]\n",
    "if all([v is not None for v in vars]):\n",
    "    # this should print your arrays\n",
    "    print(b)\n",
    "    print(c)\n",
    "    \n",
    "    # this should not throw any errors\n",
    "    assert np.array_equal(c, np.array([1, 6, 4, 5, 3, 2]))"
   ]
  },
  {
   "cell_type": "markdown",
   "metadata": {},
   "source": [
    "## Problem (graduate students): advanced indexing, part 2 (2 points)\n",
    "\n",
    "Read about [advanced indexing](https://numpy.org/doc/2.2/user/basics.indexing.html#advanced-indexing) in NumPy. When using advanced indexing with multiple dimensions, you can pass one array of integers for each dimension of the array. Given the 2D array `m`, defined below, get the *diagonal* of the matrix by indexing it using two arrays of integers. The diagonal is defined as the elements of a matrix where the row and column are the same. For a 3x3 matrix $m$, the diagonal includes $m_{1,1}$, $m_{2,2}$, and $m_{3,3}$.\n",
    "\n",
    "The diagonal of a matrix can also be extracted using `np.diag`. Get the diagonal of `m` using that method also."
   ]
  },
  {
   "cell_type": "markdown",
   "metadata": {},
   "source": [
    "### Setup"
   ]
  },
  {
   "cell_type": "code",
   "execution_count": 318,
   "metadata": {},
   "outputs": [],
   "source": [
    "m = np.array([[1, 2, 3], [4, 5, 6], [7, 8, 9]])\n",
    "diag_indexing = None\n",
    "diag_function = None"
   ]
  },
  {
   "cell_type": "markdown",
   "metadata": {},
   "source": [
    "### Answer"
   ]
  },
  {
   "cell_type": "code",
   "execution_count": 319,
   "metadata": {},
   "outputs": [],
   "source": [
    "# your code here"
   ]
  },
  {
   "cell_type": "markdown",
   "metadata": {},
   "source": [
    "### Result"
   ]
  },
  {
   "cell_type": "code",
   "execution_count": 320,
   "metadata": {},
   "outputs": [],
   "source": [
    "vars = [diag_indexing, diag_function]\n",
    "if all([v is not None for v in vars]):\n",
    "    # this should print your arrays\n",
    "    print(diag_indexing)\n",
    "    print(diag_function)\n",
    "    \n",
    "    # this should not throw any errors\n",
    "    assert np.array_equal(diag_indexing, np.array([1, 5, 9]))\n",
    "    assert np.array_equal(diag_function, np.array([1, 5, 9]))"
   ]
  }
 ],
 "metadata": {
  "kernelspec": {
   "display_name": ".venv",
   "language": "python",
   "name": "python3"
  },
  "language_info": {
   "codemirror_mode": {
    "name": "ipython",
    "version": 3
   },
   "file_extension": ".py",
   "mimetype": "text/x-python",
   "name": "python",
   "nbconvert_exporter": "python",
   "pygments_lexer": "ipython3",
   "version": "3.12.8"
  }
 },
 "nbformat": 4,
 "nbformat_minor": 2
}
