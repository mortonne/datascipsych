{
 "cells": [
  {
   "cell_type": "markdown",
   "metadata": {
    "editable": true,
    "slideshow": {
     "slide_type": ""
    },
    "tags": []
   },
   "source": [
    "# Project Iteration\n",
    "\n",
    "Real code projects change over time as developers add features, refactor code to improve organization, and write tests to make sure their code is working as intended. These iterative changes can make the difference between projects delivering reliable results or being abandoned. We will discuss some important ways that projects can be developed over time to improve usability, flexibility, and extensability."
   ]
  },
  {
   "cell_type": "markdown",
   "metadata": {
    "editable": true,
    "slideshow": {
     "slide_type": "slide"
    },
    "tags": []
   },
   "source": [
    "## Python scripts\n",
    "\n",
    "Python scripts are useful for running programs that do not need to be *interactive*; that is, once they are started, they do not require the user to do anything. They can be very powerful for completing repetitive tasks."
   ]
  },
  {
   "cell_type": "markdown",
   "metadata": {
    "editable": true,
    "slideshow": {
     "slide_type": "fragment"
    },
    "tags": []
   },
   "source": [
    "In this course, we have focused on Jupyter notebooks, which are very flexible and well-suited for data analysis and visualization. However, they are relatively complicated to run. First, you have to open an IDE like Visual Studio Code or a web browser. Then you have to set up a kernel to run the notebook. Finally, you can then run commands to execute the code you want to run, either by running all cells or running individual cells manually."
   ]
  },
  {
   "cell_type": "markdown",
   "metadata": {
    "editable": true,
    "slideshow": {
     "slide_type": "fragment"
    },
    "tags": []
   },
   "source": [
    "Python scripts, in contrast, can be executed by running one command in a terminal. The script *interface* can be written to be flexible, allowing the user to easily change options that affect how the program runs."
   ]
  },
  {
   "cell_type": "markdown",
   "metadata": {
    "editable": true,
    "slideshow": {
     "slide_type": "slide"
    },
    "tags": []
   },
   "source": [
    "### Script types\n",
    "\n",
    "There are two basic kinds of scripts: script files and installed scripts. "
   ]
  },
  {
   "cell_type": "markdown",
   "metadata": {
    "editable": true,
    "slideshow": {
     "slide_type": "fragment"
    },
    "tags": []
   },
   "source": [
    "Script files are individual `.py` files that can be run using the `python` function. To use them, you must either be in the same directory where they are or know the full path to them."
   ]
  },
  {
   "cell_type": "markdown",
   "metadata": {
    "editable": true,
    "slideshow": {
     "slide_type": "fragment"
    },
    "tags": []
   },
   "source": [
    "Installed scripts work like any other command installed on your computer, like `python` or `pip`. You can run them just by typing the name of the script, so you don't have to specify the full path to their location. They can be executed anytime regardless of what your current directory is."
   ]
  },
  {
   "cell_type": "markdown",
   "metadata": {
    "editable": true,
    "slideshow": {
     "slide_type": "slide"
    },
    "tags": []
   },
   "source": [
    "## Script files\n",
    "\n",
    "Script files are simple to write; you just create a file with a `.py` extension with the Python code you want to execute."
   ]
  },
  {
   "cell_type": "markdown",
   "metadata": {
    "editable": true,
    "slideshow": {
     "slide_type": "slide"
    },
    "tags": []
   },
   "source": [
    "### A very simple script\n",
    "\n",
    "Let's try making a simple script. We'll start with a script that just prints \"Hello world.\""
   ]
  },
  {
   "cell_type": "markdown",
   "metadata": {
    "editable": true,
    "slideshow": {
     "slide_type": "fragment"
    },
    "tags": []
   },
   "source": [
    "Create a new file in the main directory of this project called `hello.py`, with the following contents:\n",
    "\n",
    "```python\n",
    "print(\"Hello world.\")\n",
    "```"
   ]
  },
  {
   "cell_type": "markdown",
   "metadata": {
    "editable": true,
    "slideshow": {
     "slide_type": "fragment"
    },
    "tags": []
   },
   "source": [
    "This isn't much of a script, but it technically qualifies. Run it by opening a terminal and typing `python hello.py`."
   ]
  },
  {
   "cell_type": "markdown",
   "metadata": {
    "editable": true,
    "slideshow": {
     "slide_type": "slide"
    },
    "tags": []
   },
   "source": [
    "### Using arguments\n",
    "\n",
    "Similar to Python functions, most scripts take at least one *argument*. Arguments are used to specify something about how the script will run. "
   ]
  },
  {
   "cell_type": "markdown",
   "metadata": {
    "editable": true,
    "slideshow": {
     "slide_type": "fragment"
    },
    "tags": []
   },
   "source": [
    "Arguments come after the name of the script and are separated by spaces:\n",
    "\n",
    "```bash\n",
    "python myscript.py argument1 argument2 argument3 ...\n",
    "```"
   ]
  },
  {
   "cell_type": "markdown",
   "metadata": {
    "editable": true,
    "slideshow": {
     "slide_type": "fragment"
    },
    "tags": []
   },
   "source": [
    "In the code for the script, we can fetch any arguments that the user supplied using the `sys` module. The `sys.argv` variable holds whatever arguments have been passed into the current script. `sys.argv[0]` has the name of the script. `sys.argv[1]` has the first argument, `sys.argv[2]` has the second argument, etc."
   ]
  },
  {
   "cell_type": "markdown",
   "metadata": {
    "editable": true,
    "slideshow": {
     "slide_type": "slide"
    },
    "tags": []
   },
   "source": [
    "Let's edit `hello.py` to take one argument, which we will call `user`.\n",
    "\n",
    "```python\n",
    "import sys\n",
    "user = sys.argv[1]  # gets the argument to the script\n",
    "print(f\"Hello {user}.\")\n",
    "```"
   ]
  },
  {
   "cell_type": "markdown",
   "metadata": {
    "editable": true,
    "slideshow": {
     "slide_type": "fragment"
    },
    "tags": []
   },
   "source": [
    "Now we can call our script with an argument. For example, we can greet Dave using `python hello.py Dave`."
   ]
  },
  {
   "cell_type": "markdown",
   "metadata": {
    "editable": true,
    "slideshow": {
     "slide_type": "slide"
    },
    "tags": []
   },
   "source": [
    "### Exercise: script file\n",
    "\n",
    "Write a new script called `describe.py` that loads a CSV file using Polars and runs `describe` to display an overview. \n",
    "\n",
    "Your script should take one argument that gives the path to a CSV file. For example, from the main project directory, the path to the Osth2019 dataset is `src/datascipsych/data/Osth2019.csv`. Your script should read the CSV using Polars, get a description of the dataset using the `describe` function, and print it.\n",
    "\n",
    "Use your script to print a description of the Osth2019 dataset."
   ]
  },
  {
   "cell_type": "markdown",
   "metadata": {
    "editable": true,
    "slideshow": {
     "slide_type": "slide"
    },
    "tags": []
   },
   "source": [
    "## Installed script commands\n",
    "\n",
    "Installed scripts are commands that have been installed into your virtual environment. They are a little more complicated to set up."
   ]
  },
  {
   "cell_type": "markdown",
   "metadata": {
    "editable": true,
    "slideshow": {
     "slide_type": "slide"
    },
    "tags": []
   },
   "source": [
    "First, we need a function in one of the modules in our package that we want to turn into a script. We can use the `hello` function in the `cli` module (\"cli\" stands for command-line interface). The function looks like this:\n",
    "\n",
    "```python\n",
    "def hello():\n",
    "    \"\"\"Print a greeting.\"\"\"\n",
    "    if len(sys.argv) > 1:\n",
    "        user = sys.argv[1]\n",
    "    else:\n",
    "        user = \"world\"\n",
    "    print(f\"Hello {user}.\")\n",
    "```"
   ]
  },
  {
   "cell_type": "markdown",
   "metadata": {
    "editable": true,
    "slideshow": {
     "slide_type": "fragment"
    },
    "tags": []
   },
   "source": [
    "In this function, have an optional `user` argument. If it is not specified (which we can tell if `sys.argv` has less than two items), we will use the default setting, `\"world\"`."
   ]
  },
  {
   "cell_type": "markdown",
   "metadata": {
    "editable": true,
    "slideshow": {
     "slide_type": "slide"
    },
    "tags": []
   },
   "source": [
    "To make the `hello` function available as a command, we must have settings in the `pyproject.toml` file to indicate the name we want for the new command and where the function can be found:\n",
    "\n",
    "```\n",
    "[project.scripts]\n",
    "hello = \"datascipsych:cli.hello\"\n",
    "```"
   ]
  },
  {
   "cell_type": "markdown",
   "metadata": {
    "editable": true,
    "slideshow": {
     "slide_type": "fragment"
    },
    "tags": []
   },
   "source": [
    "To specify where the function is, start with the package and a colon (`datascipsych:`), then the module and a dot (`cli.`), and finally the name of the function (`hello`). That gives us `\"datascipsych:cli.hello\"`. The text on the left side of the equal sign indicates what the new command should be named (`hello`)."
   ]
  },
  {
   "cell_type": "markdown",
   "metadata": {
    "editable": true,
    "slideshow": {
     "slide_type": "slide"
    },
    "tags": []
   },
   "source": [
    "Run `pip install -e .` to install the datascipsych package, including our `hello` command. When installing the package, `pip` will find our `hello` function and make it into a command that we can call from the terminal."
   ]
  },
  {
   "cell_type": "markdown",
   "metadata": {
    "editable": true,
    "slideshow": {
     "slide_type": "fragment"
    },
    "tags": []
   },
   "source": [
    "Open a terminal and try running `hello` and `hello Dave`. Note that, unlike when we used a script file, now we are using an installed command. That is why we don't have to write `python` first or give a full filename this time; instead we can just type `hello`."
   ]
  },
  {
   "cell_type": "markdown",
   "metadata": {
    "editable": true,
    "slideshow": {
     "slide_type": "slide"
    },
    "tags": []
   },
   "source": [
    "### Using Click\n",
    "\n",
    "Packages have been developed to make it easier to create commandline tools using Python. Click allows you to quickly add more advanced features like optional inputs, just by adding a few lines of code before a function."
   ]
  },
  {
   "cell_type": "markdown",
   "metadata": {
    "editable": true,
    "slideshow": {
     "slide_type": "slide"
    },
    "tags": []
   },
   "source": [
    "In the `cli.py` module, we have another function called `hello_click`:\n",
    "\n",
    "```python\n",
    "@click.command()\n",
    "@click.option(\"--user\", default=\"world\", help=\"User to greet.\")\n",
    "def hello_click(user):\n",
    "    print(f\"Hello {user}.\")\n",
    "```"
   ]
  },
  {
   "cell_type": "markdown",
   "metadata": {
    "editable": true,
    "slideshow": {
     "slide_type": "fragment"
    },
    "tags": []
   },
   "source": [
    "The `@click` statements are an example of what is called a *function decorator*. Function decorators, which start with an `@` sign, are a newer feature of Python that allow functions to be modified. In this case, the Click package uses decorators to turn an ordinary function into a command that can get inputs from the terminal and pass them into the function."
   ]
  },
  {
   "cell_type": "markdown",
   "metadata": {
    "editable": true,
    "slideshow": {
     "slide_type": "slide"
    },
    "tags": []
   },
   "source": [
    "In `pyproject.toml`, this line under `[project.scripts]` sets up a command called `hello-click`.\n",
    "\n",
    "```\n",
    "hello-click = \"datascipsych:cli.hello_click\"\n",
    "```"
   ]
  },
  {
   "cell_type": "markdown",
   "metadata": {
    "editable": true,
    "slideshow": {
     "slide_type": "fragment"
    },
    "tags": []
   },
   "source": [
    "Run `pip install -e .` to install `hello-click`."
   ]
  },
  {
   "cell_type": "markdown",
   "metadata": {
    "editable": true,
    "slideshow": {
     "slide_type": "fragment"
    },
    "tags": []
   },
   "source": [
    "In the terminal, run `hello-click --help`. You should see a message showing the options for running the command. Click automatically puts this message together for us, based on how we have set up the function. You can customize the user with the `--user` flag. For example, try `hello-click --user Dave`."
   ]
  },
  {
   "cell_type": "markdown",
   "metadata": {
    "editable": true,
    "slideshow": {
     "slide_type": "fragment"
    },
    "tags": []
   },
   "source": [
    "Click has a lot of features to make it easier to define inputs to Python scripts. See the [website](https://click.palletsprojects.com/en/stable/) for details."
   ]
  },
  {
   "cell_type": "markdown",
   "metadata": {
    "editable": true,
    "slideshow": {
     "slide_type": "slide"
    },
    "tags": []
   },
   "source": [
    "## Using unit tests to ensure code correctness\n",
    "\n",
    "When developing code, it is very important to check that the code is working as expected. *Unit tests* are a powerful method for checking code output."
   ]
  },
  {
   "cell_type": "markdown",
   "metadata": {
    "editable": true,
    "slideshow": {
     "slide_type": "slide"
    },
    "tags": []
   },
   "source": [
    "### Using assert statements\n",
    "\n",
    "The `assert` statement makes it easy to run a check of some assumption or output from a function."
   ]
  },
  {
   "cell_type": "markdown",
   "metadata": {
    "editable": true,
    "slideshow": {
     "slide_type": "slide"
    },
    "tags": []
   },
   "source": [
    "An `assert` statement checks whether some code is `False`. If it is, an error is thrown. For example, running the code below will raise an error.\n",
    "\n",
    "```python\n",
    "test_variable = 2\n",
    "assert test_variable == 3\n",
    "```"
   ]
  },
  {
   "cell_type": "markdown",
   "metadata": {
    "editable": true,
    "slideshow": {
     "slide_type": "fragment"
    },
    "tags": []
   },
   "source": [
    "The idea is that we made an *assertion* that `test_variable == 3`. Our assertion was incorrect, because `test_variable` is actually 2, so an error is thrown."
   ]
  },
  {
   "cell_type": "markdown",
   "metadata": {
    "editable": true,
    "slideshow": {
     "slide_type": "fragment"
    },
    "tags": []
   },
   "source": [
    "We can use `assert` statements to check assumptions and throw an error if our assumptions are incorrect. For example, we can write a unit test by defining some input to a function, calling it to get an output, and comparing that to the correct answer that we have calculated by hand."
   ]
  },
  {
   "cell_type": "markdown",
   "metadata": {
    "editable": true,
    "slideshow": {
     "slide_type": "slide"
    },
    "tags": []
   },
   "source": [
    "Say we have written a function to calculate standard error of the mean (SEM) using NumPy, and we want to make sure it is working as expected. We define a test case (here, a set of observations of some hypothetical measure), and then manually calculate the SEM for that test case. Finally, we use an assert statement to check that our function gives the same result as our manual calculation."
   ]
  },
  {
   "cell_type": "code",
   "execution_count": 1,
   "metadata": {},
   "outputs": [],
   "source": [
    "import numpy as np\n",
    "def sem(x):\n",
    "    \"\"\"Calculate the standard error of the mean for an array.\"\"\"\n",
    "    return np.std(x, ddof=1) / np.sqrt(x.size)\n",
    "\n",
    "\n",
    "x_to_test = np.array([1, 3, 2, 4, 8, 2, 4])\n",
    "# Manual calculations: STD=2.300, N=7, sqrt(N)=2.646, SEM=STD/sqrt(N)=0.869\n",
    "assert np.round(sem(x_to_test), 3) == 0.869  # compare the function output to our calculations"
   ]
  },
  {
   "cell_type": "markdown",
   "metadata": {
    "editable": true,
    "slideshow": {
     "slide_type": "fragment"
    },
    "tags": []
   },
   "source": [
    "Note that this is a similar pattern to what we have used in the assignments in this course. Assert statements can be used to automatically check answers that are output from analysis code (assuming you know the correct answer for a test case, or know how to calculate it)."
   ]
  },
  {
   "cell_type": "markdown",
   "metadata": {
    "editable": true,
    "slideshow": {
     "slide_type": "slide"
    },
    "tags": []
   },
   "source": [
    "### Test-driven development\n",
    "\n",
    "In the *test-driven development* method, you choose a test case, determine what the result should be for that test case, write an automated test, and then write code to make your test work."
   ]
  },
  {
   "cell_type": "markdown",
   "metadata": {
    "editable": true,
    "slideshow": {
     "slide_type": "fragment"
    },
    "tags": []
   },
   "source": [
    "This can be very helpful when you have clear requirements for how code should run, which are relatively easy to write into a test. Then you have a concrete target when writing your code."
   ]
  },
  {
   "cell_type": "markdown",
   "metadata": {
    "editable": true,
    "slideshow": {
     "slide_type": "fragment"
    },
    "tags": []
   },
   "source": [
    "Completing the assignments in this course is an example of test-driven development. Problems involve writing code that will pass the set of assert statements at the end of each problem, making it so you can automatically know whether your solution is (probably) correct."
   ]
  },
  {
   "cell_type": "markdown",
   "metadata": {
    "editable": true,
    "slideshow": {
     "slide_type": "slide"
    },
    "tags": []
   },
   "source": [
    "### Running test suites using pytest\n",
    "\n",
    "A code project may have many different tests, put together as a *test suite*. This makes it possible to automatically test whether different aspects of the project are working as expected."
   ]
  },
  {
   "cell_type": "markdown",
   "metadata": {
    "editable": true,
    "slideshow": {
     "slide_type": "fragment"
    },
    "tags": []
   },
   "source": [
    "To make it easier to run test suites, developers have created systems for managing and running tests. The [pytest](https://docs.pytest.org/en/stable/) package makes it easy to add tests to a project."
   ]
  },
  {
   "cell_type": "markdown",
   "metadata": {
    "editable": true,
    "slideshow": {
     "slide_type": "slide"
    },
    "tags": []
   },
   "source": [
    "To use pytest, first create a directory in the main project directory called `tests`. Under the `tests` directory, add `.py` files that start with `test`. For example, if you wanted to test some data cleaning functions, you could place your tests in `tests/test_data_cleaning.py`."
   ]
  },
  {
   "cell_type": "markdown",
   "metadata": {
    "editable": true,
    "slideshow": {
     "slide_type": "fragment"
    },
    "tags": []
   },
   "source": [
    "To add a test, edit your `.py` file to add functions whose names start with `test`. For example:\n",
    "\n",
    "```python\n",
    "import polars as pl\n",
    "\n",
    "\n",
    "def test_drop_nulls():\n",
    "    df = pl.DataFrame({\"a\": [1, 2, 3, 4, 5], \"b\": [1, 1, 2, None, 2]})\n",
    "    df_drop = df.drop_nulls()\n",
    "    assert df_drop.shape == (4, 2)  # check that row with null has been dropped\n",
    "```"
   ]
  },
  {
   "cell_type": "markdown",
   "metadata": {
    "editable": true,
    "slideshow": {
     "slide_type": "fragment"
    },
    "tags": []
   },
   "source": [
    "You can install pytest using `pip install pytest`. Then open a terminal and run `pytest`. That should automatically detect your `tests` directory, the `test_data_cleaning.py` module, and the `test_drop_nulls` function in that. It will run all the tests it found and let you know if any of them raised an error. If there were no errors, the test \"passed\". If there was an error, the test \"failed\"."
   ]
  },
  {
   "cell_type": "markdown",
   "metadata": {
    "editable": true,
    "slideshow": {
     "slide_type": "slide"
    },
    "tags": []
   },
   "source": [
    "Having a suite of tests that can be run using pytest is very helpful for periodically checking that code still runs as expected."
   ]
  },
  {
   "cell_type": "markdown",
   "metadata": {
    "editable": true,
    "slideshow": {
     "slide_type": "fragment"
    },
    "tags": []
   },
   "source": [
    "For example, changes to dependencies can sometimes violate your expectations, leading to broken code. Test suites make it much easier to identify problems when they appear."
   ]
  },
  {
   "cell_type": "markdown",
   "metadata": {
    "editable": true,
    "slideshow": {
     "slide_type": "fragment"
    },
    "tags": []
   },
   "source": [
    "The pytest package has a lot of options, including tools for preparing and using test data. See the [documentation](https://docs.pytest.org/en/stable/) for details."
   ]
  },
  {
   "cell_type": "markdown",
   "metadata": {
    "editable": true,
    "slideshow": {
     "slide_type": "slide"
    },
    "tags": []
   },
   "source": [
    "## Debugging\n",
    "\n",
    "Debugging tools make it easier to figure out what is going wrong in a Python program. They are most useful for diagnosing problems that occur in functions, loops, or long scripts, where variables can be hard to keep track of."
   ]
  },
  {
   "cell_type": "markdown",
   "metadata": {
    "editable": true,
    "slideshow": {
     "slide_type": "slide"
    },
    "tags": []
   },
   "source": [
    "The `calculate_stats` function below has a bug in it. If we try to call it, there will be an error. To help figure out what is going on, we can add a *breakpoint*. Breakpoints are used to indicate where execution should stop. Trying uncommenting the `calculate_stats` call below; it will throw a `ColumnNotFoundError`. Then try it again with a breakpoint. In VSCode, we can click on the left side of the code cell, next to the `stats = ...` line, to add a breakpoint. After adding a breakpoint, click on the menu next to the play button on the top left of the code cell, and select `Debug Cell`."
   ]
  },
  {
   "cell_type": "code",
   "execution_count": 2,
   "metadata": {},
   "outputs": [],
   "source": [
    "import polars as pl\n",
    "def calculate_stats(df, subject, condition, dv):\n",
    "    subject_means = (\n",
    "        df.group_by(subject, condition)\n",
    "        .agg(mean=pl.col(dv).mean())\n",
    "        .sort(subject, condition)\n",
    "    )\n",
    "    stats = subject_means.group_by(condition).agg(pl.col(dv).mean()).sort(condition)\n",
    "    return stats\n",
    "\n",
    "df = pl.DataFrame(\n",
    "    {\n",
    "        \"subject\": [1, 1, 1, 1, 2, 2, 2, 2], \n",
    "        \"condition\": [1, 1, 2, 2, 1, 1, 2, 2], \n",
    "        \"correct\": [0, 1, 0, 1, 1, 1, 0, 0]\n",
    "    }\n",
    ")\n",
    "# calculate_stats(df, \"subject\", \"condition\", \"correct\")  # this will throw an error"
   ]
  },
  {
   "cell_type": "markdown",
   "metadata": {
    "editable": true,
    "slideshow": {
     "slide_type": "fragment"
    },
    "tags": []
   },
   "source": [
    "The Debug Console makes it possible to inspect variables at a breakpoint. From that, we can see the problem: in the `subject_means` DataFrame, there is no `\"correct\"` column. Instead, we need to use the new `\"mean\"` column."
   ]
  },
  {
   "cell_type": "markdown",
   "metadata": {
    "editable": true,
    "slideshow": {
     "slide_type": "slide"
    },
    "tags": []
   },
   "source": [
    "This version of the function works as expected, giving us an average for each condition."
   ]
  },
  {
   "cell_type": "code",
   "execution_count": 3,
   "metadata": {},
   "outputs": [
    {
     "data": {
      "text/html": [
       "<div><style>\n",
       ".dataframe > thead > tr,\n",
       ".dataframe > tbody > tr {\n",
       "  text-align: right;\n",
       "  white-space: pre-wrap;\n",
       "}\n",
       "</style>\n",
       "<small>shape: (2, 2)</small><table border=\"1\" class=\"dataframe\"><thead><tr><th>condition</th><th>mean</th></tr><tr><td>i64</td><td>f64</td></tr></thead><tbody><tr><td>1</td><td>0.75</td></tr><tr><td>2</td><td>0.25</td></tr></tbody></table></div>"
      ],
      "text/plain": [
       "shape: (2, 2)\n",
       "┌───────────┬──────┐\n",
       "│ condition ┆ mean │\n",
       "│ ---       ┆ ---  │\n",
       "│ i64       ┆ f64  │\n",
       "╞═══════════╪══════╡\n",
       "│ 1         ┆ 0.75 │\n",
       "│ 2         ┆ 0.25 │\n",
       "└───────────┴──────┘"
      ]
     },
     "execution_count": 3,
     "metadata": {},
     "output_type": "execute_result"
    }
   ],
   "source": [
    "def calculate_stats(df, subject, condition, dv):\n",
    "    subject_means = (\n",
    "        df.group_by(subject, condition)\n",
    "        .agg(mean=pl.col(dv).mean())\n",
    "        .sort(subject, condition)\n",
    "    )\n",
    "    stats = subject_means.group_by(condition).agg(pl.col(\"mean\").mean()).sort(condition)\n",
    "    return stats\n",
    "\n",
    "calculate_stats(df, \"subject\", \"condition\", \"correct\")"
   ]
  },
  {
   "cell_type": "markdown",
   "metadata": {
    "editable": true,
    "slideshow": {
     "slide_type": "slide"
    },
    "tags": []
   },
   "source": [
    "## Sharing Python packages\n",
    "\n",
    "Python packages can be shared with others through PyPI and GitHub. Both methods make it possible for others to install your package using Pip."
   ]
  },
  {
   "cell_type": "markdown",
   "metadata": {
    "editable": true,
    "slideshow": {
     "slide_type": "slide"
    },
    "tags": []
   },
   "source": [
    "### Sharing through the Python Package Index\n",
    "\n",
    "Python packages can be published to the official Python Package Index (PyPI) to make them easily accessible to users. Packages hosted there can be installed by just running `pip install [packagename]`, where `[packagename]` is the name of your package. For example, my package for analysis of free-recall data, [Psifr](https://pypi.org/project/psifr/), can be installed by running `pip install psifr`."
   ]
  },
  {
   "cell_type": "markdown",
   "metadata": {
    "editable": true,
    "slideshow": {
     "slide_type": "fragment"
    },
    "tags": []
   },
   "source": [
    " If you have followed the directions in this course for setting up an installable package with a `pyproject.toml` file, you have already done most of the work necessary to host a package on PyPI. See the [Python Packaging User Guide](https://packaging.python.org/en/latest/tutorials/packaging-projects/) for details."
   ]
  },
  {
   "cell_type": "markdown",
   "metadata": {
    "editable": true,
    "slideshow": {
     "slide_type": "slide"
    },
    "tags": []
   },
   "source": [
    "### Sharing through GitHub\n",
    "\n",
    "You can also install packages directly from GitHub. For example, to install Psifr from the latest code on GitHub:\n",
    "\n",
    "```bash\n",
    "pip install psifr@git+https://github.com/mortonne/psifr\n",
    "```"
   ]
  },
  {
   "cell_type": "markdown",
   "metadata": {
    "editable": true,
    "slideshow": {
     "slide_type": "fragment"
    },
    "tags": []
   },
   "source": [
    "To install a package from PyPI, we only have to indicate the name of the package (for example, `psifr`). When installing from GitHub, we need to specify more information."
   ]
  },
  {
   "cell_type": "markdown",
   "metadata": {
    "editable": true,
    "slideshow": {
     "slide_type": "fragment"
    },
    "tags": []
   },
   "source": [
    "First, we indicate the name the package should be installed under using `psifr@`. Next, `git+` indicates that we want to access a Git repository. Finally, we have the URL for the GitHub webpage for the project we want to install: `https://github.com/mortonne/psifr`. See the Pip documentation page on [VCS support](https://pip.pypa.io/en/stable/topics/vcs-support/) for details."
   ]
  },
  {
   "cell_type": "markdown",
   "metadata": {
    "editable": true,
    "slideshow": {
     "slide_type": "fragment"
    },
    "tags": []
   },
   "source": [
    "A GitHub dependency, like `psifr@git+https://github.com/mortonne/psifr`, can also be used in a dependency list in a `pyproject.toml` file to indicate that a project requires that package. When installing the project, the GitHub package will automatically be downloaded and installed."
   ]
  },
  {
   "cell_type": "markdown",
   "metadata": {
    "editable": true,
    "slideshow": {
     "slide_type": "slide"
    },
    "tags": []
   },
   "source": [
    "### Using a third-party package\n",
    "\n",
    "Using Pip to install a package makes it so we can now run code from modules in that package. For example, this code will load some sample data and convert it to a Polars DataFrame. Try installing Psifr from PyPI or GitHub, then uncommenting the code below and running it. In Visual Studio Code, you can uncomment a block of code by highlighting the code and running `Edit > Toggle Line Comment`."
   ]
  },
  {
   "cell_type": "code",
   "execution_count": 4,
   "metadata": {},
   "outputs": [],
   "source": [
    "# import polars as pl\n",
    "# from psifr import fr\n",
    "# df = fr.sample_data(\"Morton2013\")\n",
    "# data = pl.DataFrame(fr.merge_free_recall(df))\n",
    "# data.head()"
   ]
  },
  {
   "cell_type": "markdown",
   "metadata": {
    "editable": true,
    "slideshow": {
     "slide_type": "slide"
    },
    "tags": []
   },
   "source": [
    "## Sharing Jupyter notebooks\n",
    "\n",
    "When collaborating or sharing results with others, you can have them clone or download your code project; however, running the code involves some setup work. Different methods can be used to share Jupyter notebooks more directly."
   ]
  },
  {
   "cell_type": "markdown",
   "metadata": {
    "editable": true,
    "slideshow": {
     "slide_type": "slide"
    },
    "tags": []
   },
   "source": [
    "### Static notebooks on GitHub\n",
    "\n",
    "GitHub makes it easy to share the results of a data analysis project. Jupyter notebooks are automatically rendered, allowing visitors to see your code and the results that you got the last time you ran it. However, notebooks are only updated when you push changes to GitHub, and users will not be able to edit and run code themselves."
   ]
  },
  {
   "cell_type": "markdown",
   "metadata": {
    "editable": true,
    "slideshow": {
     "slide_type": "fragment"
    },
    "tags": []
   },
   "source": [
    "For example, the sample project has a [notebook on GitHub](https://github.com/mortonne/datascipsych-project/blob/main/jupyter/replication.ipynb) that you can view. The output of each cell shows what the results were the last time the notebook was run and changes were pushed to GitHub."
   ]
  },
  {
   "cell_type": "markdown",
   "metadata": {
    "editable": true,
    "slideshow": {
     "slide_type": "slide"
    },
    "tags": []
   },
   "source": [
    "### Executable notebooks on Binder\n",
    "\n",
    "The [Binder](https://mybinder.org/) service lets you create an interactive notebook that you can share with anyone, to let them run your code interactively. This can be a convenient way to share results with a collaborator without them having to clone your project, create a Python virtual environment, install your project, open your notebook, and specify the kernel."
   ]
  },
  {
   "cell_type": "markdown",
   "metadata": {
    "editable": true,
    "slideshow": {
     "slide_type": "fragment"
    },
    "tags": []
   },
   "source": [
    "To use Binder, you provide the URL for a GitHub repository and the path to a Jupyter notebook relative to the main directory of your repository. After you fill in a form with information about the repository and the location of the notebook you want to run, Binder will create an environment to run the notebook and open an interface where you can make edits and run code."
   ]
  },
  {
   "cell_type": "markdown",
   "metadata": {
    "editable": true,
    "slideshow": {
     "slide_type": "slide"
    },
    "tags": []
   },
   "source": [
    "Binder currently does not support installing dependencies from a `pyproject.toml` file. You can either create a file in your main project directory called `requirements.txt` with one dependency per line, or you can instruct users to add code at the top of the notebook to install any necessary dependencies."
   ]
  },
  {
   "cell_type": "markdown",
   "metadata": {
    "editable": true,
    "slideshow": {
     "slide_type": "fragment"
    },
    "tags": []
   },
   "source": [
    "For example, to install Polars, users can add this line at the top of the notebook:\n",
    "\n",
    "```\n",
    "!pip install polars\n",
    "```"
   ]
  },
  {
   "cell_type": "markdown",
   "metadata": {
    "editable": true,
    "slideshow": {
     "slide_type": "fragment"
    },
    "tags": []
   },
   "source": [
    "The `!` indicates to Jupyter that you want to run something outside the usual Jupyter environment. It lets you run `pip` directly from inside a notebook to install Polars into the environment that is running the notebook."
   ]
  },
  {
   "cell_type": "markdown",
   "metadata": {
    "editable": true,
    "slideshow": {
     "slide_type": "fragment"
    },
    "tags": []
   },
   "source": [
    "To use a module from a code project on GitHub (for example, if the notebook is designed to use a module defined in the same project), you can use the same method as in the Sharing through GitHub section. For example:\n",
    "\n",
    "```\n",
    "!pip install project@git+https://github.com/mortonne/datascipsych-project\n",
    "```"
   ]
  },
  {
   "cell_type": "markdown",
   "metadata": {
    "editable": true,
    "slideshow": {
     "slide_type": "slide"
    },
    "tags": []
   },
   "source": [
    "### Google Colab\n",
    "\n",
    "The [Google Colab](https://colab.research.google.com/) website is another option for hosting interactive notebooks. The default kernel has many common data science packages already installed, so setup is sometimes easier compared to using Binder."
   ]
  },
  {
   "cell_type": "markdown",
   "metadata": {
    "editable": true,
    "slideshow": {
     "slide_type": "slide"
    },
    "tags": []
   },
   "source": [
    "## Python packages for data science\n",
    "\n",
    "This course focuses on a core set of packages for data science, including NumPy, SciPy, Polars, Matplotlib, Seaborn, and Pingouin. However, there are other packages that are useful for more advanced applications like advanced statistics and machine learning. Working in Python makes it easy to incorporate these tools into your analyses."
   ]
  },
  {
   "cell_type": "markdown",
   "metadata": {
    "editable": true,
    "slideshow": {
     "slide_type": "slide"
    },
    "tags": []
   },
   "source": [
    "### Advanced statistics\n",
    "\n",
    "The [statsmodels](https://www.statsmodels.org/stable/index.html) package provides many methods for estimating regression models, including linear regression, logistic regression, and multilevel regression. Models can be specified using formulas like `y ~ x`, similar to R."
   ]
  },
  {
   "cell_type": "markdown",
   "metadata": {
    "editable": true,
    "slideshow": {
     "slide_type": "fragment"
    },
    "tags": []
   },
   "source": [
    "The [Bambi](https://bambinos.github.io/bambi/) package helps define and estimate Bayesian multilevel models."
   ]
  },
  {
   "cell_type": "markdown",
   "metadata": {
    "editable": true,
    "slideshow": {
     "slide_type": "slide"
    },
    "tags": []
   },
   "source": [
    "### Machine learning\n",
    "\n",
    "The [scikit-learn](https://scikit-learn.org/stable/) package has tools, such as pattern classification, clustering, and dimensionality reduction, for working with high-dimensional data such as brain activity measures."
   ]
  },
  {
   "cell_type": "markdown",
   "metadata": {
    "editable": true,
    "slideshow": {
     "slide_type": "fragment"
    },
    "tags": []
   },
   "source": [
    "The [TensorFlow](https://www.tensorflow.org/) package helps to create, train, and deploy deep learning models. It also provides access to many pre-trained machine-learning models that are available on [TensorFlow Hub](https://www.tensorflow.org/hub). Deep learning models are increasingly being used in psychology research to simulate perception, learning, and decision making."
   ]
  },
  {
   "cell_type": "markdown",
   "metadata": {
    "editable": true,
    "slideshow": {
     "slide_type": "fragment"
    },
    "tags": []
   },
   "source": [
    "The [PyTorch](https://pytorch.org/) package is another popular package for creating and training deep learning models. Compared to TensorFlow, it is used more often for research and small-scale projects."
   ]
  },
  {
   "cell_type": "markdown",
   "metadata": {
    "editable": true,
    "slideshow": {
     "slide_type": "slide"
    },
    "tags": []
   },
   "source": [
    "## Summary"
   ]
  },
  {
   "cell_type": "markdown",
   "metadata": {
    "editable": true,
    "slideshow": {
     "slide_type": "fragment"
    },
    "tags": []
   },
   "source": [
    "### Python scripts\n",
    "\n",
    "Scripts are command line tools that you can run in the terminal. They make it easier to run programs that do not need to be as interactive as Jupyter notebooks. Scripts may be in standalone files or may be installed as commands."
   ]
  },
  {
   "cell_type": "markdown",
   "metadata": {
    "editable": true,
    "slideshow": {
     "slide_type": "fragment"
    },
    "tags": []
   },
   "source": [
    "### Unit tests\n",
    "\n",
    "Unit tests are automatic checks of whether code is producing expected results. They can be written one at a time using individual assert statements or collected into a test suite using tools like pytest."
   ]
  },
  {
   "cell_type": "markdown",
   "metadata": {
    "editable": true,
    "slideshow": {
     "slide_type": "fragment"
    },
    "tags": []
   },
   "source": [
    "### Debugging\n",
    "\n",
    "Debugging tools can help identify problems with functions and loops, by making it possible to inspect variables during code execution."
   ]
  },
  {
   "cell_type": "markdown",
   "metadata": {
    "editable": true,
    "slideshow": {
     "slide_type": "slide"
    },
    "tags": []
   },
   "source": [
    "### Sharing Python packages\n",
    "\n",
    "Python packages can be shared with others through the Python Package Index or version-tracking services like GitHub."
   ]
  },
  {
   "cell_type": "markdown",
   "metadata": {
    "editable": true,
    "slideshow": {
     "slide_type": "fragment"
    },
    "tags": []
   },
   "source": [
    "### Sharing notebooks\n",
    "\n",
    "Static notebooks can be shared through GitHub. Dynamic, executable notebooks can be shared through services like Binder and Google Colab."
   ]
  },
  {
   "cell_type": "markdown",
   "metadata": {
    "editable": true,
    "slideshow": {
     "slide_type": "fragment"
    },
    "tags": []
   },
   "source": [
    "### Python packages for data science\n",
    "\n",
    "Python has a large ecosystem of data science packages that include tools for advanced statistics and machine learning."
   ]
  }
 ],
 "metadata": {
  "kernelspec": {
   "display_name": "datascipsych",
   "language": "python",
   "name": "datascipsych"
  },
  "language_info": {
   "codemirror_mode": {
    "name": "ipython",
    "version": 3
   },
   "file_extension": ".py",
   "mimetype": "text/x-python",
   "name": "python",
   "nbconvert_exporter": "python",
   "pygments_lexer": "ipython3",
   "version": "3.12.8"
  }
 },
 "nbformat": 4,
 "nbformat_minor": 4
}
